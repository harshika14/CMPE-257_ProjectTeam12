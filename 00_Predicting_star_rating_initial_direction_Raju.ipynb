{
 "cells": [
  {
   "cell_type": "code",
   "execution_count": 1,
   "metadata": {},
   "outputs": [],
   "source": [
    "import pandas as pd\n",
    "import numpy as np\n",
    "import matplotlib.pyplot as plt\n",
    "import seaborn as sns"
   ]
  },
  {
   "cell_type": "code",
   "execution_count": 2,
   "metadata": {},
   "outputs": [],
   "source": [
    "ca_restaurant_reviews=pd.read_csv(\"california_restaurants.csv\")"
   ]
  },
  {
   "cell_type": "code",
   "execution_count": 3,
   "metadata": {},
   "outputs": [],
   "source": [
    "ca_restaurant_reviews=ca_restaurant_reviews.reset_index(drop = True)\n"
   ]
  },
  {
   "cell_type": "code",
   "execution_count": 4,
   "metadata": {},
   "outputs": [
    {
     "data": {
      "text/html": [
       "<div>\n",
       "<style scoped>\n",
       "    .dataframe tbody tr th:only-of-type {\n",
       "        vertical-align: middle;\n",
       "    }\n",
       "\n",
       "    .dataframe tbody tr th {\n",
       "        vertical-align: top;\n",
       "    }\n",
       "\n",
       "    .dataframe thead th {\n",
       "        text-align: right;\n",
       "    }\n",
       "</style>\n",
       "<table border=\"1\" class=\"dataframe\">\n",
       "  <thead>\n",
       "    <tr style=\"text-align: right;\">\n",
       "      <th></th>\n",
       "      <th>Unnamed: 0</th>\n",
       "      <th>business_id</th>\n",
       "      <th>name</th>\n",
       "      <th>address</th>\n",
       "      <th>city</th>\n",
       "      <th>state</th>\n",
       "      <th>postal_code</th>\n",
       "      <th>latitude</th>\n",
       "      <th>longitude</th>\n",
       "      <th>stars</th>\n",
       "      <th>review_count</th>\n",
       "      <th>is_open</th>\n",
       "      <th>attributes</th>\n",
       "      <th>categories</th>\n",
       "      <th>hours</th>\n",
       "      <th>user_id</th>\n",
       "      <th>review_stars</th>\n",
       "      <th>text</th>\n",
       "      <th>date</th>\n",
       "    </tr>\n",
       "  </thead>\n",
       "  <tbody>\n",
       "    <tr>\n",
       "      <th>0</th>\n",
       "      <td>2456</td>\n",
       "      <td>IDtLPgUrqorrpqSLdfMhZQ</td>\n",
       "      <td>Helena Avenue Bakery</td>\n",
       "      <td>131 Anacapa St, Ste C</td>\n",
       "      <td>Santa Barbara</td>\n",
       "      <td>CA</td>\n",
       "      <td>93101</td>\n",
       "      <td>34.414445</td>\n",
       "      <td>-119.690672</td>\n",
       "      <td>4.0</td>\n",
       "      <td>389</td>\n",
       "      <td>1</td>\n",
       "      <td>{'RestaurantsTakeOut': 'True', 'NoiseLevel': \"...</td>\n",
       "      <td>Restaurants</td>\n",
       "      <td>{'Monday': '0:0-0:0', 'Tuesday': '8:0-14:0', '...</td>\n",
       "      <td>bFPdtzu11Oi0f92EAcjqmg</td>\n",
       "      <td>5</td>\n",
       "      <td>What a great addition to the Funk Zone!  Grab ...</td>\n",
       "      <td>2016-10-13 22:50:47</td>\n",
       "    </tr>\n",
       "  </tbody>\n",
       "</table>\n",
       "</div>"
      ],
      "text/plain": [
       "   Unnamed: 0             business_id                  name  \\\n",
       "0        2456  IDtLPgUrqorrpqSLdfMhZQ  Helena Avenue Bakery   \n",
       "\n",
       "                 address           city state  postal_code   latitude  \\\n",
       "0  131 Anacapa St, Ste C  Santa Barbara    CA        93101  34.414445   \n",
       "\n",
       "    longitude  stars  review_count  is_open  \\\n",
       "0 -119.690672    4.0           389        1   \n",
       "\n",
       "                                          attributes   categories  \\\n",
       "0  {'RestaurantsTakeOut': 'True', 'NoiseLevel': \"...  Restaurants   \n",
       "\n",
       "                                               hours                 user_id  \\\n",
       "0  {'Monday': '0:0-0:0', 'Tuesday': '8:0-14:0', '...  bFPdtzu11Oi0f92EAcjqmg   \n",
       "\n",
       "   review_stars                                               text  \\\n",
       "0             5  What a great addition to the Funk Zone!  Grab ...   \n",
       "\n",
       "                  date  \n",
       "0  2016-10-13 22:50:47  "
      ]
     },
     "execution_count": 4,
     "metadata": {},
     "output_type": "execute_result"
    }
   ],
   "source": [
    "ca_restaurant_reviews.head(1)"
   ]
  },
  {
   "cell_type": "code",
   "execution_count": 5,
   "metadata": {},
   "outputs": [],
   "source": [
    "import nltk\n",
    "from nltk.corpus import stopwords\n",
    "from tqdm import tqdm\n",
    "from tqdm import tqdm_notebook\n",
    "\n",
    "from collections import Counter"
   ]
  },
  {
   "cell_type": "code",
   "execution_count": 6,
   "metadata": {},
   "outputs": [],
   "source": [
    "import string\n",
    "def clean_text(sample_review):\n",
    "    stopwords = nltk.corpus.stopwords.words('english')\n",
    "    newStopWords = ['ive','hadnt','couldnt','didnt', 'id'] \n",
    "    stopwords.extend(newStopWords)\n",
    "    text = sample_review\n",
    "\n",
    "    text = text[2: len(sample_review)-1].lower()\n",
    "    text = text.replace('\\\\n', ' ').replace('\\\\t', ' ')\n",
    "    nopunc = [char for char in text if char not in string.punctuation]\n",
    "    nopunc = ''.join(nopunc)\n",
    "\n",
    "    \n",
    "    l = [word for word in nopunc.split() if word.lower() not in stopwords]\n",
    "    clean_text = \"\"\n",
    "    for word in l:\n",
    "        clean_text += str(word)+\" \"\n",
    "    \n",
    "    return clean_text.strip()"
   ]
  },
  {
   "cell_type": "code",
   "execution_count": 7,
   "metadata": {},
   "outputs": [
    {
     "data": {
      "text/plain": [
       "'place short walk hotel wonderful find awesome ambiance pleasant service lemon blueberry scone best ever anywhere full berries ham cheese croissant delicious took fresh made bread us take wine tasting later afternoon also noticed located near figueroa mountain brewing co perfect want sandwich beer'"
      ]
     },
     "metadata": {},
     "output_type": "display_data"
    }
   ],
   "source": [
    "sample_review = ca_restaurant_reviews.text[20]\n",
    "display(clean_text(sample_review))"
   ]
  },
  {
   "cell_type": "code",
   "execution_count": 8,
   "metadata": {},
   "outputs": [],
   "source": [
    "import string\n",
    "def get_words(text):\n",
    "\n",
    "    stopwords = nltk.corpus.stopwords.words('english')\n",
    "    newStopWords = ['ive','hadnt','couldnt','didnt', 'id'] \n",
    "    stopwords.extend(newStopWords)\n",
    "    text = text[2: len(sample_review)-1].lower()  \n",
    "    text = text.replace('\\\\n', ' ').replace('\\\\t', ' ')\n",
    "    display(text)\n",
    "    nopunc = [char for char in text if char not in string.punctuation]\n",
    "    nopunc = ''.join(nopunc)\n",
    "    \n",
    "    display(nopunc)\n",
    "    \n",
    "    l = [word for word in nopunc.split() if word.lower() not in stopwords]\n",
    "    \n",
    "    return l, len(l)"
   ]
  },
  {
   "cell_type": "code",
   "execution_count": 9,
   "metadata": {},
   "outputs": [
    {
     "data": {
      "text/plain": [
       "'at a great addition to the funk zone!  grab a bite, grab some tastings, life is good. right next door to the santa barbara wine collective, in fact it actually shares the same tables.  we had a fabulous savory croissant'"
      ]
     },
     "metadata": {},
     "output_type": "display_data"
    },
    {
     "data": {
      "text/plain": [
       "'at a great addition to the funk zone  grab a bite grab some tastings life is good right next door to the santa barbara wine collective in fact it actually shares the same tables  we had a fabulous savory croissant'"
      ]
     },
     "metadata": {},
     "output_type": "display_data"
    },
    {
     "data": {
      "text/plain": [
       "['great',\n",
       " 'addition',\n",
       " 'funk',\n",
       " 'zone',\n",
       " 'grab',\n",
       " 'bite',\n",
       " 'grab',\n",
       " 'tastings',\n",
       " 'life',\n",
       " 'good',\n",
       " 'right',\n",
       " 'next',\n",
       " 'door',\n",
       " 'santa',\n",
       " 'barbara',\n",
       " 'wine',\n",
       " 'collective',\n",
       " 'fact',\n",
       " 'actually',\n",
       " 'shares',\n",
       " 'tables',\n",
       " 'fabulous',\n",
       " 'savory',\n",
       " 'croissant']"
      ]
     },
     "metadata": {},
     "output_type": "display_data"
    }
   ],
   "source": [
    "for i in range(1):\n",
    "    sample_review = str(ca_restaurant_reviews.text[i])\n",
    "    check = get_words(sample_review)\n",
    "    display(check[0])"
   ]
  },
  {
   "cell_type": "code",
   "execution_count": 10,
   "metadata": {},
   "outputs": [
    {
     "data": {
      "text/html": [
       "<div>\n",
       "<style scoped>\n",
       "    .dataframe tbody tr th:only-of-type {\n",
       "        vertical-align: middle;\n",
       "    }\n",
       "\n",
       "    .dataframe tbody tr th {\n",
       "        vertical-align: top;\n",
       "    }\n",
       "\n",
       "    .dataframe thead th {\n",
       "        text-align: right;\n",
       "    }\n",
       "</style>\n",
       "<table border=\"1\" class=\"dataframe\">\n",
       "  <thead>\n",
       "    <tr style=\"text-align: right;\">\n",
       "      <th></th>\n",
       "      <th>Unnamed: 0</th>\n",
       "      <th>postal_code</th>\n",
       "      <th>latitude</th>\n",
       "      <th>longitude</th>\n",
       "      <th>stars</th>\n",
       "      <th>review_count</th>\n",
       "      <th>is_open</th>\n",
       "      <th>review_stars</th>\n",
       "    </tr>\n",
       "  </thead>\n",
       "  <tbody>\n",
       "    <tr>\n",
       "      <th>count</th>\n",
       "      <td>2.05e+05</td>\n",
       "      <td>205464.00</td>\n",
       "      <td>205464.00</td>\n",
       "      <td>205464.00</td>\n",
       "      <td>205464.00</td>\n",
       "      <td>205464.00</td>\n",
       "      <td>205464.00</td>\n",
       "      <td>205464.00</td>\n",
       "    </tr>\n",
       "    <tr>\n",
       "      <th>mean</th>\n",
       "      <td>2.36e+06</td>\n",
       "      <td>93101.13</td>\n",
       "      <td>34.42</td>\n",
       "      <td>-119.72</td>\n",
       "      <td>3.95</td>\n",
       "      <td>667.85</td>\n",
       "      <td>0.81</td>\n",
       "      <td>3.95</td>\n",
       "    </tr>\n",
       "    <tr>\n",
       "      <th>std</th>\n",
       "      <td>1.34e+06</td>\n",
       "      <td>41.12</td>\n",
       "      <td>0.06</td>\n",
       "      <td>0.08</td>\n",
       "      <td>0.51</td>\n",
       "      <td>736.33</td>\n",
       "      <td>0.39</td>\n",
       "      <td>1.34</td>\n",
       "    </tr>\n",
       "    <tr>\n",
       "      <th>min</th>\n",
       "      <td>2.46e+03</td>\n",
       "      <td>93013.00</td>\n",
       "      <td>34.39</td>\n",
       "      <td>-120.08</td>\n",
       "      <td>1.50</td>\n",
       "      <td>5.00</td>\n",
       "      <td>0.00</td>\n",
       "      <td>1.00</td>\n",
       "    </tr>\n",
       "    <tr>\n",
       "      <th>25%</th>\n",
       "      <td>1.23e+06</td>\n",
       "      <td>93101.00</td>\n",
       "      <td>34.41</td>\n",
       "      <td>-119.74</td>\n",
       "      <td>3.50</td>\n",
       "      <td>200.00</td>\n",
       "      <td>1.00</td>\n",
       "      <td>3.00</td>\n",
       "    </tr>\n",
       "    <tr>\n",
       "      <th>50%</th>\n",
       "      <td>2.39e+06</td>\n",
       "      <td>93101.00</td>\n",
       "      <td>34.42</td>\n",
       "      <td>-119.70</td>\n",
       "      <td>4.00</td>\n",
       "      <td>405.00</td>\n",
       "      <td>1.00</td>\n",
       "      <td>4.00</td>\n",
       "    </tr>\n",
       "    <tr>\n",
       "      <th>75%</th>\n",
       "      <td>3.63e+06</td>\n",
       "      <td>93109.00</td>\n",
       "      <td>34.43</td>\n",
       "      <td>-119.69</td>\n",
       "      <td>4.50</td>\n",
       "      <td>885.00</td>\n",
       "      <td>1.00</td>\n",
       "      <td>5.00</td>\n",
       "    </tr>\n",
       "    <tr>\n",
       "      <th>max</th>\n",
       "      <td>4.56e+06</td>\n",
       "      <td>96161.00</td>\n",
       "      <td>39.38</td>\n",
       "      <td>-119.51</td>\n",
       "      <td>5.00</td>\n",
       "      <td>3834.00</td>\n",
       "      <td>1.00</td>\n",
       "      <td>5.00</td>\n",
       "    </tr>\n",
       "  </tbody>\n",
       "</table>\n",
       "</div>"
      ],
      "text/plain": [
       "       Unnamed: 0  postal_code   latitude  longitude      stars  review_count  \\\n",
       "count    2.05e+05    205464.00  205464.00  205464.00  205464.00     205464.00   \n",
       "mean     2.36e+06     93101.13      34.42    -119.72       3.95        667.85   \n",
       "std      1.34e+06        41.12       0.06       0.08       0.51        736.33   \n",
       "min      2.46e+03     93013.00      34.39    -120.08       1.50          5.00   \n",
       "25%      1.23e+06     93101.00      34.41    -119.74       3.50        200.00   \n",
       "50%      2.39e+06     93101.00      34.42    -119.70       4.00        405.00   \n",
       "75%      3.63e+06     93109.00      34.43    -119.69       4.50        885.00   \n",
       "max      4.56e+06     96161.00      39.38    -119.51       5.00       3834.00   \n",
       "\n",
       "         is_open  review_stars  \n",
       "count  205464.00     205464.00  \n",
       "mean        0.81          3.95  \n",
       "std         0.39          1.34  \n",
       "min         0.00          1.00  \n",
       "25%         1.00          3.00  \n",
       "50%         1.00          4.00  \n",
       "75%         1.00          5.00  \n",
       "max         1.00          5.00  "
      ]
     },
     "execution_count": 10,
     "metadata": {},
     "output_type": "execute_result"
    }
   ],
   "source": [
    "pd.set_option('display.precision', 2)\n",
    "ca_restaurant_reviews.describe()"
   ]
  },
  {
   "cell_type": "code",
   "execution_count": 11,
   "metadata": {},
   "outputs": [
    {
     "name": "stdout",
     "output_type": "stream",
     "text": [
      "5    102470\n",
      "4     45823\n",
      "3     21149\n",
      "1     20272\n",
      "2     15750\n",
      "Name: review_stars, dtype: int64\n"
     ]
    },
    {
     "data": {
      "text/plain": [
       "pandas.core.series.Series"
      ]
     },
     "execution_count": 11,
     "metadata": {},
     "output_type": "execute_result"
    }
   ],
   "source": [
    "print(ca_restaurant_reviews[\"review_stars\"].value_counts())\n",
    "type(ca_restaurant_reviews[\"review_stars\"].value_counts())"
   ]
  },
  {
   "cell_type": "code",
   "execution_count": 12,
   "metadata": {},
   "outputs": [
    {
     "data": {
      "image/png": "[encoded data removed]",
      "text/plain": [
       "<Figure size 640x480 with 1 Axes>"
      ]
     },
     "metadata": {},
     "output_type": "display_data"
    }
   ],
   "source": [
    "labels = \"5 stars\",\"4 Stars\", \"3 Stars\",\"1 Star\",\"2 Stars\"\n",
    "sizes = ca_restaurant_reviews[\"review_stars\"].value_counts()\n",
    "colors = ['lightpink', 'yellowgreen', 'orange', 'lightskyblue','green']\n",
    " \n",
    "# Plot\n",
    "plt.pie(sizes, labels=labels,colors =colors, autopct='%1.1f%%') \n",
    "# plt.axis('equal')\n",
    "plt.show()"
   ]
  },
  {
   "cell_type": "code",
   "execution_count": 13,
   "metadata": {},
   "outputs": [],
   "source": [
    "from tqdm import tqdm"
   ]
  },
  {
   "cell_type": "code",
   "execution_count": 14,
   "metadata": {},
   "outputs": [
    {
     "name": "stderr",
     "output_type": "stream",
     "text": [
      "100%|█████████▉| 205464/205465 [01:09<00:00, 2963.59it/s]\n"
     ]
    }
   ],
   "source": [
    "texts = []\n",
    "stars = [ca_restaurant_reviews['review_stars'] for review in ca_restaurant_reviews]\n",
    "pbar = tqdm(total=ca_restaurant_reviews.shape[0]+1)\n",
    "for index, row in ca_restaurant_reviews.iterrows():\n",
    "    texts.append(clean_text(row['text']))\n",
    "    pbar.update(1)\n",
    "pbar.close()"
   ]
  },
  {
   "cell_type": "code",
   "execution_count": 15,
   "metadata": {},
   "outputs": [
    {
     "name": "stdout",
     "output_type": "stream",
     "text": [
      "Wall time: 1min 7s\n"
     ]
    }
   ],
   "source": [
    "%%time\n",
    "from sklearn.feature_extraction.text import TfidfVectorizer\n",
    "vectorizer = TfidfVectorizer(ngram_range=(1,3))\n",
    "vectors = vectorizer.fit_transform(texts)"
   ]
  },
  {
   "cell_type": "code",
   "execution_count": 16,
   "metadata": {},
   "outputs": [],
   "source": [
    "from sklearn.model_selection import train_test_split\n",
    "X_train, X_test, y_train, y_test = train_test_split(vectors, stars[1], test_size=0.15, random_state=42, shuffle =False)"
   ]
  },
  {
   "cell_type": "code",
   "execution_count": 17,
   "metadata": {},
   "outputs": [
    {
     "name": "stdout",
     "output_type": "stream",
     "text": [
      "Wall time: 51.1 s\n"
     ]
    },
    {
     "data": {
      "text/plain": [
       "LinearSVC()"
      ]
     },
     "execution_count": 17,
     "metadata": {},
     "output_type": "execute_result"
    }
   ],
   "source": [
    "%%time\n",
    "from sklearn.svm import LinearSVC\n",
    "classifier = LinearSVC()\n",
    "\n",
    "classifier.fit(X_train, y_train)"
   ]
  },
  {
   "cell_type": "code",
   "execution_count": 18,
   "metadata": {},
   "outputs": [
    {
     "name": "stdout",
     "output_type": "stream",
     "text": [
      "Actual Ratings(Stars): "
     ]
    },
    {
     "data": {
      "text/plain": [
       "174644    5\n",
       "174645    3\n",
       "174646    5\n",
       "174647    4\n",
       "174648    4\n",
       "Name: review_stars, dtype: int64"
      ]
     },
     "metadata": {},
     "output_type": "display_data"
    },
    {
     "name": "stdout",
     "output_type": "stream",
     "text": [
      "Predicted Ratings: [5 5 5 5 4]\n"
     ]
    }
   ],
   "source": [
    "preds = classifier.predict(X_test)\n",
    "print(\"Actual Ratings(Stars): \",end = \"\")\n",
    "display(y_test[:5])\n",
    "print(\"Predicted Ratings: \",end = \"\")\n",
    "print(preds[:5])"
   ]
  },
  {
   "cell_type": "code",
   "execution_count": 19,
   "metadata": {},
   "outputs": [],
   "source": [
    "X_null, X_full_test, y_null, y_full_test = train_test_split(vectors, stars[1], test_size=0.999995, random_state=42, shuffle = False)\n",
    "predict_all = classifier.predict(X_full_test)"
   ]
  },
  {
   "cell_type": "code",
   "execution_count": 20,
   "metadata": {},
   "outputs": [
    {
     "name": "stdout",
     "output_type": "stream",
     "text": [
      "Actual Ratings(Stars): \n",
      "154731    1\n",
      "154732    3\n",
      "154733    3\n",
      "154734    4\n",
      "154735    2\n",
      "154736    3\n",
      "Name: review_stars, dtype: int64\n",
      "\n",
      "Predicted Ratings: [1, 3, 3, 4, 2, 3]\n"
     ]
    }
   ],
   "source": [
    "predicted_stars = list(predict_all)\n",
    "\n",
    "print(\"Actual Ratings(Stars): \")\n",
    "print(y_full_test[154730:154736])\n",
    "print(\"\\nPredicted Ratings: \",end = \"\")\n",
    "print(predicted_stars[154730:154736])"
   ]
  },
  {
   "cell_type": "code",
   "execution_count": 21,
   "metadata": {},
   "outputs": [
    {
     "data": {
      "text/plain": [
       "(205464, 19)"
      ]
     },
     "execution_count": 21,
     "metadata": {},
     "output_type": "execute_result"
    }
   ],
   "source": [
    "ca_restaurant_reviews.shape"
   ]
  },
  {
   "cell_type": "code",
   "execution_count": 22,
   "metadata": {},
   "outputs": [],
   "source": [
    "predicted_stars.append(3)"
   ]
  },
  {
   "cell_type": "code",
   "execution_count": 23,
   "metadata": {},
   "outputs": [
    {
     "name": "stdout",
     "output_type": "stream",
     "text": [
      "\n",
      "Original Reviews (with user bias)\n"
     ]
    },
    {
     "data": {
      "text/html": [
       "<div>\n",
       "<style scoped>\n",
       "    .dataframe tbody tr th:only-of-type {\n",
       "        vertical-align: middle;\n",
       "    }\n",
       "\n",
       "    .dataframe tbody tr th {\n",
       "        vertical-align: top;\n",
       "    }\n",
       "\n",
       "    .dataframe thead th {\n",
       "        text-align: right;\n",
       "    }\n",
       "</style>\n",
       "<table border=\"1\" class=\"dataframe\">\n",
       "  <thead>\n",
       "    <tr style=\"text-align: right;\">\n",
       "      <th></th>\n",
       "      <th>Unnamed: 0</th>\n",
       "      <th>business_id</th>\n",
       "      <th>name</th>\n",
       "      <th>address</th>\n",
       "      <th>city</th>\n",
       "      <th>state</th>\n",
       "      <th>postal_code</th>\n",
       "      <th>latitude</th>\n",
       "      <th>longitude</th>\n",
       "      <th>stars</th>\n",
       "      <th>review_count</th>\n",
       "      <th>is_open</th>\n",
       "      <th>attributes</th>\n",
       "      <th>categories</th>\n",
       "      <th>hours</th>\n",
       "      <th>user_id</th>\n",
       "      <th>review_stars</th>\n",
       "      <th>text</th>\n",
       "      <th>date</th>\n",
       "    </tr>\n",
       "  </thead>\n",
       "  <tbody>\n",
       "    <tr>\n",
       "      <th>205454</th>\n",
       "      <td>4559987</td>\n",
       "      <td>uriD7RFuHhLJeDdKaf0nFA</td>\n",
       "      <td>Pizza Guru</td>\n",
       "      <td>3534 State St</td>\n",
       "      <td>Santa Barbara</td>\n",
       "      <td>CA</td>\n",
       "      <td>93105</td>\n",
       "      <td>34.44</td>\n",
       "      <td>-119.74</td>\n",
       "      <td>4.0</td>\n",
       "      <td>299</td>\n",
       "      <td>0</td>\n",
       "      <td>{'NoiseLevel': \"u'average'\", 'RestaurantsGoodF...</td>\n",
       "      <td>Restaurants</td>\n",
       "      <td>{'Monday': '15:0-21:0', 'Tuesday': '15:0-21:0'...</td>\n",
       "      <td>qW-Q3krGy2FgY1ouN0znjQ</td>\n",
       "      <td>5</td>\n",
       "      <td>Santa Barbara has lots of good pizza. \\nThis o...</td>\n",
       "      <td>2018-10-18 20:35:16</td>\n",
       "    </tr>\n",
       "    <tr>\n",
       "      <th>205455</th>\n",
       "      <td>4559988</td>\n",
       "      <td>uriD7RFuHhLJeDdKaf0nFA</td>\n",
       "      <td>Pizza Guru</td>\n",
       "      <td>3534 State St</td>\n",
       "      <td>Santa Barbara</td>\n",
       "      <td>CA</td>\n",
       "      <td>93105</td>\n",
       "      <td>34.44</td>\n",
       "      <td>-119.74</td>\n",
       "      <td>4.0</td>\n",
       "      <td>299</td>\n",
       "      <td>0</td>\n",
       "      <td>{'NoiseLevel': \"u'average'\", 'RestaurantsGoodF...</td>\n",
       "      <td>Restaurants</td>\n",
       "      <td>{'Monday': '15:0-21:0', 'Tuesday': '15:0-21:0'...</td>\n",
       "      <td>X0NlTMV_-DNpGM0sPFa_cA</td>\n",
       "      <td>5</td>\n",
       "      <td>Great pizza with good beer. Stopped in and we ...</td>\n",
       "      <td>2015-05-02 22:25:45</td>\n",
       "    </tr>\n",
       "    <tr>\n",
       "      <th>205456</th>\n",
       "      <td>4559989</td>\n",
       "      <td>uriD7RFuHhLJeDdKaf0nFA</td>\n",
       "      <td>Pizza Guru</td>\n",
       "      <td>3534 State St</td>\n",
       "      <td>Santa Barbara</td>\n",
       "      <td>CA</td>\n",
       "      <td>93105</td>\n",
       "      <td>34.44</td>\n",
       "      <td>-119.74</td>\n",
       "      <td>4.0</td>\n",
       "      <td>299</td>\n",
       "      <td>0</td>\n",
       "      <td>{'NoiseLevel': \"u'average'\", 'RestaurantsGoodF...</td>\n",
       "      <td>Restaurants</td>\n",
       "      <td>{'Monday': '15:0-21:0', 'Tuesday': '15:0-21:0'...</td>\n",
       "      <td>_ymxPyUR2_tuoPJP8t67gQ</td>\n",
       "      <td>1</td>\n",
       "      <td>forgot to write a review until now- didn't hav...</td>\n",
       "      <td>2013-09-16 12:11:56</td>\n",
       "    </tr>\n",
       "    <tr>\n",
       "      <th>205457</th>\n",
       "      <td>4559990</td>\n",
       "      <td>uriD7RFuHhLJeDdKaf0nFA</td>\n",
       "      <td>Pizza Guru</td>\n",
       "      <td>3534 State St</td>\n",
       "      <td>Santa Barbara</td>\n",
       "      <td>CA</td>\n",
       "      <td>93105</td>\n",
       "      <td>34.44</td>\n",
       "      <td>-119.74</td>\n",
       "      <td>4.0</td>\n",
       "      <td>299</td>\n",
       "      <td>0</td>\n",
       "      <td>{'NoiseLevel': \"u'average'\", 'RestaurantsGoodF...</td>\n",
       "      <td>Restaurants</td>\n",
       "      <td>{'Monday': '15:0-21:0', 'Tuesday': '15:0-21:0'...</td>\n",
       "      <td>avcQbkVRQ0skWZS1rkoAQg</td>\n",
       "      <td>4</td>\n",
       "      <td>Solid pizza and beer at Pizza Guru.  I choose ...</td>\n",
       "      <td>2018-07-22 13:31:09</td>\n",
       "    </tr>\n",
       "    <tr>\n",
       "      <th>205458</th>\n",
       "      <td>4559991</td>\n",
       "      <td>uriD7RFuHhLJeDdKaf0nFA</td>\n",
       "      <td>Pizza Guru</td>\n",
       "      <td>3534 State St</td>\n",
       "      <td>Santa Barbara</td>\n",
       "      <td>CA</td>\n",
       "      <td>93105</td>\n",
       "      <td>34.44</td>\n",
       "      <td>-119.74</td>\n",
       "      <td>4.0</td>\n",
       "      <td>299</td>\n",
       "      <td>0</td>\n",
       "      <td>{'NoiseLevel': \"u'average'\", 'RestaurantsGoodF...</td>\n",
       "      <td>Restaurants</td>\n",
       "      <td>{'Monday': '15:0-21:0', 'Tuesday': '15:0-21:0'...</td>\n",
       "      <td>agYoN0HOl6KBkAkIZaJmFg</td>\n",
       "      <td>3</td>\n",
       "      <td>3.4 star review. Nice concept. I like the loca...</td>\n",
       "      <td>2014-12-14 16:41:07</td>\n",
       "    </tr>\n",
       "    <tr>\n",
       "      <th>205459</th>\n",
       "      <td>4559992</td>\n",
       "      <td>uriD7RFuHhLJeDdKaf0nFA</td>\n",
       "      <td>Pizza Guru</td>\n",
       "      <td>3534 State St</td>\n",
       "      <td>Santa Barbara</td>\n",
       "      <td>CA</td>\n",
       "      <td>93105</td>\n",
       "      <td>34.44</td>\n",
       "      <td>-119.74</td>\n",
       "      <td>4.0</td>\n",
       "      <td>299</td>\n",
       "      <td>0</td>\n",
       "      <td>{'NoiseLevel': \"u'average'\", 'RestaurantsGoodF...</td>\n",
       "      <td>Restaurants</td>\n",
       "      <td>{'Monday': '15:0-21:0', 'Tuesday': '15:0-21:0'...</td>\n",
       "      <td>o72LSEPHKu1oQcpXeIVlag</td>\n",
       "      <td>5</td>\n",
       "      <td>This is one of my new favorite pizza joints he...</td>\n",
       "      <td>2015-04-11 04:43:19</td>\n",
       "    </tr>\n",
       "    <tr>\n",
       "      <th>205460</th>\n",
       "      <td>4559993</td>\n",
       "      <td>uriD7RFuHhLJeDdKaf0nFA</td>\n",
       "      <td>Pizza Guru</td>\n",
       "      <td>3534 State St</td>\n",
       "      <td>Santa Barbara</td>\n",
       "      <td>CA</td>\n",
       "      <td>93105</td>\n",
       "      <td>34.44</td>\n",
       "      <td>-119.74</td>\n",
       "      <td>4.0</td>\n",
       "      <td>299</td>\n",
       "      <td>0</td>\n",
       "      <td>{'NoiseLevel': \"u'average'\", 'RestaurantsGoodF...</td>\n",
       "      <td>Restaurants</td>\n",
       "      <td>{'Monday': '15:0-21:0', 'Tuesday': '15:0-21:0'...</td>\n",
       "      <td>u30sv3s4V2tz5VOgNQYtgg</td>\n",
       "      <td>4</td>\n",
       "      <td>Ordered vegan chicken and Daiya cheese and onl...</td>\n",
       "      <td>2015-05-26 15:27:36</td>\n",
       "    </tr>\n",
       "    <tr>\n",
       "      <th>205461</th>\n",
       "      <td>4559994</td>\n",
       "      <td>uriD7RFuHhLJeDdKaf0nFA</td>\n",
       "      <td>Pizza Guru</td>\n",
       "      <td>3534 State St</td>\n",
       "      <td>Santa Barbara</td>\n",
       "      <td>CA</td>\n",
       "      <td>93105</td>\n",
       "      <td>34.44</td>\n",
       "      <td>-119.74</td>\n",
       "      <td>4.0</td>\n",
       "      <td>299</td>\n",
       "      <td>0</td>\n",
       "      <td>{'NoiseLevel': \"u'average'\", 'RestaurantsGoodF...</td>\n",
       "      <td>Restaurants</td>\n",
       "      <td>{'Monday': '15:0-21:0', 'Tuesday': '15:0-21:0'...</td>\n",
       "      <td>Mp97BPH2Y7O1DsFt6wFp4Q</td>\n",
       "      <td>1</td>\n",
       "      <td>This was the worst pizza I've ever had ever ea...</td>\n",
       "      <td>2019-07-08 19:27:04</td>\n",
       "    </tr>\n",
       "    <tr>\n",
       "      <th>205462</th>\n",
       "      <td>4559995</td>\n",
       "      <td>uriD7RFuHhLJeDdKaf0nFA</td>\n",
       "      <td>Pizza Guru</td>\n",
       "      <td>3534 State St</td>\n",
       "      <td>Santa Barbara</td>\n",
       "      <td>CA</td>\n",
       "      <td>93105</td>\n",
       "      <td>34.44</td>\n",
       "      <td>-119.74</td>\n",
       "      <td>4.0</td>\n",
       "      <td>299</td>\n",
       "      <td>0</td>\n",
       "      <td>{'NoiseLevel': \"u'average'\", 'RestaurantsGoodF...</td>\n",
       "      <td>Restaurants</td>\n",
       "      <td>{'Monday': '15:0-21:0', 'Tuesday': '15:0-21:0'...</td>\n",
       "      <td>06egjh3nrEb7EXX1VYZOCg</td>\n",
       "      <td>5</td>\n",
       "      <td>One of the best pizzas in SB....seriously!!!\\n...</td>\n",
       "      <td>2014-07-07 18:40:39</td>\n",
       "    </tr>\n",
       "    <tr>\n",
       "      <th>205463</th>\n",
       "      <td>4559996</td>\n",
       "      <td>uriD7RFuHhLJeDdKaf0nFA</td>\n",
       "      <td>Pizza Guru</td>\n",
       "      <td>3534 State St</td>\n",
       "      <td>Santa Barbara</td>\n",
       "      <td>CA</td>\n",
       "      <td>93105</td>\n",
       "      <td>34.44</td>\n",
       "      <td>-119.74</td>\n",
       "      <td>4.0</td>\n",
       "      <td>299</td>\n",
       "      <td>0</td>\n",
       "      <td>{'NoiseLevel': \"u'average'\", 'RestaurantsGoodF...</td>\n",
       "      <td>Restaurants</td>\n",
       "      <td>{'Monday': '15:0-21:0', 'Tuesday': '15:0-21:0'...</td>\n",
       "      <td>vTjt5vVDuW-Xu1Z_tfraTQ</td>\n",
       "      <td>5</td>\n",
       "      <td>We wanted a calzone and it was getting around ...</td>\n",
       "      <td>2016-11-06 05:15:44</td>\n",
       "    </tr>\n",
       "  </tbody>\n",
       "</table>\n",
       "</div>"
      ],
      "text/plain": [
       "        Unnamed: 0             business_id        name        address  \\\n",
       "205454     4559987  uriD7RFuHhLJeDdKaf0nFA  Pizza Guru  3534 State St   \n",
       "205455     4559988  uriD7RFuHhLJeDdKaf0nFA  Pizza Guru  3534 State St   \n",
       "205456     4559989  uriD7RFuHhLJeDdKaf0nFA  Pizza Guru  3534 State St   \n",
       "205457     4559990  uriD7RFuHhLJeDdKaf0nFA  Pizza Guru  3534 State St   \n",
       "205458     4559991  uriD7RFuHhLJeDdKaf0nFA  Pizza Guru  3534 State St   \n",
       "205459     4559992  uriD7RFuHhLJeDdKaf0nFA  Pizza Guru  3534 State St   \n",
       "205460     4559993  uriD7RFuHhLJeDdKaf0nFA  Pizza Guru  3534 State St   \n",
       "205461     4559994  uriD7RFuHhLJeDdKaf0nFA  Pizza Guru  3534 State St   \n",
       "205462     4559995  uriD7RFuHhLJeDdKaf0nFA  Pizza Guru  3534 State St   \n",
       "205463     4559996  uriD7RFuHhLJeDdKaf0nFA  Pizza Guru  3534 State St   \n",
       "\n",
       "                 city state  postal_code  latitude  longitude  stars  \\\n",
       "205454  Santa Barbara    CA        93105     34.44    -119.74    4.0   \n",
       "205455  Santa Barbara    CA        93105     34.44    -119.74    4.0   \n",
       "205456  Santa Barbara    CA        93105     34.44    -119.74    4.0   \n",
       "205457  Santa Barbara    CA        93105     34.44    -119.74    4.0   \n",
       "205458  Santa Barbara    CA        93105     34.44    -119.74    4.0   \n",
       "205459  Santa Barbara    CA        93105     34.44    -119.74    4.0   \n",
       "205460  Santa Barbara    CA        93105     34.44    -119.74    4.0   \n",
       "205461  Santa Barbara    CA        93105     34.44    -119.74    4.0   \n",
       "205462  Santa Barbara    CA        93105     34.44    -119.74    4.0   \n",
       "205463  Santa Barbara    CA        93105     34.44    -119.74    4.0   \n",
       "\n",
       "        review_count  is_open  \\\n",
       "205454           299        0   \n",
       "205455           299        0   \n",
       "205456           299        0   \n",
       "205457           299        0   \n",
       "205458           299        0   \n",
       "205459           299        0   \n",
       "205460           299        0   \n",
       "205461           299        0   \n",
       "205462           299        0   \n",
       "205463           299        0   \n",
       "\n",
       "                                               attributes   categories  \\\n",
       "205454  {'NoiseLevel': \"u'average'\", 'RestaurantsGoodF...  Restaurants   \n",
       "205455  {'NoiseLevel': \"u'average'\", 'RestaurantsGoodF...  Restaurants   \n",
       "205456  {'NoiseLevel': \"u'average'\", 'RestaurantsGoodF...  Restaurants   \n",
       "205457  {'NoiseLevel': \"u'average'\", 'RestaurantsGoodF...  Restaurants   \n",
       "205458  {'NoiseLevel': \"u'average'\", 'RestaurantsGoodF...  Restaurants   \n",
       "205459  {'NoiseLevel': \"u'average'\", 'RestaurantsGoodF...  Restaurants   \n",
       "205460  {'NoiseLevel': \"u'average'\", 'RestaurantsGoodF...  Restaurants   \n",
       "205461  {'NoiseLevel': \"u'average'\", 'RestaurantsGoodF...  Restaurants   \n",
       "205462  {'NoiseLevel': \"u'average'\", 'RestaurantsGoodF...  Restaurants   \n",
       "205463  {'NoiseLevel': \"u'average'\", 'RestaurantsGoodF...  Restaurants   \n",
       "\n",
       "                                                    hours  \\\n",
       "205454  {'Monday': '15:0-21:0', 'Tuesday': '15:0-21:0'...   \n",
       "205455  {'Monday': '15:0-21:0', 'Tuesday': '15:0-21:0'...   \n",
       "205456  {'Monday': '15:0-21:0', 'Tuesday': '15:0-21:0'...   \n",
       "205457  {'Monday': '15:0-21:0', 'Tuesday': '15:0-21:0'...   \n",
       "205458  {'Monday': '15:0-21:0', 'Tuesday': '15:0-21:0'...   \n",
       "205459  {'Monday': '15:0-21:0', 'Tuesday': '15:0-21:0'...   \n",
       "205460  {'Monday': '15:0-21:0', 'Tuesday': '15:0-21:0'...   \n",
       "205461  {'Monday': '15:0-21:0', 'Tuesday': '15:0-21:0'...   \n",
       "205462  {'Monday': '15:0-21:0', 'Tuesday': '15:0-21:0'...   \n",
       "205463  {'Monday': '15:0-21:0', 'Tuesday': '15:0-21:0'...   \n",
       "\n",
       "                       user_id  review_stars  \\\n",
       "205454  qW-Q3krGy2FgY1ouN0znjQ             5   \n",
       "205455  X0NlTMV_-DNpGM0sPFa_cA             5   \n",
       "205456  _ymxPyUR2_tuoPJP8t67gQ             1   \n",
       "205457  avcQbkVRQ0skWZS1rkoAQg             4   \n",
       "205458  agYoN0HOl6KBkAkIZaJmFg             3   \n",
       "205459  o72LSEPHKu1oQcpXeIVlag             5   \n",
       "205460  u30sv3s4V2tz5VOgNQYtgg             4   \n",
       "205461  Mp97BPH2Y7O1DsFt6wFp4Q             1   \n",
       "205462  06egjh3nrEb7EXX1VYZOCg             5   \n",
       "205463  vTjt5vVDuW-Xu1Z_tfraTQ             5   \n",
       "\n",
       "                                                     text                 date  \n",
       "205454  Santa Barbara has lots of good pizza. \\nThis o...  2018-10-18 20:35:16  \n",
       "205455  Great pizza with good beer. Stopped in and we ...  2015-05-02 22:25:45  \n",
       "205456  forgot to write a review until now- didn't hav...  2013-09-16 12:11:56  \n",
       "205457  Solid pizza and beer at Pizza Guru.  I choose ...  2018-07-22 13:31:09  \n",
       "205458  3.4 star review. Nice concept. I like the loca...  2014-12-14 16:41:07  \n",
       "205459  This is one of my new favorite pizza joints he...  2015-04-11 04:43:19  \n",
       "205460  Ordered vegan chicken and Daiya cheese and onl...  2015-05-26 15:27:36  \n",
       "205461  This was the worst pizza I've ever had ever ea...  2019-07-08 19:27:04  \n",
       "205462  One of the best pizzas in SB....seriously!!!\\n...  2014-07-07 18:40:39  \n",
       "205463  We wanted a calzone and it was getting around ...  2016-11-06 05:15:44  "
      ]
     },
     "metadata": {},
     "output_type": "display_data"
    },
    {
     "name": "stdout",
     "output_type": "stream",
     "text": [
      "\n",
      "Unbiased Reviews (with predicted rating using user's review text)\n"
     ]
    },
    {
     "data": {
      "text/html": [
       "<div>\n",
       "<style scoped>\n",
       "    .dataframe tbody tr th:only-of-type {\n",
       "        vertical-align: middle;\n",
       "    }\n",
       "\n",
       "    .dataframe tbody tr th {\n",
       "        vertical-align: top;\n",
       "    }\n",
       "\n",
       "    .dataframe thead th {\n",
       "        text-align: right;\n",
       "    }\n",
       "</style>\n",
       "<table border=\"1\" class=\"dataframe\">\n",
       "  <thead>\n",
       "    <tr style=\"text-align: right;\">\n",
       "      <th></th>\n",
       "      <th>Unnamed: 0</th>\n",
       "      <th>business_id</th>\n",
       "      <th>name</th>\n",
       "      <th>address</th>\n",
       "      <th>city</th>\n",
       "      <th>state</th>\n",
       "      <th>postal_code</th>\n",
       "      <th>latitude</th>\n",
       "      <th>longitude</th>\n",
       "      <th>stars</th>\n",
       "      <th>review_count</th>\n",
       "      <th>is_open</th>\n",
       "      <th>attributes</th>\n",
       "      <th>categories</th>\n",
       "      <th>hours</th>\n",
       "      <th>user_id</th>\n",
       "      <th>review_stars</th>\n",
       "      <th>text</th>\n",
       "      <th>date</th>\n",
       "      <th>predict</th>\n",
       "    </tr>\n",
       "  </thead>\n",
       "  <tbody>\n",
       "    <tr>\n",
       "      <th>205454</th>\n",
       "      <td>4559987</td>\n",
       "      <td>uriD7RFuHhLJeDdKaf0nFA</td>\n",
       "      <td>Pizza Guru</td>\n",
       "      <td>3534 State St</td>\n",
       "      <td>Santa Barbara</td>\n",
       "      <td>CA</td>\n",
       "      <td>93105</td>\n",
       "      <td>34.44</td>\n",
       "      <td>-119.74</td>\n",
       "      <td>4.0</td>\n",
       "      <td>299</td>\n",
       "      <td>0</td>\n",
       "      <td>{'NoiseLevel': \"u'average'\", 'RestaurantsGoodF...</td>\n",
       "      <td>Restaurants</td>\n",
       "      <td>{'Monday': '15:0-21:0', 'Tuesday': '15:0-21:0'...</td>\n",
       "      <td>qW-Q3krGy2FgY1ouN0znjQ</td>\n",
       "      <td>5</td>\n",
       "      <td>Santa Barbara has lots of good pizza. \\nThis o...</td>\n",
       "      <td>2018-10-18 20:35:16</td>\n",
       "      <td>5</td>\n",
       "    </tr>\n",
       "    <tr>\n",
       "      <th>205455</th>\n",
       "      <td>4559988</td>\n",
       "      <td>uriD7RFuHhLJeDdKaf0nFA</td>\n",
       "      <td>Pizza Guru</td>\n",
       "      <td>3534 State St</td>\n",
       "      <td>Santa Barbara</td>\n",
       "      <td>CA</td>\n",
       "      <td>93105</td>\n",
       "      <td>34.44</td>\n",
       "      <td>-119.74</td>\n",
       "      <td>4.0</td>\n",
       "      <td>299</td>\n",
       "      <td>0</td>\n",
       "      <td>{'NoiseLevel': \"u'average'\", 'RestaurantsGoodF...</td>\n",
       "      <td>Restaurants</td>\n",
       "      <td>{'Monday': '15:0-21:0', 'Tuesday': '15:0-21:0'...</td>\n",
       "      <td>X0NlTMV_-DNpGM0sPFa_cA</td>\n",
       "      <td>5</td>\n",
       "      <td>Great pizza with good beer. Stopped in and we ...</td>\n",
       "      <td>2015-05-02 22:25:45</td>\n",
       "      <td>1</td>\n",
       "    </tr>\n",
       "    <tr>\n",
       "      <th>205456</th>\n",
       "      <td>4559989</td>\n",
       "      <td>uriD7RFuHhLJeDdKaf0nFA</td>\n",
       "      <td>Pizza Guru</td>\n",
       "      <td>3534 State St</td>\n",
       "      <td>Santa Barbara</td>\n",
       "      <td>CA</td>\n",
       "      <td>93105</td>\n",
       "      <td>34.44</td>\n",
       "      <td>-119.74</td>\n",
       "      <td>4.0</td>\n",
       "      <td>299</td>\n",
       "      <td>0</td>\n",
       "      <td>{'NoiseLevel': \"u'average'\", 'RestaurantsGoodF...</td>\n",
       "      <td>Restaurants</td>\n",
       "      <td>{'Monday': '15:0-21:0', 'Tuesday': '15:0-21:0'...</td>\n",
       "      <td>_ymxPyUR2_tuoPJP8t67gQ</td>\n",
       "      <td>1</td>\n",
       "      <td>forgot to write a review until now- didn't hav...</td>\n",
       "      <td>2013-09-16 12:11:56</td>\n",
       "      <td>5</td>\n",
       "    </tr>\n",
       "    <tr>\n",
       "      <th>205457</th>\n",
       "      <td>4559990</td>\n",
       "      <td>uriD7RFuHhLJeDdKaf0nFA</td>\n",
       "      <td>Pizza Guru</td>\n",
       "      <td>3534 State St</td>\n",
       "      <td>Santa Barbara</td>\n",
       "      <td>CA</td>\n",
       "      <td>93105</td>\n",
       "      <td>34.44</td>\n",
       "      <td>-119.74</td>\n",
       "      <td>4.0</td>\n",
       "      <td>299</td>\n",
       "      <td>0</td>\n",
       "      <td>{'NoiseLevel': \"u'average'\", 'RestaurantsGoodF...</td>\n",
       "      <td>Restaurants</td>\n",
       "      <td>{'Monday': '15:0-21:0', 'Tuesday': '15:0-21:0'...</td>\n",
       "      <td>avcQbkVRQ0skWZS1rkoAQg</td>\n",
       "      <td>4</td>\n",
       "      <td>Solid pizza and beer at Pizza Guru.  I choose ...</td>\n",
       "      <td>2018-07-22 13:31:09</td>\n",
       "      <td>3</td>\n",
       "    </tr>\n",
       "    <tr>\n",
       "      <th>205458</th>\n",
       "      <td>4559991</td>\n",
       "      <td>uriD7RFuHhLJeDdKaf0nFA</td>\n",
       "      <td>Pizza Guru</td>\n",
       "      <td>3534 State St</td>\n",
       "      <td>Santa Barbara</td>\n",
       "      <td>CA</td>\n",
       "      <td>93105</td>\n",
       "      <td>34.44</td>\n",
       "      <td>-119.74</td>\n",
       "      <td>4.0</td>\n",
       "      <td>299</td>\n",
       "      <td>0</td>\n",
       "      <td>{'NoiseLevel': \"u'average'\", 'RestaurantsGoodF...</td>\n",
       "      <td>Restaurants</td>\n",
       "      <td>{'Monday': '15:0-21:0', 'Tuesday': '15:0-21:0'...</td>\n",
       "      <td>agYoN0HOl6KBkAkIZaJmFg</td>\n",
       "      <td>3</td>\n",
       "      <td>3.4 star review. Nice concept. I like the loca...</td>\n",
       "      <td>2014-12-14 16:41:07</td>\n",
       "      <td>5</td>\n",
       "    </tr>\n",
       "    <tr>\n",
       "      <th>205459</th>\n",
       "      <td>4559992</td>\n",
       "      <td>uriD7RFuHhLJeDdKaf0nFA</td>\n",
       "      <td>Pizza Guru</td>\n",
       "      <td>3534 State St</td>\n",
       "      <td>Santa Barbara</td>\n",
       "      <td>CA</td>\n",
       "      <td>93105</td>\n",
       "      <td>34.44</td>\n",
       "      <td>-119.74</td>\n",
       "      <td>4.0</td>\n",
       "      <td>299</td>\n",
       "      <td>0</td>\n",
       "      <td>{'NoiseLevel': \"u'average'\", 'RestaurantsGoodF...</td>\n",
       "      <td>Restaurants</td>\n",
       "      <td>{'Monday': '15:0-21:0', 'Tuesday': '15:0-21:0'...</td>\n",
       "      <td>o72LSEPHKu1oQcpXeIVlag</td>\n",
       "      <td>5</td>\n",
       "      <td>This is one of my new favorite pizza joints he...</td>\n",
       "      <td>2015-04-11 04:43:19</td>\n",
       "      <td>5</td>\n",
       "    </tr>\n",
       "    <tr>\n",
       "      <th>205460</th>\n",
       "      <td>4559993</td>\n",
       "      <td>uriD7RFuHhLJeDdKaf0nFA</td>\n",
       "      <td>Pizza Guru</td>\n",
       "      <td>3534 State St</td>\n",
       "      <td>Santa Barbara</td>\n",
       "      <td>CA</td>\n",
       "      <td>93105</td>\n",
       "      <td>34.44</td>\n",
       "      <td>-119.74</td>\n",
       "      <td>4.0</td>\n",
       "      <td>299</td>\n",
       "      <td>0</td>\n",
       "      <td>{'NoiseLevel': \"u'average'\", 'RestaurantsGoodF...</td>\n",
       "      <td>Restaurants</td>\n",
       "      <td>{'Monday': '15:0-21:0', 'Tuesday': '15:0-21:0'...</td>\n",
       "      <td>u30sv3s4V2tz5VOgNQYtgg</td>\n",
       "      <td>4</td>\n",
       "      <td>Ordered vegan chicken and Daiya cheese and onl...</td>\n",
       "      <td>2015-05-26 15:27:36</td>\n",
       "      <td>1</td>\n",
       "    </tr>\n",
       "    <tr>\n",
       "      <th>205461</th>\n",
       "      <td>4559994</td>\n",
       "      <td>uriD7RFuHhLJeDdKaf0nFA</td>\n",
       "      <td>Pizza Guru</td>\n",
       "      <td>3534 State St</td>\n",
       "      <td>Santa Barbara</td>\n",
       "      <td>CA</td>\n",
       "      <td>93105</td>\n",
       "      <td>34.44</td>\n",
       "      <td>-119.74</td>\n",
       "      <td>4.0</td>\n",
       "      <td>299</td>\n",
       "      <td>0</td>\n",
       "      <td>{'NoiseLevel': \"u'average'\", 'RestaurantsGoodF...</td>\n",
       "      <td>Restaurants</td>\n",
       "      <td>{'Monday': '15:0-21:0', 'Tuesday': '15:0-21:0'...</td>\n",
       "      <td>Mp97BPH2Y7O1DsFt6wFp4Q</td>\n",
       "      <td>1</td>\n",
       "      <td>This was the worst pizza I've ever had ever ea...</td>\n",
       "      <td>2019-07-08 19:27:04</td>\n",
       "      <td>5</td>\n",
       "    </tr>\n",
       "    <tr>\n",
       "      <th>205462</th>\n",
       "      <td>4559995</td>\n",
       "      <td>uriD7RFuHhLJeDdKaf0nFA</td>\n",
       "      <td>Pizza Guru</td>\n",
       "      <td>3534 State St</td>\n",
       "      <td>Santa Barbara</td>\n",
       "      <td>CA</td>\n",
       "      <td>93105</td>\n",
       "      <td>34.44</td>\n",
       "      <td>-119.74</td>\n",
       "      <td>4.0</td>\n",
       "      <td>299</td>\n",
       "      <td>0</td>\n",
       "      <td>{'NoiseLevel': \"u'average'\", 'RestaurantsGoodF...</td>\n",
       "      <td>Restaurants</td>\n",
       "      <td>{'Monday': '15:0-21:0', 'Tuesday': '15:0-21:0'...</td>\n",
       "      <td>06egjh3nrEb7EXX1VYZOCg</td>\n",
       "      <td>5</td>\n",
       "      <td>One of the best pizzas in SB....seriously!!!\\n...</td>\n",
       "      <td>2014-07-07 18:40:39</td>\n",
       "      <td>5</td>\n",
       "    </tr>\n",
       "    <tr>\n",
       "      <th>205463</th>\n",
       "      <td>4559996</td>\n",
       "      <td>uriD7RFuHhLJeDdKaf0nFA</td>\n",
       "      <td>Pizza Guru</td>\n",
       "      <td>3534 State St</td>\n",
       "      <td>Santa Barbara</td>\n",
       "      <td>CA</td>\n",
       "      <td>93105</td>\n",
       "      <td>34.44</td>\n",
       "      <td>-119.74</td>\n",
       "      <td>4.0</td>\n",
       "      <td>299</td>\n",
       "      <td>0</td>\n",
       "      <td>{'NoiseLevel': \"u'average'\", 'RestaurantsGoodF...</td>\n",
       "      <td>Restaurants</td>\n",
       "      <td>{'Monday': '15:0-21:0', 'Tuesday': '15:0-21:0'...</td>\n",
       "      <td>vTjt5vVDuW-Xu1Z_tfraTQ</td>\n",
       "      <td>5</td>\n",
       "      <td>We wanted a calzone and it was getting around ...</td>\n",
       "      <td>2016-11-06 05:15:44</td>\n",
       "      <td>3</td>\n",
       "    </tr>\n",
       "  </tbody>\n",
       "</table>\n",
       "</div>"
      ],
      "text/plain": [
       "        Unnamed: 0             business_id        name        address  \\\n",
       "205454     4559987  uriD7RFuHhLJeDdKaf0nFA  Pizza Guru  3534 State St   \n",
       "205455     4559988  uriD7RFuHhLJeDdKaf0nFA  Pizza Guru  3534 State St   \n",
       "205456     4559989  uriD7RFuHhLJeDdKaf0nFA  Pizza Guru  3534 State St   \n",
       "205457     4559990  uriD7RFuHhLJeDdKaf0nFA  Pizza Guru  3534 State St   \n",
       "205458     4559991  uriD7RFuHhLJeDdKaf0nFA  Pizza Guru  3534 State St   \n",
       "205459     4559992  uriD7RFuHhLJeDdKaf0nFA  Pizza Guru  3534 State St   \n",
       "205460     4559993  uriD7RFuHhLJeDdKaf0nFA  Pizza Guru  3534 State St   \n",
       "205461     4559994  uriD7RFuHhLJeDdKaf0nFA  Pizza Guru  3534 State St   \n",
       "205462     4559995  uriD7RFuHhLJeDdKaf0nFA  Pizza Guru  3534 State St   \n",
       "205463     4559996  uriD7RFuHhLJeDdKaf0nFA  Pizza Guru  3534 State St   \n",
       "\n",
       "                 city state  postal_code  latitude  longitude  stars  \\\n",
       "205454  Santa Barbara    CA        93105     34.44    -119.74    4.0   \n",
       "205455  Santa Barbara    CA        93105     34.44    -119.74    4.0   \n",
       "205456  Santa Barbara    CA        93105     34.44    -119.74    4.0   \n",
       "205457  Santa Barbara    CA        93105     34.44    -119.74    4.0   \n",
       "205458  Santa Barbara    CA        93105     34.44    -119.74    4.0   \n",
       "205459  Santa Barbara    CA        93105     34.44    -119.74    4.0   \n",
       "205460  Santa Barbara    CA        93105     34.44    -119.74    4.0   \n",
       "205461  Santa Barbara    CA        93105     34.44    -119.74    4.0   \n",
       "205462  Santa Barbara    CA        93105     34.44    -119.74    4.0   \n",
       "205463  Santa Barbara    CA        93105     34.44    -119.74    4.0   \n",
       "\n",
       "        review_count  is_open  \\\n",
       "205454           299        0   \n",
       "205455           299        0   \n",
       "205456           299        0   \n",
       "205457           299        0   \n",
       "205458           299        0   \n",
       "205459           299        0   \n",
       "205460           299        0   \n",
       "205461           299        0   \n",
       "205462           299        0   \n",
       "205463           299        0   \n",
       "\n",
       "                                               attributes   categories  \\\n",
       "205454  {'NoiseLevel': \"u'average'\", 'RestaurantsGoodF...  Restaurants   \n",
       "205455  {'NoiseLevel': \"u'average'\", 'RestaurantsGoodF...  Restaurants   \n",
       "205456  {'NoiseLevel': \"u'average'\", 'RestaurantsGoodF...  Restaurants   \n",
       "205457  {'NoiseLevel': \"u'average'\", 'RestaurantsGoodF...  Restaurants   \n",
       "205458  {'NoiseLevel': \"u'average'\", 'RestaurantsGoodF...  Restaurants   \n",
       "205459  {'NoiseLevel': \"u'average'\", 'RestaurantsGoodF...  Restaurants   \n",
       "205460  {'NoiseLevel': \"u'average'\", 'RestaurantsGoodF...  Restaurants   \n",
       "205461  {'NoiseLevel': \"u'average'\", 'RestaurantsGoodF...  Restaurants   \n",
       "205462  {'NoiseLevel': \"u'average'\", 'RestaurantsGoodF...  Restaurants   \n",
       "205463  {'NoiseLevel': \"u'average'\", 'RestaurantsGoodF...  Restaurants   \n",
       "\n",
       "                                                    hours  \\\n",
       "205454  {'Monday': '15:0-21:0', 'Tuesday': '15:0-21:0'...   \n",
       "205455  {'Monday': '15:0-21:0', 'Tuesday': '15:0-21:0'...   \n",
       "205456  {'Monday': '15:0-21:0', 'Tuesday': '15:0-21:0'...   \n",
       "205457  {'Monday': '15:0-21:0', 'Tuesday': '15:0-21:0'...   \n",
       "205458  {'Monday': '15:0-21:0', 'Tuesday': '15:0-21:0'...   \n",
       "205459  {'Monday': '15:0-21:0', 'Tuesday': '15:0-21:0'...   \n",
       "205460  {'Monday': '15:0-21:0', 'Tuesday': '15:0-21:0'...   \n",
       "205461  {'Monday': '15:0-21:0', 'Tuesday': '15:0-21:0'...   \n",
       "205462  {'Monday': '15:0-21:0', 'Tuesday': '15:0-21:0'...   \n",
       "205463  {'Monday': '15:0-21:0', 'Tuesday': '15:0-21:0'...   \n",
       "\n",
       "                       user_id  review_stars  \\\n",
       "205454  qW-Q3krGy2FgY1ouN0znjQ             5   \n",
       "205455  X0NlTMV_-DNpGM0sPFa_cA             5   \n",
       "205456  _ymxPyUR2_tuoPJP8t67gQ             1   \n",
       "205457  avcQbkVRQ0skWZS1rkoAQg             4   \n",
       "205458  agYoN0HOl6KBkAkIZaJmFg             3   \n",
       "205459  o72LSEPHKu1oQcpXeIVlag             5   \n",
       "205460  u30sv3s4V2tz5VOgNQYtgg             4   \n",
       "205461  Mp97BPH2Y7O1DsFt6wFp4Q             1   \n",
       "205462  06egjh3nrEb7EXX1VYZOCg             5   \n",
       "205463  vTjt5vVDuW-Xu1Z_tfraTQ             5   \n",
       "\n",
       "                                                     text  \\\n",
       "205454  Santa Barbara has lots of good pizza. \\nThis o...   \n",
       "205455  Great pizza with good beer. Stopped in and we ...   \n",
       "205456  forgot to write a review until now- didn't hav...   \n",
       "205457  Solid pizza and beer at Pizza Guru.  I choose ...   \n",
       "205458  3.4 star review. Nice concept. I like the loca...   \n",
       "205459  This is one of my new favorite pizza joints he...   \n",
       "205460  Ordered vegan chicken and Daiya cheese and onl...   \n",
       "205461  This was the worst pizza I've ever had ever ea...   \n",
       "205462  One of the best pizzas in SB....seriously!!!\\n...   \n",
       "205463  We wanted a calzone and it was getting around ...   \n",
       "\n",
       "                       date  predict  \n",
       "205454  2018-10-18 20:35:16        5  \n",
       "205455  2015-05-02 22:25:45        1  \n",
       "205456  2013-09-16 12:11:56        5  \n",
       "205457  2018-07-22 13:31:09        3  \n",
       "205458  2014-12-14 16:41:07        5  \n",
       "205459  2015-04-11 04:43:19        5  \n",
       "205460  2015-05-26 15:27:36        1  \n",
       "205461  2019-07-08 19:27:04        5  \n",
       "205462  2014-07-07 18:40:39        5  \n",
       "205463  2016-11-06 05:15:44        3  "
      ]
     },
     "metadata": {},
     "output_type": "display_data"
    }
   ],
   "source": [
    "print(\"\\nOriginal Reviews (with user bias)\")\n",
    "display(ca_restaurant_reviews.tail(10))\n",
    "\n",
    "print(\"\\nUnbiased Reviews (with predicted rating using user's review text)\")\n",
    "unbiased_reviews_dataset = ca_restaurant_reviews\n",
    "\n",
    "# dropping actual ratings(stars) by user\n",
    "#unbiased_reviews_dataset = unbiased_reviews_dataset.drop('review_stars', 1)\n",
    "\n",
    "# adding the unbiased predicted rating\n",
    "unbiased_reviews_dataset['predict'] = predicted_stars\n",
    "\n",
    "display(unbiased_reviews_dataset.tail(10))"
   ]
  },
  {
   "cell_type": "code",
   "execution_count": 24,
   "metadata": {},
   "outputs": [
    {
     "name": "stdout",
     "output_type": "stream",
     "text": [
      "0.7119402985074627\n"
     ]
    }
   ],
   "source": [
    "from sklearn.metrics import accuracy_score\n",
    "print(accuracy_score(y_test, preds))"
   ]
  },
  {
   "cell_type": "code",
   "execution_count": 25,
   "metadata": {},
   "outputs": [
    {
     "name": "stdout",
     "output_type": "stream",
     "text": [
      "Precision: 0.6822727835840492\n",
      "Recall: 0.7119402985074627\n"
     ]
    }
   ],
   "source": [
    "from sklearn.metrics import precision_score\n",
    "from sklearn.metrics import recall_score\n",
    "print ('Precision: ' + str(precision_score(y_test, preds, average='weighted')))\n",
    "print ('Recall: ' + str(recall_score(y_test, preds, average='weighted')))"
   ]
  },
  {
   "cell_type": "code",
   "execution_count": 26,
   "metadata": {},
   "outputs": [
    {
     "name": "stdout",
     "output_type": "stream",
     "text": [
      "              precision    recall  f1-score   support\n",
      "\n",
      "           1       0.65      0.80      0.72      2796\n",
      "           2       0.50      0.26      0.34      2149\n",
      "           3       0.53      0.33      0.41      2866\n",
      "           4       0.52      0.39      0.44      6087\n",
      "           5       0.79      0.93      0.86     16922\n",
      "\n",
      "    accuracy                           0.71     30820\n",
      "   macro avg       0.60      0.54      0.56     30820\n",
      "weighted avg       0.68      0.71      0.69     30820\n",
      "\n"
     ]
    }
   ],
   "source": [
    "from sklearn.metrics import classification_report\n",
    "print(classification_report(y_test, preds))"
   ]
  },
  {
   "cell_type": "code",
   "execution_count": 27,
   "metadata": {},
   "outputs": [],
   "source": [
    "import itertools  \n",
    "def plot_confusion_matrix(cm, classes,\n",
    "                          normalize=False,\n",
    "                          title='Confusion matrix',\n",
    "                          cmap=plt.cm.Blues):\n",
    "    \"\"\"\n",
    "    This function prints and plots the confusion matrix.\n",
    "    Normalization can be applied by setting `normalize=True`.\n",
    "    \"\"\"\n",
    "    if normalize:\n",
    "        cm = cm.astype('float') / cm.sum(axis=1)[:, np.newaxis]\n",
    "        print(\"Normalized confusion matrix\")\n",
    "    else:\n",
    "        print('Confusion matrix, without normalization')\n",
    "\n",
    "    print(cm)\n",
    "\n",
    "    plt.imshow(cm, interpolation='nearest', cmap=cmap)\n",
    "    plt.title(title)\n",
    "    plt.colorbar()\n",
    "    tick_marks = np.arange(len(classes))\n",
    "    plt.xticks(tick_marks, classes, rotation=45)\n",
    "    plt.yticks(tick_marks, classes)\n",
    "\n",
    "    fmt = '.2f' if normalize else 'd'\n",
    "    thresh = cm.max() / 2.\n",
    "    for i, j in itertools.product(range(cm.shape[0]), range(cm.shape[1])):\n",
    "        plt.text(j, i, format(cm[i, j], fmt),\n",
    "                 horizontalalignment=\"center\",\n",
    "                 color=\"white\" if cm[i, j] > thresh else \"black\")\n",
    "\n",
    "    plt.tight_layout()\n",
    "    plt.ylabel('True label')\n",
    "    plt.xlabel('Predicted label')"
   ]
  },
  {
   "cell_type": "code",
   "execution_count": 28,
   "metadata": {},
   "outputs": [
    {
     "name": "stdout",
     "output_type": "stream",
     "text": [
      "Confusion matrix, without normalization\n",
      "[[ 2249   246    99    50   152]\n",
      " [  795   566   412   194   182]\n",
      " [  296   275   949   922   424]\n",
      " [   58    42   284  2365  3338]\n",
      " [   45     7    39  1018 15813]]\n",
      "Normalized confusion matrix\n",
      "[[8.04e-01 8.80e-02 3.54e-02 1.79e-02 5.44e-02]\n",
      " [3.70e-01 2.63e-01 1.92e-01 9.03e-02 8.47e-02]\n",
      " [1.03e-01 9.60e-02 3.31e-01 3.22e-01 1.48e-01]\n",
      " [9.53e-03 6.90e-03 4.67e-02 3.89e-01 5.48e-01]\n",
      " [2.66e-03 4.14e-04 2.30e-03 6.02e-02 9.34e-01]]\n"
     ]
    },
    {
     "data": {
      "image/png": "[encoded data removed]",
      "text/plain": [
       "<Figure size 640x480 with 2 Axes>"
      ]
     },
     "metadata": {},
     "output_type": "display_data"
    },
    {
     "data": {
      "image/png": "[encoded data removed]",
      "text/plain": [
       "<Figure size 640x480 with 2 Axes>"
      ]
     },
     "metadata": {},
     "output_type": "display_data"
    }
   ],
   "source": [
    "from sklearn import metrics\n",
    "names = ['1','2','3','4','5']\n",
    "\n",
    "# Compute confusion matrix\n",
    "cnf_matrix = metrics.confusion_matrix(y_test, preds)\n",
    "np.set_printoptions(precision=2)\n",
    "\n",
    "# Plot non-normalized confusion matrix\n",
    "plt.figure()\n",
    "plot_confusion_matrix(cnf_matrix, classes=names,\n",
    "                      title='Confusion matrix, without normalization')\n",
    "\n",
    "# Plot normalized confusion matrix\n",
    "plt.figure()\n",
    "plot_confusion_matrix(cnf_matrix, classes=names, normalize=True,\n",
    "                      title='Normalized confusion matrix')\n",
    "\n",
    "plt.show()"
   ]
  },
  {
   "cell_type": "code",
   "execution_count": 29,
   "metadata": {},
   "outputs": [
    {
     "name": "stdout",
     "output_type": "stream",
     "text": [
      "205464\n"
     ]
    }
   ],
   "source": [
    "sentiments = []\n",
    "for star in stars[1]:\n",
    "    if star <= 3:\n",
    "        sentiments.append('n')\n",
    "    if star > 3:\n",
    "        sentiments.append('p')\n",
    "\n",
    "print(len(sentiments))    "
   ]
  },
  {
   "cell_type": "code",
   "execution_count": 30,
   "metadata": {},
   "outputs": [],
   "source": [
    "X2_train, X2_test, y2_train, y2_test = train_test_split(vectors, sentiments, test_size=0.20, random_state=42)"
   ]
  },
  {
   "cell_type": "code",
   "execution_count": 31,
   "metadata": {},
   "outputs": [
    {
     "name": "stdout",
     "output_type": "stream",
     "text": [
      "Wall time: 12.4 s\n"
     ]
    },
    {
     "data": {
      "text/plain": [
       "LinearSVC()"
      ]
     },
     "execution_count": 31,
     "metadata": {},
     "output_type": "execute_result"
    }
   ],
   "source": [
    "%%time\n",
    "\n",
    "classifier2 = LinearSVC()\n",
    "classifier2.fit(X2_train, y2_train)"
   ]
  },
  {
   "cell_type": "code",
   "execution_count": 32,
   "metadata": {},
   "outputs": [
    {
     "name": "stdout",
     "output_type": "stream",
     "text": [
      "Actual Class:    ['p', 'p', 'p', 'p', 'p', 'p', 'n', 'p', 'p', 'n']\n",
      "\n",
      "Predicted Class: ['p', 'p', 'p', 'p', 'p', 'p', 'p', 'p', 'p', 'n']\n"
     ]
    }
   ],
   "source": [
    "preds2 = classifier2.predict(X2_test)\n",
    "print(\"Actual Class:    \",end = \"\")\n",
    "print(y2_test[:10])\n",
    "print(\"\\nPredicted Class: \",end = \"\")\n",
    "print(list(preds2[:10]))"
   ]
  },
  {
   "cell_type": "code",
   "execution_count": 33,
   "metadata": {},
   "outputs": [
    {
     "name": "stdout",
     "output_type": "stream",
     "text": [
      "0.9273598909789988\n"
     ]
    }
   ],
   "source": [
    "print(accuracy_score(y2_test, preds2))"
   ]
  },
  {
   "cell_type": "code",
   "execution_count": 34,
   "metadata": {},
   "outputs": [
    {
     "name": "stdout",
     "output_type": "stream",
     "text": [
      "Precision: 0.9266755135168885\n",
      "Recall: 0.9273598909789988\n"
     ]
    }
   ],
   "source": [
    "from sklearn.metrics import precision_score\n",
    "from sklearn.metrics import recall_score\n",
    "print ('Precision: ' + str(precision_score(y2_test, preds2, average='weighted')))\n",
    "print ('Recall: ' + str(recall_score(y2_test, preds2, average='weighted')))"
   ]
  },
  {
   "cell_type": "code",
   "execution_count": 35,
   "metadata": {},
   "outputs": [
    {
     "name": "stdout",
     "output_type": "stream",
     "text": [
      "              precision    recall  f1-score   support\n",
      "\n",
      "           n       0.91      0.82      0.86     11334\n",
      "           p       0.93      0.97      0.95     29759\n",
      "\n",
      "    accuracy                           0.93     41093\n",
      "   macro avg       0.92      0.89      0.91     41093\n",
      "weighted avg       0.93      0.93      0.93     41093\n",
      "\n"
     ]
    }
   ],
   "source": [
    "print(classification_report(y2_test, preds2))"
   ]
  },
  {
   "cell_type": "code",
   "execution_count": 36,
   "metadata": {},
   "outputs": [
    {
     "name": "stdout",
     "output_type": "stream",
     "text": [
      "[[ 9286  2048]\n",
      " [  937 28822]]\n"
     ]
    }
   ],
   "source": [
    "print(metrics.confusion_matrix(y2_test, preds2))"
   ]
  },
  {
   "cell_type": "code",
   "execution_count": 37,
   "metadata": {},
   "outputs": [
    {
     "name": "stdout",
     "output_type": "stream",
     "text": [
      "Confusion matrix, without normalization\n",
      "[[ 9286  2048]\n",
      " [  937 28822]]\n",
      "Normalized confusion matrix\n",
      "[[0.82 0.18]\n",
      " [0.03 0.97]]\n"
     ]
    },
    {
     "data": {
      "image/png": "[encoded data removed]",
      "text/plain": [
       "<Figure size 640x480 with 2 Axes>"
      ]
     },
     "metadata": {},
     "output_type": "display_data"
    },
    {
     "data": {
      "image/png": "[encoded data removed]",
      "text/plain": [
       "<Figure size 640x480 with 2 Axes>"
      ]
     },
     "metadata": {},
     "output_type": "display_data"
    }
   ],
   "source": [
    "class_names = ['negative','positive']\n",
    "\n",
    "cnf_matrix = metrics.confusion_matrix(y2_test, preds2)\n",
    "np.set_printoptions(precision=2)\n",
    "plt.figure()\n",
    "plot_confusion_matrix(cnf_matrix, classes=class_names,\n",
    "                      title='Confusion matrix, without normalization')\n",
    "\n",
    "plt.figure()\n",
    "plot_confusion_matrix(cnf_matrix, classes=class_names, normalize=True,\n",
    "                      title='Normalized confusion matrix')\n",
    "\n",
    "plt.show()"
   ]
  },
  {
   "cell_type": "code",
   "execution_count": null,
   "metadata": {},
   "outputs": [],
   "source": []
  }
 ],
 "metadata": {
  "kernelspec": {
   "display_name": "Python 3.7.12 ('testinggrounds')",
   "language": "python",
   "name": "python3"
  },
  "language_info": {
   "codemirror_mode": {
    "name": "ipython",
    "version": 3
   },
   "file_extension": ".py",
   "mimetype": "text/x-python",
   "name": "python",
   "nbconvert_exporter": "python",
   "pygments_lexer": "ipython3",
   "version": "3.7.12"
  },
  "orig_nbformat": 4,
  "vscode": {
   "interpreter": {
    "hash": "be1130cc366ce64c2af566ee12e797ac4446b6a928687bd6f2dd0eaf2725f7ce"
   }
  }
 },
 "nbformat": 4,
 "nbformat_minor": 2
}
