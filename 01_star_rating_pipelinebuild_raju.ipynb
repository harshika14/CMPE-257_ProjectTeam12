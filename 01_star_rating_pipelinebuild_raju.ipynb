{
 "cells": [
  {
   "cell_type": "code",
   "execution_count": 69,
   "metadata": {},
   "outputs": [],
   "source": [
    "import pandas as pd\n",
    "import numpy as np\n",
    "import matplotlib.pyplot as plt\n",
    "import seaborn as sns\n",
    "import nltk\n",
    "from nltk.corpus import stopwords\n",
    "from tqdm import tqdm\n",
    "from tqdm import tqdm_notebook\n",
    "import string\n",
    "from collections import Counter\n",
    "import itertools\n",
    "from sklearn import metrics\n",
    "from sklearn.feature_extraction.text import TfidfVectorizer\n",
    "from sklearn.svm import LinearSVC\n",
    "from sklearn.pipeline import Pipeline, FeatureUnion\n",
    "from sklearn.model_selection import train_test_split\n",
    "from sklearn.metrics import accuracy_score,precision_score,recall_score,classification_report\n",
    "import pickle"
   ]
  },
  {
   "cell_type": "code",
   "execution_count": 4,
   "metadata": {},
   "outputs": [],
   "source": [
    "ca_restaurant_reviews=pd.read_csv(\"california_restaurants.csv\")\n",
    "ca_restaurant_reviews=ca_restaurant_reviews.reset_index(drop = True)"
   ]
  },
  {
   "cell_type": "code",
   "execution_count": 12,
   "metadata": {},
   "outputs": [
    {
     "name": "stderr",
     "output_type": "stream",
     "text": [
      " 49%|████▉     | 101414/205465 [00:59<01:00, 1707.86it/s]\n",
      "100%|█████████▉| 205464/205465 [01:08<00:00, 2980.38it/s]\n"
     ]
    }
   ],
   "source": [
    "texts = []\n",
    "stars = [ca_restaurant_reviews['review_stars'] for review in ca_restaurant_reviews]\n",
    "pbar = tqdm(total=ca_restaurant_reviews.shape[0]+1)\n",
    "for index, row in ca_restaurant_reviews.iterrows():\n",
    "    texts.append(clean_text(row['text']))\n",
    "    pbar.update(1)\n",
    "pbar.close()"
   ]
  },
  {
   "cell_type": "code",
   "execution_count": 13,
   "metadata": {},
   "outputs": [
    {
     "data": {
      "text/html": [
       "<div>\n",
       "<style scoped>\n",
       "    .dataframe tbody tr th:only-of-type {\n",
       "        vertical-align: middle;\n",
       "    }\n",
       "\n",
       "    .dataframe tbody tr th {\n",
       "        vertical-align: top;\n",
       "    }\n",
       "\n",
       "    .dataframe thead th {\n",
       "        text-align: right;\n",
       "    }\n",
       "</style>\n",
       "<table border=\"1\" class=\"dataframe\">\n",
       "  <thead>\n",
       "    <tr style=\"text-align: right;\">\n",
       "      <th></th>\n",
       "      <th>Unnamed: 0</th>\n",
       "      <th>business_id</th>\n",
       "      <th>name</th>\n",
       "      <th>address</th>\n",
       "      <th>city</th>\n",
       "      <th>state</th>\n",
       "      <th>postal_code</th>\n",
       "      <th>latitude</th>\n",
       "      <th>longitude</th>\n",
       "      <th>stars</th>\n",
       "      <th>review_count</th>\n",
       "      <th>is_open</th>\n",
       "      <th>attributes</th>\n",
       "      <th>categories</th>\n",
       "      <th>hours</th>\n",
       "      <th>user_id</th>\n",
       "      <th>review_stars</th>\n",
       "      <th>text</th>\n",
       "      <th>date</th>\n",
       "    </tr>\n",
       "  </thead>\n",
       "  <tbody>\n",
       "    <tr>\n",
       "      <th>0</th>\n",
       "      <td>2456</td>\n",
       "      <td>IDtLPgUrqorrpqSLdfMhZQ</td>\n",
       "      <td>Helena Avenue Bakery</td>\n",
       "      <td>131 Anacapa St, Ste C</td>\n",
       "      <td>Santa Barbara</td>\n",
       "      <td>CA</td>\n",
       "      <td>93101</td>\n",
       "      <td>34.414445</td>\n",
       "      <td>-119.690672</td>\n",
       "      <td>4.0</td>\n",
       "      <td>389</td>\n",
       "      <td>1</td>\n",
       "      <td>{'RestaurantsTakeOut': 'True', 'NoiseLevel': \"...</td>\n",
       "      <td>Restaurants</td>\n",
       "      <td>{'Monday': '0:0-0:0', 'Tuesday': '8:0-14:0', '...</td>\n",
       "      <td>bFPdtzu11Oi0f92EAcjqmg</td>\n",
       "      <td>5</td>\n",
       "      <td>What a great addition to the Funk Zone!  Grab ...</td>\n",
       "      <td>2016-10-13 22:50:47</td>\n",
       "    </tr>\n",
       "  </tbody>\n",
       "</table>\n",
       "</div>"
      ],
      "text/plain": [
       "   Unnamed: 0             business_id                  name  \\\n",
       "0        2456  IDtLPgUrqorrpqSLdfMhZQ  Helena Avenue Bakery   \n",
       "\n",
       "                 address           city state  postal_code   latitude  \\\n",
       "0  131 Anacapa St, Ste C  Santa Barbara    CA        93101  34.414445   \n",
       "\n",
       "    longitude  stars  review_count  is_open  \\\n",
       "0 -119.690672    4.0           389        1   \n",
       "\n",
       "                                          attributes   categories  \\\n",
       "0  {'RestaurantsTakeOut': 'True', 'NoiseLevel': \"...  Restaurants   \n",
       "\n",
       "                                               hours                 user_id  \\\n",
       "0  {'Monday': '0:0-0:0', 'Tuesday': '8:0-14:0', '...  bFPdtzu11Oi0f92EAcjqmg   \n",
       "\n",
       "   review_stars                                               text  \\\n",
       "0             5  What a great addition to the Funk Zone!  Grab ...   \n",
       "\n",
       "                  date  \n",
       "0  2016-10-13 22:50:47  "
      ]
     },
     "execution_count": 13,
     "metadata": {},
     "output_type": "execute_result"
    }
   ],
   "source": [
    "ca_restaurant_reviews.head(1)"
   ]
  },
  {
   "cell_type": "code",
   "execution_count": 33,
   "metadata": {},
   "outputs": [
    {
     "data": {
      "text/plain": [
       "pandas.core.series.Series"
      ]
     },
     "execution_count": 33,
     "metadata": {},
     "output_type": "execute_result"
    }
   ],
   "source": [
    "type(texts[1])"
   ]
  },
  {
   "cell_type": "code",
   "execution_count": 14,
   "metadata": {},
   "outputs": [],
   "source": [
    "texts = [ca_restaurant_reviews['text'] for review in ca_restaurant_reviews]"
   ]
  },
  {
   "cell_type": "code",
   "execution_count": 40,
   "metadata": {},
   "outputs": [],
   "source": [
    "new_text=ca_restaurant_reviews['text'].values.tolist()"
   ]
  },
  {
   "cell_type": "code",
   "execution_count": 43,
   "metadata": {},
   "outputs": [],
   "source": [
    "new_stars=ca_restaurant_reviews[\"review_stars\"].values.tolist()"
   ]
  },
  {
   "cell_type": "code",
   "execution_count": 44,
   "metadata": {},
   "outputs": [],
   "source": [
    "X_train, X_test, y_train, y_test = train_test_split(new_text, new_stars, test_size=0.15, random_state=42, shuffle =False)"
   ]
  },
  {
   "cell_type": "code",
   "execution_count": 50,
   "metadata": {},
   "outputs": [],
   "source": [
    "training_pipe=Pipeline([(\"Vectorization\",TfidfVectorizer()),(\"SVC\",LinearSVC())])"
   ]
  },
  {
   "cell_type": "code",
   "execution_count": 51,
   "metadata": {},
   "outputs": [
    {
     "data": {
      "text/plain": [
       "Pipeline(steps=[('Vectorization', TfidfVectorizer()), ('SVC', LinearSVC())])"
      ]
     },
     "execution_count": 51,
     "metadata": {},
     "output_type": "execute_result"
    }
   ],
   "source": [
    "training_pipe"
   ]
  },
  {
   "cell_type": "code",
   "execution_count": 48,
   "metadata": {},
   "outputs": [
    {
     "data": {
      "text/plain": [
       "5"
      ]
     },
     "execution_count": 48,
     "metadata": {},
     "output_type": "execute_result"
    }
   ],
   "source": [
    "y_train[0]"
   ]
  },
  {
   "cell_type": "code",
   "execution_count": 52,
   "metadata": {},
   "outputs": [
    {
     "data": {
      "text/plain": [
       "Pipeline(steps=[('Vectorization', TfidfVectorizer()), ('SVC', LinearSVC())])"
      ]
     },
     "execution_count": 52,
     "metadata": {},
     "output_type": "execute_result"
    }
   ],
   "source": [
    "training_pipe.fit(X_train,y_train)"
   ]
  },
  {
   "cell_type": "code",
   "execution_count": 67,
   "metadata": {},
   "outputs": [],
   "source": [
    "out=training_pipe.predict(['Worst Restaurant'])[0]"
   ]
  },
  {
   "cell_type": "code",
   "execution_count": 68,
   "metadata": {},
   "outputs": [
    {
     "data": {
      "text/plain": [
       "1"
      ]
     },
     "execution_count": 68,
     "metadata": {},
     "output_type": "execute_result"
    }
   ],
   "source": [
    "out"
   ]
  },
  {
   "cell_type": "code",
   "execution_count": 70,
   "metadata": {},
   "outputs": [],
   "source": [
    "with open('svcpipe.pickle', 'wb') as f:\n",
    "  pickle.dump(training_pipe, f)"
   ]
  },
  {
   "cell_type": "code",
   "execution_count": 71,
   "metadata": {},
   "outputs": [],
   "source": [
    "with open('svcpipe.pickle', 'rb') as f:\n",
    "  loadedpipe = pickle.load(f)"
   ]
  },
  {
   "cell_type": "code",
   "execution_count": 73,
   "metadata": {},
   "outputs": [],
   "source": [
    "testing=loadedpipe.predict([\"This is a good restaurant, but the service is average\"])"
   ]
  },
  {
   "cell_type": "code",
   "execution_count": 74,
   "metadata": {},
   "outputs": [
    {
     "data": {
      "text/plain": [
       "3"
      ]
     },
     "execution_count": 74,
     "metadata": {},
     "output_type": "execute_result"
    }
   ],
   "source": [
    "testing[0]"
   ]
  },
  {
   "cell_type": "code",
   "execution_count": null,
   "metadata": {},
   "outputs": [],
   "source": []
  }
 ],
 "metadata": {
  "kernelspec": {
   "display_name": "Python 3.7.12 ('testinggrounds')",
   "language": "python",
   "name": "python3"
  },
  "language_info": {
   "codemirror_mode": {
    "name": "ipython",
    "version": 3
   },
   "file_extension": ".py",
   "mimetype": "text/x-python",
   "name": "python",
   "nbconvert_exporter": "python",
   "pygments_lexer": "ipython3",
   "version": "3.7.12"
  },
  "orig_nbformat": 4,
  "vscode": {
   "interpreter": {
    "hash": "be1130cc366ce64c2af566ee12e797ac4446b6a928687bd6f2dd0eaf2725f7ce"
   }
  }
 },
 "nbformat": 4,
 "nbformat_minor": 2
}
