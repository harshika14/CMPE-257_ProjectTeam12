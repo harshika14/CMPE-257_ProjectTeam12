{
 "cells": [
  {
   "cell_type": "code",
   "execution_count": 23,
   "metadata": {},
   "outputs": [],
   "source": [
    "import pandas as pd\n",
    "import numpy as np\n",
    "import matplotlib.pyplot as plt\n",
    "import seaborn as sns\n",
    "import re\n",
    "import tensorflow_hub as hub\n",
    "import tensorflow as tf\n",
    "import os\n",
    "from sklearn.model_selection import train_test_split"
   ]
  },
  {
   "cell_type": "code",
   "execution_count": 5,
   "metadata": {},
   "outputs": [],
   "source": [
    "df=pd.read_csv('california_restaurants.csv')"
   ]
  },
  {
   "cell_type": "code",
   "execution_count": 6,
   "metadata": {},
   "outputs": [
    {
     "data": {
      "text/plain": [
       "Index(['Unnamed: 0', 'business_id', 'name', 'address', 'city', 'state',\n",
       "       'postal_code', 'latitude', 'longitude', 'stars', 'review_count',\n",
       "       'is_open', 'attributes', 'categories', 'hours', 'user_id',\n",
       "       'review_stars', 'text', 'date'],\n",
       "      dtype='object')"
      ]
     },
     "execution_count": 6,
     "metadata": {},
     "output_type": "execute_result"
    }
   ],
   "source": [
    "df.columns"
   ]
  },
  {
   "cell_type": "code",
   "execution_count": 19,
   "metadata": {},
   "outputs": [],
   "source": [
    "pdf=pd.read_csv('preprocessed.csv')"
   ]
  },
  {
   "cell_type": "code",
   "execution_count": 20,
   "metadata": {},
   "outputs": [
    {
     "data": {
      "text/html": [
       "<div>\n",
       "<style scoped>\n",
       "    .dataframe tbody tr th:only-of-type {\n",
       "        vertical-align: middle;\n",
       "    }\n",
       "\n",
       "    .dataframe tbody tr th {\n",
       "        vertical-align: top;\n",
       "    }\n",
       "\n",
       "    .dataframe thead th {\n",
       "        text-align: right;\n",
       "    }\n",
       "</style>\n",
       "<table border=\"1\" class=\"dataframe\">\n",
       "  <thead>\n",
       "    <tr style=\"text-align: right;\">\n",
       "      <th></th>\n",
       "      <th>Unnamed: 0</th>\n",
       "      <th>text</th>\n",
       "      <th>review_stars</th>\n",
       "      <th>tokens</th>\n",
       "      <th>lemma</th>\n",
       "      <th>stems</th>\n",
       "    </tr>\n",
       "  </thead>\n",
       "  <tbody>\n",
       "    <tr>\n",
       "      <th>0</th>\n",
       "      <td>0</td>\n",
       "      <td>What a great addition to the Funk Zone!  Grab ...</td>\n",
       "      <td>5</td>\n",
       "      <td>['What', 'a', 'great', 'addition', 'to', 'the'...</td>\n",
       "      <td>What a great addition to the Funk Zone Grab a ...</td>\n",
       "      <td>what a great addit to the funk zone grab a bit...</td>\n",
       "    </tr>\n",
       "    <tr>\n",
       "      <th>1</th>\n",
       "      <td>1</td>\n",
       "      <td>Possibly the best breakfast sandwich EVER.  On...</td>\n",
       "      <td>5</td>\n",
       "      <td>['Possibly', 'the', 'best', 'breakfast', 'sand...</td>\n",
       "      <td>Possibly the best breakfast sandwich EVER On a...</td>\n",
       "      <td>possibl the best breakfast sandwich ever on a ...</td>\n",
       "    </tr>\n",
       "    <tr>\n",
       "      <th>2</th>\n",
       "      <td>2</td>\n",
       "      <td>Pricey ( a ham and cheese croissant was $5.50)...</td>\n",
       "      <td>4</td>\n",
       "      <td>['Pricey', 'a', 'ham', 'and', 'cheese', 'crois...</td>\n",
       "      <td>Pricey a ham and cheese croissant wa 5 50 a wi...</td>\n",
       "      <td>pricey a ham and chees croissant wa 5 50 as wi...</td>\n",
       "    </tr>\n",
       "    <tr>\n",
       "      <th>3</th>\n",
       "      <td>3</td>\n",
       "      <td>Are you kidding me? This is without a doubt so...</td>\n",
       "      <td>5</td>\n",
       "      <td>['Are', 'you', 'kidding', 'me', 'This', 'is', ...</td>\n",
       "      <td>Are you kidding me This is without a doubt som...</td>\n",
       "      <td>are you kid me thi is without a doubt some of ...</td>\n",
       "    </tr>\n",
       "    <tr>\n",
       "      <th>4</th>\n",
       "      <td>4</td>\n",
       "      <td>Super slow service, \"salads\" are not very good...</td>\n",
       "      <td>2</td>\n",
       "      <td>['Super', 'slow', 'service', 'salads', 'are', ...</td>\n",
       "      <td>Super slow service salad are not very good and...</td>\n",
       "      <td>super slow servic salad are not veri good and ...</td>\n",
       "    </tr>\n",
       "    <tr>\n",
       "      <th>...</th>\n",
       "      <td>...</td>\n",
       "      <td>...</td>\n",
       "      <td>...</td>\n",
       "      <td>...</td>\n",
       "      <td>...</td>\n",
       "      <td>...</td>\n",
       "    </tr>\n",
       "    <tr>\n",
       "      <th>205459</th>\n",
       "      <td>205459</td>\n",
       "      <td>This is one of my new favorite pizza joints he...</td>\n",
       "      <td>5</td>\n",
       "      <td>['This', 'is', 'one', 'of', 'my', 'new', 'favo...</td>\n",
       "      <td>This is one of my new favorite pizza joint her...</td>\n",
       "      <td>thi is one of my new favorit pizza joint here ...</td>\n",
       "    </tr>\n",
       "    <tr>\n",
       "      <th>205460</th>\n",
       "      <td>205460</td>\n",
       "      <td>Ordered vegan chicken and Daiya cheese and onl...</td>\n",
       "      <td>4</td>\n",
       "      <td>['Ordered', 'vegan', 'chicken', 'and', 'Daiya'...</td>\n",
       "      <td>Ordered vegan chicken and Daiya cheese and onl...</td>\n",
       "      <td>order vegan chicken and daiya chees and onli w...</td>\n",
       "    </tr>\n",
       "    <tr>\n",
       "      <th>205461</th>\n",
       "      <td>205461</td>\n",
       "      <td>This was the worst pizza I've ever had ever ea...</td>\n",
       "      <td>1</td>\n",
       "      <td>['This', 'was', 'the', 'worst', 'pizza', 'I', ...</td>\n",
       "      <td>This wa the worst pizza I ve ever had ever eat...</td>\n",
       "      <td>thi wa the worst pizza i ve ever had ever eate...</td>\n",
       "    </tr>\n",
       "    <tr>\n",
       "      <th>205462</th>\n",
       "      <td>205462</td>\n",
       "      <td>One of the best pizzas in SB....seriously!!!\\n...</td>\n",
       "      <td>5</td>\n",
       "      <td>['One', 'of', 'the', 'best', 'pizzas', 'in', '...</td>\n",
       "      <td>One of the best pizza in SB seriously This is ...</td>\n",
       "      <td>one of the best pizza in sb serious thi is a r...</td>\n",
       "    </tr>\n",
       "    <tr>\n",
       "      <th>205463</th>\n",
       "      <td>205463</td>\n",
       "      <td>We wanted a calzone and it was getting around ...</td>\n",
       "      <td>5</td>\n",
       "      <td>['We', 'wanted', 'a', 'calzone', 'and', 'it', ...</td>\n",
       "      <td>We wanted a calzone and it wa getting around t...</td>\n",
       "      <td>we want a calzon and it wa get around the time...</td>\n",
       "    </tr>\n",
       "  </tbody>\n",
       "</table>\n",
       "<p>205464 rows × 6 columns</p>\n",
       "</div>"
      ],
      "text/plain": [
       "        Unnamed: 0                                               text  \\\n",
       "0                0  What a great addition to the Funk Zone!  Grab ...   \n",
       "1                1  Possibly the best breakfast sandwich EVER.  On...   \n",
       "2                2  Pricey ( a ham and cheese croissant was $5.50)...   \n",
       "3                3  Are you kidding me? This is without a doubt so...   \n",
       "4                4  Super slow service, \"salads\" are not very good...   \n",
       "...            ...                                                ...   \n",
       "205459      205459  This is one of my new favorite pizza joints he...   \n",
       "205460      205460  Ordered vegan chicken and Daiya cheese and onl...   \n",
       "205461      205461  This was the worst pizza I've ever had ever ea...   \n",
       "205462      205462  One of the best pizzas in SB....seriously!!!\\n...   \n",
       "205463      205463  We wanted a calzone and it was getting around ...   \n",
       "\n",
       "        review_stars                                             tokens  \\\n",
       "0                  5  ['What', 'a', 'great', 'addition', 'to', 'the'...   \n",
       "1                  5  ['Possibly', 'the', 'best', 'breakfast', 'sand...   \n",
       "2                  4  ['Pricey', 'a', 'ham', 'and', 'cheese', 'crois...   \n",
       "3                  5  ['Are', 'you', 'kidding', 'me', 'This', 'is', ...   \n",
       "4                  2  ['Super', 'slow', 'service', 'salads', 'are', ...   \n",
       "...              ...                                                ...   \n",
       "205459             5  ['This', 'is', 'one', 'of', 'my', 'new', 'favo...   \n",
       "205460             4  ['Ordered', 'vegan', 'chicken', 'and', 'Daiya'...   \n",
       "205461             1  ['This', 'was', 'the', 'worst', 'pizza', 'I', ...   \n",
       "205462             5  ['One', 'of', 'the', 'best', 'pizzas', 'in', '...   \n",
       "205463             5  ['We', 'wanted', 'a', 'calzone', 'and', 'it', ...   \n",
       "\n",
       "                                                    lemma  \\\n",
       "0       What a great addition to the Funk Zone Grab a ...   \n",
       "1       Possibly the best breakfast sandwich EVER On a...   \n",
       "2       Pricey a ham and cheese croissant wa 5 50 a wi...   \n",
       "3       Are you kidding me This is without a doubt som...   \n",
       "4       Super slow service salad are not very good and...   \n",
       "...                                                   ...   \n",
       "205459  This is one of my new favorite pizza joint her...   \n",
       "205460  Ordered vegan chicken and Daiya cheese and onl...   \n",
       "205461  This wa the worst pizza I ve ever had ever eat...   \n",
       "205462  One of the best pizza in SB seriously This is ...   \n",
       "205463  We wanted a calzone and it wa getting around t...   \n",
       "\n",
       "                                                    stems  \n",
       "0       what a great addit to the funk zone grab a bit...  \n",
       "1       possibl the best breakfast sandwich ever on a ...  \n",
       "2       pricey a ham and chees croissant wa 5 50 as wi...  \n",
       "3       are you kid me thi is without a doubt some of ...  \n",
       "4       super slow servic salad are not veri good and ...  \n",
       "...                                                   ...  \n",
       "205459  thi is one of my new favorit pizza joint here ...  \n",
       "205460  order vegan chicken and daiya chees and onli w...  \n",
       "205461  thi wa the worst pizza i ve ever had ever eate...  \n",
       "205462  one of the best pizza in sb serious thi is a r...  \n",
       "205463  we want a calzon and it wa get around the time...  \n",
       "\n",
       "[205464 rows x 6 columns]"
      ]
     },
     "execution_count": 20,
     "metadata": {},
     "output_type": "execute_result"
    }
   ],
   "source": [
    "pdf"
   ]
  },
  {
   "cell_type": "code",
   "execution_count": 18,
   "metadata": {},
   "outputs": [
    {
     "data": {
      "text/html": [
       "<div>\n",
       "<style scoped>\n",
       "    .dataframe tbody tr th:only-of-type {\n",
       "        vertical-align: middle;\n",
       "    }\n",
       "\n",
       "    .dataframe tbody tr th {\n",
       "        vertical-align: top;\n",
       "    }\n",
       "\n",
       "    .dataframe thead th {\n",
       "        text-align: right;\n",
       "    }\n",
       "</style>\n",
       "<table border=\"1\" class=\"dataframe\">\n",
       "  <thead>\n",
       "    <tr style=\"text-align: right;\">\n",
       "      <th></th>\n",
       "      <th>text</th>\n",
       "      <th>review_stars</th>\n",
       "    </tr>\n",
       "  </thead>\n",
       "  <tbody>\n",
       "    <tr>\n",
       "      <th>0</th>\n",
       "      <td>What a great addition to the Funk Zone!  Grab ...</td>\n",
       "      <td>5</td>\n",
       "    </tr>\n",
       "    <tr>\n",
       "      <th>1</th>\n",
       "      <td>Possibly the best breakfast sandwich EVER.  On...</td>\n",
       "      <td>5</td>\n",
       "    </tr>\n",
       "    <tr>\n",
       "      <th>2</th>\n",
       "      <td>Pricey ( a ham and cheese croissant was $5.50)...</td>\n",
       "      <td>4</td>\n",
       "    </tr>\n",
       "    <tr>\n",
       "      <th>3</th>\n",
       "      <td>Are you kidding me? This is without a doubt so...</td>\n",
       "      <td>5</td>\n",
       "    </tr>\n",
       "    <tr>\n",
       "      <th>4</th>\n",
       "      <td>Super slow service, \"salads\" are not very good...</td>\n",
       "      <td>2</td>\n",
       "    </tr>\n",
       "    <tr>\n",
       "      <th>...</th>\n",
       "      <td>...</td>\n",
       "      <td>...</td>\n",
       "    </tr>\n",
       "    <tr>\n",
       "      <th>205459</th>\n",
       "      <td>This is one of my new favorite pizza joints he...</td>\n",
       "      <td>5</td>\n",
       "    </tr>\n",
       "    <tr>\n",
       "      <th>205460</th>\n",
       "      <td>Ordered vegan chicken and Daiya cheese and onl...</td>\n",
       "      <td>4</td>\n",
       "    </tr>\n",
       "    <tr>\n",
       "      <th>205461</th>\n",
       "      <td>This was the worst pizza I've ever had ever ea...</td>\n",
       "      <td>1</td>\n",
       "    </tr>\n",
       "    <tr>\n",
       "      <th>205462</th>\n",
       "      <td>One of the best pizzas in SB....seriously!!!\\n...</td>\n",
       "      <td>5</td>\n",
       "    </tr>\n",
       "    <tr>\n",
       "      <th>205463</th>\n",
       "      <td>We wanted a calzone and it was getting around ...</td>\n",
       "      <td>5</td>\n",
       "    </tr>\n",
       "  </tbody>\n",
       "</table>\n",
       "<p>205464 rows × 2 columns</p>\n",
       "</div>"
      ],
      "text/plain": [
       "                                                     text  review_stars\n",
       "0       What a great addition to the Funk Zone!  Grab ...             5\n",
       "1       Possibly the best breakfast sandwich EVER.  On...             5\n",
       "2       Pricey ( a ham and cheese croissant was $5.50)...             4\n",
       "3       Are you kidding me? This is without a doubt so...             5\n",
       "4       Super slow service, \"salads\" are not very good...             2\n",
       "...                                                   ...           ...\n",
       "205459  This is one of my new favorite pizza joints he...             5\n",
       "205460  Ordered vegan chicken and Daiya cheese and onl...             4\n",
       "205461  This was the worst pizza I've ever had ever ea...             1\n",
       "205462  One of the best pizzas in SB....seriously!!!\\n...             5\n",
       "205463  We wanted a calzone and it was getting around ...             5\n",
       "\n",
       "[205464 rows x 2 columns]"
      ]
     },
     "execution_count": 18,
     "metadata": {},
     "output_type": "execute_result"
    }
   ],
   "source": [
    "df"
   ]
  },
  {
   "cell_type": "code",
   "execution_count": 8,
   "metadata": {},
   "outputs": [],
   "source": [
    "df=df[['text','review_stars']]"
   ]
  },
  {
   "cell_type": "code",
   "execution_count": 21,
   "metadata": {},
   "outputs": [],
   "source": [
    "ldf=pdf[['lemma','review_stars']]"
   ]
  },
  {
   "cell_type": "code",
   "execution_count": 12,
   "metadata": {},
   "outputs": [],
   "source": [
    "from sklearn.utils import class_weight\n",
    "class_weights = list(class_weight.compute_class_weight(class_weight='balanced',\n",
    "                                classes=np.unique(df['review_stars']),\n",
    "                                y =df['review_stars']))"
   ]
  },
  {
   "cell_type": "code",
   "execution_count": 57,
   "metadata": {},
   "outputs": [],
   "source": [
    "X_train, X_test = train_test_split(df, test_size=0.2, random_state=42)"
   ]
  },
  {
   "cell_type": "code",
   "execution_count": 58,
   "metadata": {},
   "outputs": [
    {
     "data": {
      "text/html": [
       "<div>\n",
       "<style scoped>\n",
       "    .dataframe tbody tr th:only-of-type {\n",
       "        vertical-align: middle;\n",
       "    }\n",
       "\n",
       "    .dataframe tbody tr th {\n",
       "        vertical-align: top;\n",
       "    }\n",
       "\n",
       "    .dataframe thead th {\n",
       "        text-align: right;\n",
       "    }\n",
       "</style>\n",
       "<table border=\"1\" class=\"dataframe\">\n",
       "  <thead>\n",
       "    <tr style=\"text-align: right;\">\n",
       "      <th></th>\n",
       "      <th>text</th>\n",
       "      <th>review_stars</th>\n",
       "    </tr>\n",
       "  </thead>\n",
       "  <tbody>\n",
       "    <tr>\n",
       "      <th>1025</th>\n",
       "      <td>Location is central, right on the pier with a ...</td>\n",
       "      <td>3</td>\n",
       "    </tr>\n",
       "    <tr>\n",
       "      <th>133860</th>\n",
       "      <td>Whenever I am in town and crave some Chinese f...</td>\n",
       "      <td>5</td>\n",
       "    </tr>\n",
       "    <tr>\n",
       "      <th>75707</th>\n",
       "      <td>Great beer, food was alright mostly salty food...</td>\n",
       "      <td>4</td>\n",
       "    </tr>\n",
       "    <tr>\n",
       "      <th>102520</th>\n",
       "      <td>Where do I start?\\nI can eat just about anythi...</td>\n",
       "      <td>1</td>\n",
       "    </tr>\n",
       "    <tr>\n",
       "      <th>93049</th>\n",
       "      <td>So the food and the service was pretty good. I...</td>\n",
       "      <td>2</td>\n",
       "    </tr>\n",
       "    <tr>\n",
       "      <th>...</th>\n",
       "      <td>...</td>\n",
       "      <td>...</td>\n",
       "    </tr>\n",
       "    <tr>\n",
       "      <th>119879</th>\n",
       "      <td>Despite a little mixup on arrival, we ended up...</td>\n",
       "      <td>4</td>\n",
       "    </tr>\n",
       "    <tr>\n",
       "      <th>103694</th>\n",
       "      <td>Best food ever.. it was about time our town go...</td>\n",
       "      <td>5</td>\n",
       "    </tr>\n",
       "    <tr>\n",
       "      <th>131932</th>\n",
       "      <td>Fun place.. hospitality and drinks are incredi...</td>\n",
       "      <td>4</td>\n",
       "    </tr>\n",
       "    <tr>\n",
       "      <th>146867</th>\n",
       "      <td>Two of my friends ordered the trout dinner ..T...</td>\n",
       "      <td>1</td>\n",
       "    </tr>\n",
       "    <tr>\n",
       "      <th>121958</th>\n",
       "      <td>Wonderful service. Came here for brunch with f...</td>\n",
       "      <td>5</td>\n",
       "    </tr>\n",
       "  </tbody>\n",
       "</table>\n",
       "<p>164371 rows × 2 columns</p>\n",
       "</div>"
      ],
      "text/plain": [
       "                                                     text  review_stars\n",
       "1025    Location is central, right on the pier with a ...             3\n",
       "133860  Whenever I am in town and crave some Chinese f...             5\n",
       "75707   Great beer, food was alright mostly salty food...             4\n",
       "102520  Where do I start?\\nI can eat just about anythi...             1\n",
       "93049   So the food and the service was pretty good. I...             2\n",
       "...                                                   ...           ...\n",
       "119879  Despite a little mixup on arrival, we ended up...             4\n",
       "103694  Best food ever.. it was about time our town go...             5\n",
       "131932  Fun place.. hospitality and drinks are incredi...             4\n",
       "146867  Two of my friends ordered the trout dinner ..T...             1\n",
       "121958  Wonderful service. Came here for brunch with f...             5\n",
       "\n",
       "[164371 rows x 2 columns]"
      ]
     },
     "execution_count": 58,
     "metadata": {},
     "output_type": "execute_result"
    }
   ],
   "source": [
    "X_train\n"
   ]
  },
  {
   "cell_type": "code",
   "execution_count": 59,
   "metadata": {},
   "outputs": [],
   "source": [
    "X_train['review_stars']=X_train[\"review_stars\"]-1"
   ]
  },
  {
   "cell_type": "code",
   "execution_count": 60,
   "metadata": {},
   "outputs": [],
   "source": [
    "X_test['review_stars']=X_test[\"review_stars\"]-1"
   ]
  },
  {
   "cell_type": "code",
   "execution_count": 61,
   "metadata": {},
   "outputs": [],
   "source": [
    "class_weights.sort()"
   ]
  },
  {
   "cell_type": "code",
   "execution_count": 62,
   "metadata": {},
   "outputs": [
    {
     "data": {
      "text/plain": [
       "5    102470\n",
       "4     45823\n",
       "3     21149\n",
       "1     20272\n",
       "2     15750\n",
       "Name: review_stars, dtype: int64"
      ]
     },
     "execution_count": 62,
     "metadata": {},
     "output_type": "execute_result"
    }
   ],
   "source": [
    "df['review_stars'].value_counts()"
   ]
  },
  {
   "cell_type": "code",
   "execution_count": 63,
   "metadata": {},
   "outputs": [
    {
     "data": {
      "text/plain": [
       "[0.40102273836244756,\n",
       " 0.8967723632237086,\n",
       " 1.9430138540829354,\n",
       " 2.02707182320442,\n",
       " 2.6090666666666666]"
      ]
     },
     "execution_count": 63,
     "metadata": {},
     "output_type": "execute_result"
    }
   ],
   "source": [
    "class_weights"
   ]
  },
  {
   "cell_type": "code",
   "execution_count": 16,
   "metadata": {},
   "outputs": [],
   "source": [
    "weights={}\n",
    "for index,weight in enumerate(class_weights):\n",
    "    weights[index]=weight"
   ]
  },
  {
   "cell_type": "code",
   "execution_count": 17,
   "metadata": {},
   "outputs": [
    {
     "data": {
      "text/plain": [
       "{0: 0.40102273836244756,\n",
       " 1: 0.8967723632237086,\n",
       " 2: 1.9430138540829354,\n",
       " 3: 2.02707182320442,\n",
       " 4: 2.6090666666666666}"
      ]
     },
     "execution_count": 17,
     "metadata": {},
     "output_type": "execute_result"
    }
   ],
   "source": [
    "weights"
   ]
  },
  {
   "cell_type": "code",
   "execution_count": 64,
   "metadata": {},
   "outputs": [
    {
     "name": "stdout",
     "output_type": "stream",
     "text": [
      "Len of training data 164371\n",
      "Len of testing data 41093\n"
     ]
    }
   ],
   "source": [
    "dataset_train=tf.data.Dataset.from_tensor_slices((X_train[\"text\"].values,X_train[\"review_stars\"].values))\n",
    "dataset_test=tf.data.Dataset.from_tensor_slices((X_test[\"text\"].values,X_test[\"review_stars\"].values))\n",
    "print(\"Len of training data\",len(dataset_train))\n",
    "print(\"Len of testing data\",len(dataset_test))"
   ]
  },
  {
   "cell_type": "code",
   "execution_count": 65,
   "metadata": {},
   "outputs": [
    {
     "name": "stdout",
     "output_type": "stream",
     "text": [
      "Review: b'Location is central, right on the pier with a nice view. Restaurant is small, seats are tight together. Service was okay! We liked our Clam chowder on bread, the rest we ordered was just so so. There are so many other choices just by the pier, we will try other restaurants when we visit the area again next time.',\n",
      " Star: 2\n"
     ]
    }
   ],
   "source": [
    "for text,target in dataset_train.take(1):\n",
    "    print('Review: {},\\n Star: {}'.format(text,target))"
   ]
  },
  {
   "cell_type": "code",
   "execution_count": 66,
   "metadata": {},
   "outputs": [
    {
     "name": "stdout",
     "output_type": "stream",
     "text": [
      "Review: b\"Came here with a bachelorette party for lunch. This was a recommendation from a former local I know. \\n\\nIt's an order at the register and sit down and it's delivered to your table kind of place. We came in around 1 and it was pretty busy. Despite this, the staff set up a table for us right away.\\n\\nI ordered Baja tacos. I really liked them, they had a little bit too much sauce on them, but overall I would try them again. The other girls ordered, tacos del mar, steak tacos, open face tacos etc. Everyone was really pleasantly surprised and excited. \\n\\nThe only down side was finding parking.\",\n",
      " Star: 4\n"
     ]
    }
   ],
   "source": [
    "for text,target in dataset_test.take(1):\n",
    "    print('Review: {},\\n Star: {}'.format(text,target))"
   ]
  },
  {
   "cell_type": "code",
   "execution_count": 67,
   "metadata": {},
   "outputs": [],
   "source": [
    "def fetch(text, labels):\n",
    "    return text,tf.one_hot(labels,5)"
   ]
  },
  {
   "cell_type": "code",
   "execution_count": 68,
   "metadata": {},
   "outputs": [],
   "source": [
    "train_data_one=dataset_train.map(fetch)\n",
    "test_data_one=dataset_test.map(fetch)"
   ]
  },
  {
   "cell_type": "code",
   "execution_count": 69,
   "metadata": {},
   "outputs": [
    {
     "data": {
      "text/plain": [
       "(<tf.Tensor: shape=(), dtype=string, numpy=b'Location is central, right on the pier with a nice view. Restaurant is small, seats are tight together. Service was okay! We liked our Clam chowder on bread, the rest we ordered was just so so. There are so many other choices just by the pier, we will try other restaurants when we visit the area again next time.'>,\n",
       " <tf.Tensor: shape=(5,), dtype=float32, numpy=array([0., 0., 1., 0., 0.], dtype=float32)>)"
      ]
     },
     "execution_count": 69,
     "metadata": {},
     "output_type": "execute_result"
    }
   ],
   "source": [
    "next(iter(train_data_one))"
   ]
  },
  {
   "cell_type": "code",
   "execution_count": 70,
   "metadata": {},
   "outputs": [
    {
     "data": {
      "text/plain": [
       "(<tf.Tensor: shape=(), dtype=string, numpy=b\"Came here with a bachelorette party for lunch. This was a recommendation from a former local I know. \\n\\nIt's an order at the register and sit down and it's delivered to your table kind of place. We came in around 1 and it was pretty busy. Despite this, the staff set up a table for us right away.\\n\\nI ordered Baja tacos. I really liked them, they had a little bit too much sauce on them, but overall I would try them again. The other girls ordered, tacos del mar, steak tacos, open face tacos etc. Everyone was really pleasantly surprised and excited. \\n\\nThe only down side was finding parking.\">,\n",
       " <tf.Tensor: shape=(5,), dtype=float32, numpy=array([0., 0., 0., 0., 1.], dtype=float32)>)"
      ]
     },
     "execution_count": 70,
     "metadata": {},
     "output_type": "execute_result"
    }
   ],
   "source": [
    "next(iter(test_data_one))"
   ]
  },
  {
   "cell_type": "code",
   "execution_count": 71,
   "metadata": {},
   "outputs": [],
   "source": [
    "embedding=\"https://tfhub.dev/google/tf2-preview/nnlm-en-dim128/1\""
   ]
  },
  {
   "cell_type": "code",
   "execution_count": 73,
   "metadata": {},
   "outputs": [],
   "source": [
    "train_data,train_labels=next(iter(train_data_one.batch(5)))"
   ]
  },
  {
   "cell_type": "code",
   "execution_count": 72,
   "metadata": {},
   "outputs": [
    {
     "name": "stdout",
     "output_type": "stream",
     "text": [
      "WARNING:tensorflow:Please fix your imports. Module tensorflow.python.training.tracking.data_structures has been moved to tensorflow.python.trackable.data_structures. The old module will be deleted in version 2.11.\n"
     ]
    }
   ],
   "source": [
    "hub_layer=hub.KerasLayer(embedding,output_shape=[128],input_shape=[],\n",
    "                        dtype=tf.string,trainable=True)"
   ]
  },
  {
   "cell_type": "code",
   "execution_count": 74,
   "metadata": {},
   "outputs": [
    {
     "data": {
      "text/plain": [
       "<tf.Tensor: shape=(1, 128), dtype=float32, numpy=\n",
       "array([[ 0.75783455,  0.00168396,  0.16151853,  0.30778477,  0.07091644,\n",
       "         0.13403703, -0.03691614, -0.20054229,  0.04383904,  0.14700083,\n",
       "        -0.041282  , -0.05731475,  0.0548557 , -0.10773784,  0.15131384,\n",
       "        -0.02645872, -0.12017765, -0.1300311 , -0.20037632,  0.4689916 ,\n",
       "         0.01125909,  0.02216557, -0.08325087, -0.02962836,  0.09385838,\n",
       "        -0.3486678 ,  0.11687928,  0.07690086, -0.06866097,  0.06200006,\n",
       "        -0.03414959, -0.07064124,  0.24115461,  0.14443798,  0.15180892,\n",
       "         0.07984551,  0.14023668, -0.13683932, -0.00674952,  0.19818462,\n",
       "         0.1196639 , -0.03489685, -0.13811593, -0.06081371, -0.02123419,\n",
       "         0.1591296 , -0.05187413, -0.13239482, -0.36144474, -0.01035706,\n",
       "         0.04011806,  0.10807533,  0.06838969,  0.03281809, -0.11109102,\n",
       "         0.04239985, -0.04068753, -0.17173074,  0.03453194,  0.07049307,\n",
       "        -0.11636937,  0.08905765, -0.04003426, -0.1285472 , -0.09458155,\n",
       "        -0.01063242, -0.14064808, -0.06381875, -0.01190596,  0.01069226,\n",
       "        -0.02528678,  0.08614947, -0.1654453 , -0.19430085,  0.15705912,\n",
       "         0.16440308, -0.21693404, -0.12327118,  0.08040974, -0.11325519,\n",
       "         0.16865642,  0.28991205,  0.09030136, -0.1736051 ,  0.0901072 ,\n",
       "        -0.04997071, -0.06946837,  0.19075634,  0.6088639 ,  0.21832444,\n",
       "        -0.2648114 ,  0.11167912,  0.01493699, -0.3191258 ,  0.03258567,\n",
       "         0.09966976,  0.07335978, -0.20803948,  0.09421389,  0.05656952,\n",
       "         0.21076483,  0.05639504,  0.04480807, -0.02020278,  0.01393741,\n",
       "         0.00641577, -0.21202022,  0.14726867,  0.02631807,  0.02294309,\n",
       "        -0.11696241,  0.07237564,  0.2003078 ,  0.06221399, -0.26520038,\n",
       "        -0.21487536,  0.04627141,  0.09014767, -0.13107756,  0.10039264,\n",
       "        -0.00453924, -0.05555218, -0.08994315,  0.02379643,  0.11301402,\n",
       "        -0.08775541,  0.10152033, -0.00398337]], dtype=float32)>"
      ]
     },
     "execution_count": 74,
     "metadata": {},
     "output_type": "execute_result"
    }
   ],
   "source": [
    "hub_layer(train_data[:1])"
   ]
  },
  {
   "cell_type": "code",
   "execution_count": 75,
   "metadata": {},
   "outputs": [],
   "source": [
    "model=tf.keras.Sequential()\n",
    "model.add(hub_layer)\n",
    "for units in [128,128,64,32]:\n",
    "    model.add(tf.keras.layers.Dense(units,activation='relu'))\n",
    "    model.add(tf.keras.layers.Dropout(0.2))\n",
    "model.add(tf.keras.layers.Dense(5,activation='softmax'))"
   ]
  },
  {
   "cell_type": "code",
   "execution_count": 76,
   "metadata": {},
   "outputs": [
    {
     "name": "stdout",
     "output_type": "stream",
     "text": [
      "Model: \"sequential\"\n",
      "_________________________________________________________________\n",
      " Layer (type)                Output Shape              Param #   \n",
      "=================================================================\n",
      " keras_layer (KerasLayer)    (None, 128)               124642688 \n",
      "                                                                 \n",
      " dense (Dense)               (None, 128)               16512     \n",
      "                                                                 \n",
      " dropout (Dropout)           (None, 128)               0         \n",
      "                                                                 \n",
      " dense_1 (Dense)             (None, 128)               16512     \n",
      "                                                                 \n",
      " dropout_1 (Dropout)         (None, 128)               0         \n",
      "                                                                 \n",
      " dense_2 (Dense)             (None, 64)                8256      \n",
      "                                                                 \n",
      " dropout_2 (Dropout)         (None, 64)                0         \n",
      "                                                                 \n",
      " dense_3 (Dense)             (None, 32)                2080      \n",
      "                                                                 \n",
      " dropout_3 (Dropout)         (None, 32)                0         \n",
      "                                                                 \n",
      " dense_4 (Dense)             (None, 5)                 165       \n",
      "                                                                 \n",
      "=================================================================\n",
      "Total params: 124,686,213\n",
      "Trainable params: 124,686,213\n",
      "Non-trainable params: 0\n",
      "_________________________________________________________________\n"
     ]
    }
   ],
   "source": [
    "model.summary()"
   ]
  },
  {
   "cell_type": "code",
   "execution_count": 77,
   "metadata": {},
   "outputs": [],
   "source": [
    "model.compile(optimizer='adam',\n",
    "                loss='categorical_crossentropy',\n",
    "                metrics=['accuracy'])"
   ]
  },
  {
   "cell_type": "code",
   "execution_count": 78,
   "metadata": {},
   "outputs": [],
   "source": [
    "train_data_one=train_data_one.shuffle(50000).batch(512)\n",
    "test_data_one=test_data_one.batch(512)"
   ]
  },
  {
   "cell_type": "code",
   "execution_count": 79,
   "metadata": {},
   "outputs": [
    {
     "name": "stdout",
     "output_type": "stream",
     "text": [
      "Epoch 1/10\n",
      "322/322 [==============================] - 18s 50ms/step - loss: 1.6189 - accuracy: 0.5754 - val_loss: 0.7995 - val_accuracy: 0.6662\n",
      "Epoch 2/10\n",
      "322/322 [==============================] - 16s 49ms/step - loss: 1.2949 - accuracy: 0.6715 - val_loss: 0.8038 - val_accuracy: 0.6632\n",
      "Epoch 3/10\n",
      "322/322 [==============================] - 16s 49ms/step - loss: 1.1852 - accuracy: 0.7035 - val_loss: 0.8030 - val_accuracy: 0.6636\n",
      "Epoch 4/10\n",
      "322/322 [==============================] - 16s 49ms/step - loss: 1.0792 - accuracy: 0.7314 - val_loss: 0.8463 - val_accuracy: 0.6664\n",
      "Epoch 5/10\n",
      "322/322 [==============================] - 16s 49ms/step - loss: 0.9531 - accuracy: 0.7624 - val_loss: 0.9120 - val_accuracy: 0.6555\n",
      "Epoch 6/10\n",
      "322/322 [==============================] - 16s 49ms/step - loss: 0.8102 - accuracy: 0.7951 - val_loss: 0.9816 - val_accuracy: 0.6567\n",
      "Epoch 7/10\n",
      "322/322 [==============================] - 16s 49ms/step - loss: 0.6679 - accuracy: 0.8292 - val_loss: 1.1839 - val_accuracy: 0.6403\n",
      "Epoch 8/10\n",
      "322/322 [==============================] - 16s 49ms/step - loss: 0.5504 - accuracy: 0.8552 - val_loss: 1.2455 - val_accuracy: 0.6449\n",
      "Epoch 9/10\n",
      "322/322 [==============================] - 16s 49ms/step - loss: 0.4537 - accuracy: 0.8758 - val_loss: 1.4453 - val_accuracy: 0.6423\n",
      "Epoch 10/10\n",
      "322/322 [==============================] - 16s 49ms/step - loss: 0.3941 - accuracy: 0.8897 - val_loss: 1.5290 - val_accuracy: 0.6335\n"
     ]
    }
   ],
   "source": [
    "history=model.fit(train_data_one,\n",
    "                    epochs=10,\n",
    "                        validation_data=test_data_one,\n",
    "                        class_weight=weights)"
   ]
  },
  {
   "cell_type": "code",
   "execution_count": 81,
   "metadata": {},
   "outputs": [
    {
     "name": "stdout",
     "output_type": "stream",
     "text": [
      "3/3 - 1s - loss: 1.5290 - accuracy: 0.6336 - 834ms/epoch - 278ms/step\n"
     ]
    }
   ],
   "source": [
    "results=model.evaluate(dataset_test.map(fetch).batch(20000),verbose=2)"
   ]
  },
  {
   "cell_type": "code",
   "execution_count": 82,
   "metadata": {},
   "outputs": [],
   "source": [
    "test_data,test_labels=next(iter(dataset_test.map(fetch).batch(30000)))"
   ]
  },
  {
   "cell_type": "code",
   "execution_count": 84,
   "metadata": {},
   "outputs": [
    {
     "name": "stdout",
     "output_type": "stream",
     "text": [
      "938/938 [==============================] - 3s 3ms/step\n"
     ]
    }
   ],
   "source": [
    "y_pred=model.predict(test_data)"
   ]
  },
  {
   "cell_type": "code",
   "execution_count": 85,
   "metadata": {},
   "outputs": [],
   "source": [
    "from sklearn.metrics import confusion_matrix,classification_report"
   ]
  },
  {
   "cell_type": "code",
   "execution_count": 87,
   "metadata": {},
   "outputs": [
    {
     "name": "stdout",
     "output_type": "stream",
     "text": [
      "              precision    recall  f1-score   support\n",
      "\n",
      "           0       0.77      0.44      0.56      2884\n",
      "           1       0.35      0.39      0.37      2250\n",
      "           2       0.40      0.45      0.43      3065\n",
      "           3       0.47      0.44      0.45      6805\n",
      "           4       0.77      0.83      0.80     14996\n",
      "\n",
      "    accuracy                           0.63     30000\n",
      "   macro avg       0.55      0.51      0.52     30000\n",
      "weighted avg       0.63      0.63      0.63     30000\n",
      "\n"
     ]
    }
   ],
   "source": [
    "print(classification_report(test_labels.numpy().argmax(axis=1),y_pred.argmax(axis=1)))"
   ]
  },
  {
   "cell_type": "code",
   "execution_count": null,
   "metadata": {},
   "outputs": [],
   "source": []
  }
 ],
 "metadata": {
  "kernelspec": {
   "display_name": "Python 3 (ipykernel)",
   "language": "python",
   "name": "python3"
  },
  "language_info": {
   "codemirror_mode": {
    "name": "ipython",
    "version": 3
   },
   "file_extension": ".py",
   "mimetype": "text/x-python",
   "name": "python",
   "nbconvert_exporter": "python",
   "pygments_lexer": "ipython3",
   "version": "3.10.8"
  },
  "vscode": {
   "interpreter": {
    "hash": "be1130cc366ce64c2af566ee12e797ac4446b6a928687bd6f2dd0eaf2725f7ce"
   }
  }
 },
 "nbformat": 4,
 "nbformat_minor": 2
}
