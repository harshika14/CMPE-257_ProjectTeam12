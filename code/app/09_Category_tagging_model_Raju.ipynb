{
 "cells": [
  {
   "cell_type": "code",
   "execution_count": 2,
   "metadata": {},
   "outputs": [],
   "source": [
    "import pandas as pd\n",
    "import numpy as np\n",
    "import matplotlib.pyplot as plt\n",
    "import seaborn as sns\n",
    "import nltk\n",
    "from nltk.corpus import stopwords\n",
    "from tqdm import tqdm\n",
    "from tqdm import tqdm_notebook\n",
    "import string\n",
    "from collections import Counter\n",
    "import itertools\n",
    "from sklearn import metrics\n",
    "from sklearn.feature_extraction.text import TfidfVectorizer\n",
    "from sklearn.svm import LinearSVC\n",
    "from sklearn.pipeline import Pipeline, FeatureUnion\n",
    "from sklearn.model_selection import train_test_split\n",
    "from sklearn.metrics import accuracy_score,precision_score,recall_score,classification_report\n",
    "import pickle"
   ]
  },
  {
   "cell_type": "code",
   "execution_count": 3,
   "metadata": {},
   "outputs": [],
   "source": [
    "tag_dataset=pd.read_csv(\"tagging_dataset.csv\")\n",
    "tag_dataset=tag_dataset.reset_index(drop=True)"
   ]
  },
  {
   "cell_type": "code",
   "execution_count": 4,
   "metadata": {},
   "outputs": [],
   "source": [
    "tag_dataset=tag_dataset[[\"text\",\"categories\"]]"
   ]
  },
  {
   "cell_type": "code",
   "execution_count": 5,
   "metadata": {},
   "outputs": [
    {
     "data": {
      "text/html": [
       "<div>\n",
       "<style scoped>\n",
       "    .dataframe tbody tr th:only-of-type {\n",
       "        vertical-align: middle;\n",
       "    }\n",
       "\n",
       "    .dataframe tbody tr th {\n",
       "        vertical-align: top;\n",
       "    }\n",
       "\n",
       "    .dataframe thead th {\n",
       "        text-align: right;\n",
       "    }\n",
       "</style>\n",
       "<table border=\"1\" class=\"dataframe\">\n",
       "  <thead>\n",
       "    <tr style=\"text-align: right;\">\n",
       "      <th></th>\n",
       "      <th>text</th>\n",
       "      <th>categories</th>\n",
       "    </tr>\n",
       "  </thead>\n",
       "  <tbody>\n",
       "    <tr>\n",
       "      <th>0</th>\n",
       "      <td>Excellent and consistant car wash every time! ...</td>\n",
       "      <td>Automotive</td>\n",
       "    </tr>\n",
       "    <tr>\n",
       "      <th>1</th>\n",
       "      <td>What fantastic service. I scheduled an appoint...</td>\n",
       "      <td>Automotive</td>\n",
       "    </tr>\n",
       "    <tr>\n",
       "      <th>2</th>\n",
       "      <td>Came here for the first time tonight u called ...</td>\n",
       "      <td>Restaurants</td>\n",
       "    </tr>\n",
       "    <tr>\n",
       "      <th>3</th>\n",
       "      <td>IMPRESSION: How cool is it to have a golf driv...</td>\n",
       "      <td>Active Life</td>\n",
       "    </tr>\n",
       "    <tr>\n",
       "      <th>4</th>\n",
       "      <td>I'm a lover of lush, and today stumbled upon t...</td>\n",
       "      <td>Beauty &amp; Spas</td>\n",
       "    </tr>\n",
       "    <tr>\n",
       "      <th>...</th>\n",
       "      <td>...</td>\n",
       "      <td>...</td>\n",
       "    </tr>\n",
       "    <tr>\n",
       "      <th>313213</th>\n",
       "      <td>This place is the bees knees! I had the shrimp...</td>\n",
       "      <td>Restaurants</td>\n",
       "    </tr>\n",
       "    <tr>\n",
       "      <th>313214</th>\n",
       "      <td>Shabby chic, international exotic, repurposed,...</td>\n",
       "      <td>Shopping</td>\n",
       "    </tr>\n",
       "    <tr>\n",
       "      <th>313215</th>\n",
       "      <td>Great ice cream and food.  Awesome atmosphere,...</td>\n",
       "      <td>Restaurants</td>\n",
       "    </tr>\n",
       "    <tr>\n",
       "      <th>313216</th>\n",
       "      <td>Set up on this one.  Anatoly came on a Sunday,...</td>\n",
       "      <td>Shopping</td>\n",
       "    </tr>\n",
       "    <tr>\n",
       "      <th>313217</th>\n",
       "      <td>I have lived here in Tucson for than 20 years ...</td>\n",
       "      <td>Shopping</td>\n",
       "    </tr>\n",
       "  </tbody>\n",
       "</table>\n",
       "<p>313218 rows × 2 columns</p>\n",
       "</div>"
      ],
      "text/plain": [
       "                                                     text     categories\n",
       "0       Excellent and consistant car wash every time! ...     Automotive\n",
       "1       What fantastic service. I scheduled an appoint...     Automotive\n",
       "2       Came here for the first time tonight u called ...    Restaurants\n",
       "3       IMPRESSION: How cool is it to have a golf driv...    Active Life\n",
       "4       I'm a lover of lush, and today stumbled upon t...  Beauty & Spas\n",
       "...                                                   ...            ...\n",
       "313213  This place is the bees knees! I had the shrimp...    Restaurants\n",
       "313214  Shabby chic, international exotic, repurposed,...       Shopping\n",
       "313215  Great ice cream and food.  Awesome atmosphere,...    Restaurants\n",
       "313216  Set up on this one.  Anatoly came on a Sunday,...       Shopping\n",
       "313217  I have lived here in Tucson for than 20 years ...       Shopping\n",
       "\n",
       "[313218 rows x 2 columns]"
      ]
     },
     "execution_count": 5,
     "metadata": {},
     "output_type": "execute_result"
    }
   ],
   "source": [
    "tag_dataset"
   ]
  },
  {
   "cell_type": "code",
   "execution_count": 6,
   "metadata": {},
   "outputs": [],
   "source": [
    "tag_dataset['labels'] = tag_dataset.categories.astype('category').cat.codes"
   ]
  },
  {
   "cell_type": "code",
   "execution_count": 7,
   "metadata": {},
   "outputs": [],
   "source": [
    "### creating labels "
   ]
  },
  {
   "cell_type": "code",
   "execution_count": null,
   "metadata": {},
   "outputs": [],
   "source": []
  },
  {
   "cell_type": "code",
   "execution_count": 8,
   "metadata": {},
   "outputs": [],
   "source": [
    "label_dict={0:\"Active Life\", 1:\"Automotive\",2:\"Beauty & Spas\",3:\"Restaurants\",4:\"Shopping\"}"
   ]
  },
  {
   "cell_type": "code",
   "execution_count": 9,
   "metadata": {},
   "outputs": [
    {
     "data": {
      "text/plain": [
       "dict"
      ]
     },
     "execution_count": 9,
     "metadata": {},
     "output_type": "execute_result"
    }
   ],
   "source": [
    "type(label_dict)"
   ]
  },
  {
   "cell_type": "code",
   "execution_count": 10,
   "metadata": {},
   "outputs": [
    {
     "data": {
      "text/html": [
       "<div>\n",
       "<style scoped>\n",
       "    .dataframe tbody tr th:only-of-type {\n",
       "        vertical-align: middle;\n",
       "    }\n",
       "\n",
       "    .dataframe tbody tr th {\n",
       "        vertical-align: top;\n",
       "    }\n",
       "\n",
       "    .dataframe thead th {\n",
       "        text-align: right;\n",
       "    }\n",
       "</style>\n",
       "<table border=\"1\" class=\"dataframe\">\n",
       "  <thead>\n",
       "    <tr style=\"text-align: right;\">\n",
       "      <th></th>\n",
       "      <th>text</th>\n",
       "      <th>categories</th>\n",
       "      <th>labels</th>\n",
       "    </tr>\n",
       "  </thead>\n",
       "  <tbody>\n",
       "    <tr>\n",
       "      <th>0</th>\n",
       "      <td>Excellent and consistant car wash every time! ...</td>\n",
       "      <td>Automotive</td>\n",
       "      <td>1</td>\n",
       "    </tr>\n",
       "    <tr>\n",
       "      <th>1</th>\n",
       "      <td>What fantastic service. I scheduled an appoint...</td>\n",
       "      <td>Automotive</td>\n",
       "      <td>1</td>\n",
       "    </tr>\n",
       "    <tr>\n",
       "      <th>2</th>\n",
       "      <td>Came here for the first time tonight u called ...</td>\n",
       "      <td>Restaurants</td>\n",
       "      <td>3</td>\n",
       "    </tr>\n",
       "    <tr>\n",
       "      <th>3</th>\n",
       "      <td>IMPRESSION: How cool is it to have a golf driv...</td>\n",
       "      <td>Active Life</td>\n",
       "      <td>0</td>\n",
       "    </tr>\n",
       "    <tr>\n",
       "      <th>4</th>\n",
       "      <td>I'm a lover of lush, and today stumbled upon t...</td>\n",
       "      <td>Beauty &amp; Spas</td>\n",
       "      <td>2</td>\n",
       "    </tr>\n",
       "    <tr>\n",
       "      <th>...</th>\n",
       "      <td>...</td>\n",
       "      <td>...</td>\n",
       "      <td>...</td>\n",
       "    </tr>\n",
       "    <tr>\n",
       "      <th>313213</th>\n",
       "      <td>This place is the bees knees! I had the shrimp...</td>\n",
       "      <td>Restaurants</td>\n",
       "      <td>3</td>\n",
       "    </tr>\n",
       "    <tr>\n",
       "      <th>313214</th>\n",
       "      <td>Shabby chic, international exotic, repurposed,...</td>\n",
       "      <td>Shopping</td>\n",
       "      <td>4</td>\n",
       "    </tr>\n",
       "    <tr>\n",
       "      <th>313215</th>\n",
       "      <td>Great ice cream and food.  Awesome atmosphere,...</td>\n",
       "      <td>Restaurants</td>\n",
       "      <td>3</td>\n",
       "    </tr>\n",
       "    <tr>\n",
       "      <th>313216</th>\n",
       "      <td>Set up on this one.  Anatoly came on a Sunday,...</td>\n",
       "      <td>Shopping</td>\n",
       "      <td>4</td>\n",
       "    </tr>\n",
       "    <tr>\n",
       "      <th>313217</th>\n",
       "      <td>I have lived here in Tucson for than 20 years ...</td>\n",
       "      <td>Shopping</td>\n",
       "      <td>4</td>\n",
       "    </tr>\n",
       "  </tbody>\n",
       "</table>\n",
       "<p>313218 rows × 3 columns</p>\n",
       "</div>"
      ],
      "text/plain": [
       "                                                     text     categories  \\\n",
       "0       Excellent and consistant car wash every time! ...     Automotive   \n",
       "1       What fantastic service. I scheduled an appoint...     Automotive   \n",
       "2       Came here for the first time tonight u called ...    Restaurants   \n",
       "3       IMPRESSION: How cool is it to have a golf driv...    Active Life   \n",
       "4       I'm a lover of lush, and today stumbled upon t...  Beauty & Spas   \n",
       "...                                                   ...            ...   \n",
       "313213  This place is the bees knees! I had the shrimp...    Restaurants   \n",
       "313214  Shabby chic, international exotic, repurposed,...       Shopping   \n",
       "313215  Great ice cream and food.  Awesome atmosphere,...    Restaurants   \n",
       "313216  Set up on this one.  Anatoly came on a Sunday,...       Shopping   \n",
       "313217  I have lived here in Tucson for than 20 years ...       Shopping   \n",
       "\n",
       "        labels  \n",
       "0            1  \n",
       "1            1  \n",
       "2            3  \n",
       "3            0  \n",
       "4            2  \n",
       "...        ...  \n",
       "313213       3  \n",
       "313214       4  \n",
       "313215       3  \n",
       "313216       4  \n",
       "313217       4  \n",
       "\n",
       "[313218 rows x 3 columns]"
      ]
     },
     "execution_count": 10,
     "metadata": {},
     "output_type": "execute_result"
    }
   ],
   "source": [
    "tag_dataset"
   ]
  },
  {
   "cell_type": "code",
   "execution_count": null,
   "metadata": {},
   "outputs": [],
   "source": []
  },
  {
   "cell_type": "code",
   "execution_count": 11,
   "metadata": {},
   "outputs": [],
   "source": [
    "text=tag_dataset['text'].values.tolist()\n",
    "labels=tag_dataset['labels'].values.tolist()"
   ]
  },
  {
   "cell_type": "code",
   "execution_count": 12,
   "metadata": {},
   "outputs": [],
   "source": [
    "X_train, X_test, y_train, y_test = train_test_split(text, labels, test_size=0.15, random_state=42, shuffle =False)"
   ]
  },
  {
   "cell_type": "code",
   "execution_count": 13,
   "metadata": {},
   "outputs": [],
   "source": [
    "training_pipe=Pipeline([(\"Vectorization\",TfidfVectorizer()),(\"SVC\",LinearSVC())])"
   ]
  },
  {
   "cell_type": "code",
   "execution_count": 14,
   "metadata": {},
   "outputs": [
    {
     "data": {
      "text/plain": [
       "Pipeline(steps=[('Vectorization', TfidfVectorizer()), ('SVC', LinearSVC())])"
      ]
     },
     "execution_count": 14,
     "metadata": {},
     "output_type": "execute_result"
    }
   ],
   "source": [
    "training_pipe.fit(X_train,y_train)"
   ]
  },
  {
   "cell_type": "code",
   "execution_count": 15,
   "metadata": {},
   "outputs": [
    {
     "name": "stdout",
     "output_type": "stream",
     "text": [
      "Training set score: 0.9068942851240446\n",
      "Test set score: 0.8503714109358704\n"
     ]
    }
   ],
   "source": [
    "print('Training set score: ' + str(training_pipe.score(X_train,y_train)))\n",
    "print('Test set score: ' + str(training_pipe.score(X_test,y_test)))"
   ]
  },
  {
   "cell_type": "code",
   "execution_count": 16,
   "metadata": {},
   "outputs": [],
   "source": [
    "yhat=training_pipe.predict(X_test)"
   ]
  },
  {
   "cell_type": "code",
   "execution_count": 17,
   "metadata": {},
   "outputs": [],
   "source": [
    "ytrue=y_test"
   ]
  },
  {
   "cell_type": "code",
   "execution_count": 18,
   "metadata": {},
   "outputs": [
    {
     "data": {
      "text/plain": [
       "<sklearn.metrics._plot.confusion_matrix.ConfusionMatrixDisplay at 0x7fc149b88850>"
      ]
     },
     "execution_count": 18,
     "metadata": {},
     "output_type": "execute_result"
    },
    {
     "data": {
      "image/png": "[encoded data removed]",
      "text/plain": [
       "<Figure size 640x480 with 2 Axes>"
      ]
     },
     "metadata": {},
     "output_type": "display_data"
    }
   ],
   "source": [
    "from sklearn.metrics import confusion_matrix, ConfusionMatrixDisplay\n",
    "cm=confusion_matrix(ytrue, yhat)\n",
    "disp = ConfusionMatrixDisplay(confusion_matrix=cm)\n",
    "disp.plot()"
   ]
  },
  {
   "cell_type": "code",
   "execution_count": 19,
   "metadata": {},
   "outputs": [
    {
     "name": "stdout",
     "output_type": "stream",
     "text": [
      "              precision    recall  f1-score   support\n",
      "\n",
      "           0       0.83      0.81      0.82      9181\n",
      "           1       0.91      0.90      0.91      9523\n",
      "           2       0.88      0.89      0.89      9427\n",
      "           3       0.85      0.92      0.88      9464\n",
      "           4       0.78      0.73      0.75      9388\n",
      "\n",
      "    accuracy                           0.85     46983\n",
      "   macro avg       0.85      0.85      0.85     46983\n",
      "weighted avg       0.85      0.85      0.85     46983\n",
      "\n"
     ]
    }
   ],
   "source": [
    "print(metrics.classification_report(ytrue, yhat))"
   ]
  },
  {
   "cell_type": "code",
   "execution_count": 24,
   "metadata": {},
   "outputs": [],
   "source": [
    "out=training_pipe.predict(['This is one of the best session I had, almost i am refreshed'])[0]"
   ]
  },
  {
   "cell_type": "code",
   "execution_count": 25,
   "metadata": {},
   "outputs": [
    {
     "data": {
      "text/plain": [
       "'Beauty & Spas'"
      ]
     },
     "execution_count": 25,
     "metadata": {},
     "output_type": "execute_result"
    }
   ],
   "source": [
    "label_dict.get(out)"
   ]
  },
  {
   "cell_type": "code",
   "execution_count": 26,
   "metadata": {},
   "outputs": [],
   "source": [
    "with open('tagging_model.pickle', 'wb') as f:\n",
    "  pickle.dump(training_pipe, f)"
   ]
  }
 ],
 "metadata": {
  "kernelspec": {
   "display_name": "Python 3.7.12 ('testinggrounds')",
   "language": "python",
   "name": "python3"
  },
  "language_info": {
   "codemirror_mode": {
    "name": "ipython",
    "version": 3
   },
   "file_extension": ".py",
   "mimetype": "text/x-python",
   "name": "python",
   "nbconvert_exporter": "python",
   "pygments_lexer": "ipython3",
   "version": "3.7.12"
  },
  "orig_nbformat": 4,
  "vscode": {
   "interpreter": {
    "hash": "be1130cc366ce64c2af566ee12e797ac4446b6a928687bd6f2dd0eaf2725f7ce"
   }
  }
 },
 "nbformat": 4,
 "nbformat_minor": 2
}
