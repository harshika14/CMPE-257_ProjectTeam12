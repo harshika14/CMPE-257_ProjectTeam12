{
 "cells": [
  {
   "cell_type": "code",
   "execution_count": 1,
   "id": "004a6624",
   "metadata": {},
   "outputs": [],
   "source": [
    "# Importing the required libraries\n",
    "import pandas as pd \n",
    "import numpy as np\n",
    "import matplotlib.pyplot as plt\n",
    "import seaborn as sns\n",
    "from imblearn.over_sampling import RandomOverSampler\n",
    "from sklearn.model_selection import train_test_split\n",
    "from sklearn.linear_model import SGDClassifier\n",
    "from sklearn.metrics import accuracy_score\n",
    "from imblearn.pipeline import Pipeline\n",
    "from sklearn.metrics import classification_report\n",
    "from sklearn.model_selection import RepeatedStratifiedKFold\n",
    "from sklearn.model_selection import cross_val_score\n",
    "from sklearn.feature_extraction.text import CountVectorizer,TfidfTransformer\n",
    "from sklearn import metrics\n",
    "from sklearn.svm import LinearSVC\n",
    "from sklearn.neighbors import KNeighborsClassifier\n",
    "from sklearn.ensemble import RandomForestClassifier\n",
    "from sklearn.ensemble import AdaBoostClassifier\n",
    "import xgboost as xgb\n",
    "from sklearn.preprocessing import LabelEncoder\n",
    "from sklearn.metrics import confusion_matrix, ConfusionMatrixDisplay\n",
    "import pickle"
   ]
  },
  {
   "cell_type": "markdown",
   "id": "903eb2e2",
   "metadata": {},
   "source": [
    "Here, I have read half_preprocessed file which is basically the preprocessed file which was saved and I have taken just the first half rows so it is easier to run it on the kernel."
   ]
  },
  {
   "cell_type": "code",
   "execution_count": 2,
   "id": "bead2ac4",
   "metadata": {},
   "outputs": [
    {
     "data": {
      "text/html": [
       "<div>\n",
       "<style scoped>\n",
       "    .dataframe tbody tr th:only-of-type {\n",
       "        vertical-align: middle;\n",
       "    }\n",
       "\n",
       "    .dataframe tbody tr th {\n",
       "        vertical-align: top;\n",
       "    }\n",
       "\n",
       "    .dataframe thead th {\n",
       "        text-align: right;\n",
       "    }\n",
       "</style>\n",
       "<table border=\"1\" class=\"dataframe\">\n",
       "  <thead>\n",
       "    <tr style=\"text-align: right;\">\n",
       "      <th></th>\n",
       "      <th>Unnamed: 0.1</th>\n",
       "      <th>Unnamed: 0</th>\n",
       "      <th>text</th>\n",
       "      <th>review_stars</th>\n",
       "      <th>tokens</th>\n",
       "      <th>lemma</th>\n",
       "      <th>stems</th>\n",
       "    </tr>\n",
       "  </thead>\n",
       "  <tbody>\n",
       "    <tr>\n",
       "      <th>0</th>\n",
       "      <td>0</td>\n",
       "      <td>0</td>\n",
       "      <td>What a great addition to the Funk Zone!  Grab ...</td>\n",
       "      <td>5</td>\n",
       "      <td>['What', 'a', 'great', 'addition', 'to', 'the'...</td>\n",
       "      <td>What a great addition to the Funk Zone Grab a ...</td>\n",
       "      <td>what a great addit to the funk zone grab a bit...</td>\n",
       "    </tr>\n",
       "    <tr>\n",
       "      <th>1</th>\n",
       "      <td>1</td>\n",
       "      <td>1</td>\n",
       "      <td>Possibly the best breakfast sandwich EVER.  On...</td>\n",
       "      <td>5</td>\n",
       "      <td>['Possibly', 'the', 'best', 'breakfast', 'sand...</td>\n",
       "      <td>Possibly the best breakfast sandwich EVER On a...</td>\n",
       "      <td>possibl the best breakfast sandwich ever on a ...</td>\n",
       "    </tr>\n",
       "    <tr>\n",
       "      <th>2</th>\n",
       "      <td>2</td>\n",
       "      <td>2</td>\n",
       "      <td>Pricey ( a ham and cheese croissant was $5.50)...</td>\n",
       "      <td>4</td>\n",
       "      <td>['Pricey', 'a', 'ham', 'and', 'cheese', 'crois...</td>\n",
       "      <td>Pricey a ham and cheese croissant wa 5 50 a wi...</td>\n",
       "      <td>pricey a ham and chees croissant wa 5 50 as wi...</td>\n",
       "    </tr>\n",
       "    <tr>\n",
       "      <th>3</th>\n",
       "      <td>3</td>\n",
       "      <td>3</td>\n",
       "      <td>Are you kidding me? This is without a doubt so...</td>\n",
       "      <td>5</td>\n",
       "      <td>['Are', 'you', 'kidding', 'me', 'This', 'is', ...</td>\n",
       "      <td>Are you kidding me This is without a doubt som...</td>\n",
       "      <td>are you kid me thi is without a doubt some of ...</td>\n",
       "    </tr>\n",
       "    <tr>\n",
       "      <th>4</th>\n",
       "      <td>4</td>\n",
       "      <td>4</td>\n",
       "      <td>Super slow service, \"salads\" are not very good...</td>\n",
       "      <td>2</td>\n",
       "      <td>['Super', 'slow', 'service', 'salads', 'are', ...</td>\n",
       "      <td>Super slow service salad are not very good and...</td>\n",
       "      <td>super slow servic salad are not veri good and ...</td>\n",
       "    </tr>\n",
       "  </tbody>\n",
       "</table>\n",
       "</div>"
      ],
      "text/plain": [
       "   Unnamed: 0.1  Unnamed: 0  \\\n",
       "0             0           0   \n",
       "1             1           1   \n",
       "2             2           2   \n",
       "3             3           3   \n",
       "4             4           4   \n",
       "\n",
       "                                                text  review_stars  \\\n",
       "0  What a great addition to the Funk Zone!  Grab ...             5   \n",
       "1  Possibly the best breakfast sandwich EVER.  On...             5   \n",
       "2  Pricey ( a ham and cheese croissant was $5.50)...             4   \n",
       "3  Are you kidding me? This is without a doubt so...             5   \n",
       "4  Super slow service, \"salads\" are not very good...             2   \n",
       "\n",
       "                                              tokens  \\\n",
       "0  ['What', 'a', 'great', 'addition', 'to', 'the'...   \n",
       "1  ['Possibly', 'the', 'best', 'breakfast', 'sand...   \n",
       "2  ['Pricey', 'a', 'ham', 'and', 'cheese', 'crois...   \n",
       "3  ['Are', 'you', 'kidding', 'me', 'This', 'is', ...   \n",
       "4  ['Super', 'slow', 'service', 'salads', 'are', ...   \n",
       "\n",
       "                                               lemma  \\\n",
       "0  What a great addition to the Funk Zone Grab a ...   \n",
       "1  Possibly the best breakfast sandwich EVER On a...   \n",
       "2  Pricey a ham and cheese croissant wa 5 50 a wi...   \n",
       "3  Are you kidding me This is without a doubt som...   \n",
       "4  Super slow service salad are not very good and...   \n",
       "\n",
       "                                               stems  \n",
       "0  what a great addit to the funk zone grab a bit...  \n",
       "1  possibl the best breakfast sandwich ever on a ...  \n",
       "2  pricey a ham and chees croissant wa 5 50 as wi...  \n",
       "3  are you kid me thi is without a doubt some of ...  \n",
       "4  super slow servic salad are not veri good and ...  "
      ]
     },
     "execution_count": 2,
     "metadata": {},
     "output_type": "execute_result"
    }
   ],
   "source": [
    "df =pd.read_csv(\"half_preprocessed.csv\")\n",
    "X = df['lemma']\n",
    "y = df['review_stars']\n",
    "df.head()"
   ]
  },
  {
   "cell_type": "code",
   "execution_count": 3,
   "id": "2be8dbf0",
   "metadata": {},
   "outputs": [],
   "source": [
    "X_try=X.tolist()\n",
    "X_try=np.array(X_try)\n",
    "X_try=X_try.reshape(-1,1)"
   ]
  },
  {
   "cell_type": "code",
   "execution_count": 4,
   "id": "d1239d5e",
   "metadata": {},
   "outputs": [],
   "source": [
    "ros = RandomOverSampler(random_state=777)"
   ]
  },
  {
   "cell_type": "code",
   "execution_count": 5,
   "id": "8bb3e639",
   "metadata": {},
   "outputs": [],
   "source": [
    "X_ROS, y_ROS = ros.fit_resample(X_try, y)"
   ]
  },
  {
   "cell_type": "code",
   "execution_count": 6,
   "id": "626ec534",
   "metadata": {},
   "outputs": [],
   "source": [
    "X_train, x_test, Y_train, y_test = train_test_split(X_ROS,y_ROS,test_size=0.3,random_state=42)"
   ]
  },
  {
   "cell_type": "code",
   "execution_count": 7,
   "id": "afcef00e",
   "metadata": {},
   "outputs": [],
   "source": [
    "X_train= X_train.flatten()\n",
    "x_test= x_test.flatten()"
   ]
  },
  {
   "cell_type": "markdown",
   "id": "f08e44dd",
   "metadata": {},
   "source": [
    "### Linear SVC"
   ]
  },
  {
   "cell_type": "code",
   "execution_count": 8,
   "id": "56811416",
   "metadata": {},
   "outputs": [
    {
     "name": "stdout",
     "output_type": "stream",
     "text": [
      "Training set score: 0.9766385851705801\n",
      "Test set score: 0.8872159486965008\n",
      "              precision    recall  f1-score   support\n",
      "\n",
      "           1       0.97      0.98      0.97      1442\n",
      "           2       0.94      0.99      0.96      1437\n",
      "           3       0.92      0.94      0.93      1466\n",
      "           4       0.77      0.78      0.77      1430\n",
      "           5       0.82      0.75      0.78      1398\n",
      "\n",
      "    accuracy                           0.89      7173\n",
      "   macro avg       0.88      0.89      0.89      7173\n",
      "weighted avg       0.89      0.89      0.89      7173\n",
      "\n"
     ]
    },
    {
     "data": {
      "image/png": "[encoded data removed]",
      "text/plain": [
       "<Figure size 432x288 with 2 Axes>"
      ]
     },
     "metadata": {
      "needs_background": "light"
     },
     "output_type": "display_data"
    }
   ],
   "source": [
    "svc_pipeline = newpipeline = Pipeline([('vect', CountVectorizer()),\n",
    "    ('tfidf', TfidfTransformer()), \n",
    "    ('clf', LinearSVC())])\n",
    "svc_pipeline.fit(X_train,Y_train)\n",
    "print('Training set score: ' + str(svc_pipeline.score(X_train,Y_train)))\n",
    "print('Test set score: ' + str(svc_pipeline.score(x_test,y_test)))\n",
    "with open('svc_oversample.pickle', 'wb') as f:\n",
    "        pickle.dump(svc_pipeline, f)\n",
    "svc_yhat=svc_pipeline.predict(x_test)\n",
    "svc_cm=confusion_matrix(y_test, svc_yhat)\n",
    "svc_disp = ConfusionMatrixDisplay(confusion_matrix=svc_cm)\n",
    "svc_disp.plot()\n",
    "print(metrics.classification_report(y_test, svc_yhat))"
   ]
  },
  {
   "cell_type": "markdown",
   "id": "85605d6e",
   "metadata": {},
   "source": [
    "### Random Forest "
   ]
  },
  {
   "cell_type": "code",
   "execution_count": 9,
   "id": "475d96e1",
   "metadata": {},
   "outputs": [
    {
     "name": "stdout",
     "output_type": "stream",
     "text": [
      "Training set score: 0.9998207564079584\n",
      "Test set score: 0.9301547469677959\n",
      "              precision    recall  f1-score   support\n",
      "\n",
      "           1       0.98      0.99      0.98      1442\n",
      "           2       1.00      0.99      0.99      1437\n",
      "           3       0.98      0.97      0.97      1466\n",
      "           4       0.89      0.80      0.84      1430\n",
      "           5       0.81      0.90      0.85      1398\n",
      "\n",
      "    accuracy                           0.93      7173\n",
      "   macro avg       0.93      0.93      0.93      7173\n",
      "weighted avg       0.93      0.93      0.93      7173\n",
      "\n"
     ]
    },
    {
     "data": {
      "image/png": "[encoded data removed]",
      "text/plain": [
       "<Figure size 432x288 with 2 Axes>"
      ]
     },
     "metadata": {
      "needs_background": "light"
     },
     "output_type": "display_data"
    }
   ],
   "source": [
    "randomforest_pipeline = Pipeline([('vect', CountVectorizer()),\n",
    "    ('tfidf', TfidfTransformer()), \n",
    "    ('clf', RandomForestClassifier())])\n",
    "randomforest_pipeline.fit(X_train,Y_train)\n",
    "print('Training set score: ' + str(randomforest_pipeline.score(X_train,Y_train)))\n",
    "print('Test set score: ' + str(randomforest_pipeline.score(x_test,y_test)))\n",
    "with open('svc_oversample.pickle', 'wb') as f:\n",
    "    pickle.dump(randomforest_pipeline, f)\n",
    "rf_yhat=randomforest_pipeline.predict(x_test)\n",
    "rf_cm=confusion_matrix(y_test, rf_yhat)\n",
    "rf_disp = ConfusionMatrixDisplay(confusion_matrix=rf_cm)\n",
    "rf_disp.plot()\n",
    "print(metrics.classification_report(y_test, rf_yhat))"
   ]
  },
  {
   "cell_type": "markdown",
   "id": "111c096d",
   "metadata": {},
   "source": [
    "### Adaboost"
   ]
  },
  {
   "cell_type": "code",
   "execution_count": 10,
   "id": "da7e86c6",
   "metadata": {},
   "outputs": [
    {
     "name": "stdout",
     "output_type": "stream",
     "text": [
      "Training set score: 0.5106649937264742\n",
      "Test set score: 0.4942144151679911\n",
      "              precision    recall  f1-score   support\n",
      "\n",
      "           1       0.62      0.60      0.61      1442\n",
      "           2       0.43      0.44      0.43      1437\n",
      "           3       0.43      0.37      0.40      1466\n",
      "           4       0.44      0.41      0.42      1430\n",
      "           5       0.54      0.67      0.60      1398\n",
      "\n",
      "    accuracy                           0.49      7173\n",
      "   macro avg       0.49      0.50      0.49      7173\n",
      "weighted avg       0.49      0.49      0.49      7173\n",
      "\n"
     ]
    },
    {
     "data": {
      "image/png": "[encoded data removed]",
      "text/plain": [
       "<Figure size 432x288 with 2 Axes>"
      ]
     },
     "metadata": {
      "needs_background": "light"
     },
     "output_type": "display_data"
    }
   ],
   "source": [
    "adaboost_pipeline = Pipeline([('vect', CountVectorizer()),\n",
    "    ('tfidf', TfidfTransformer()), \n",
    "    ('clf', AdaBoostClassifier())])\n",
    "adaboost_pipeline.fit(X_train,Y_train)\n",
    "print('Training set score: ' + str(adaboost_pipeline.score(X_train,Y_train)))\n",
    "print('Test set score: ' + str(adaboost_pipeline.score(x_test,y_test)))\n",
    "with open('adc_oversample.pickle', 'wb') as f:\n",
    "    pickle.dump(adaboost_pipeline, f)\n",
    "adc_yhat=adaboost_pipeline.predict(x_test)\n",
    "adc_cm=confusion_matrix(y_test, adc_yhat)\n",
    "adc_disp = ConfusionMatrixDisplay(confusion_matrix=adc_cm)\n",
    "adc_disp.plot()\n",
    "print(metrics.classification_report(y_test, adc_yhat))"
   ]
  },
  {
   "cell_type": "markdown",
   "id": "da9fb85b",
   "metadata": {},
   "source": [
    "### K-nearest Neighbours"
   ]
  },
  {
   "cell_type": "code",
   "execution_count": 11,
   "id": "b1fa0fcf",
   "metadata": {},
   "outputs": [
    {
     "name": "stdout",
     "output_type": "stream",
     "text": [
      "Training set score: 0.7999641512815917\n",
      "Test set score: 0.6806078349365677\n",
      "              precision    recall  f1-score   support\n",
      "\n",
      "           1       0.77      0.85      0.81      1442\n",
      "           2       0.73      0.91      0.81      1437\n",
      "           3       0.62      0.78      0.69      1466\n",
      "           4       0.57      0.45      0.51      1430\n",
      "           5       0.69      0.40      0.51      1398\n",
      "\n",
      "    accuracy                           0.68      7173\n",
      "   macro avg       0.68      0.68      0.66      7173\n",
      "weighted avg       0.68      0.68      0.67      7173\n",
      "\n"
     ]
    },
    {
     "data": {
      "image/png": "[encoded data removed]",
      "text/plain": [
       "<Figure size 432x288 with 2 Axes>"
      ]
     },
     "metadata": {
      "needs_background": "light"
     },
     "output_type": "display_data"
    }
   ],
   "source": [
    "knn_pipeline = Pipeline([('vect', CountVectorizer()),\n",
    "    ('tfidf', TfidfTransformer()), \n",
    "    ('clf', KNeighborsClassifier())])\n",
    "knn_pipeline.fit(X_train,Y_train)\n",
    "print('Training set score: ' + str(knn_pipeline.score(X_train,Y_train)))\n",
    "print('Test set score: ' + str(knn_pipeline.score(x_test,y_test)))\n",
    "with open('knn_oversample.pickle', 'wb') as f:\n",
    "    pickle.dump(knn_pipeline, f)\n",
    "knn_yhat=knn_pipeline.predict(x_test)\n",
    "knn_cm=confusion_matrix(y_test, knn_yhat)\n",
    "knn_disp = ConfusionMatrixDisplay(confusion_matrix=knn_cm)\n",
    "knn_disp.plot()\n",
    "print(metrics.classification_report(y_test, knn_yhat))"
   ]
  },
  {
   "cell_type": "markdown",
   "id": "c1e60f4b",
   "metadata": {},
   "source": [
    "### XGBoost"
   ]
  },
  {
   "cell_type": "code",
   "execution_count": 12,
   "id": "ad9272ca",
   "metadata": {},
   "outputs": [
    {
     "name": "stdout",
     "output_type": "stream",
     "text": [
      "Training set score: 0.9786102646830376\n",
      "Test set score: 0.8890283005715879\n",
      "              precision    recall  f1-score   support\n",
      "\n",
      "           0       0.96      0.97      0.97      1442\n",
      "           1       0.94      0.99      0.97      1437\n",
      "           2       0.94      0.93      0.93      1466\n",
      "           3       0.78      0.80      0.79      1430\n",
      "           4       0.81      0.76      0.79      1398\n",
      "\n",
      "    accuracy                           0.89      7173\n",
      "   macro avg       0.89      0.89      0.89      7173\n",
      "weighted avg       0.89      0.89      0.89      7173\n",
      "\n"
     ]
    },
    {
     "data": {
      "image/png": "[encoded data removed]",
      "text/plain": [
       "<Figure size 432x288 with 2 Axes>"
      ]
     },
     "metadata": {
      "needs_background": "light"
     },
     "output_type": "display_data"
    }
   ],
   "source": [
    "le = LabelEncoder()\n",
    "y = le.fit_transform(y)\n",
    "X_ROS, y_ROS = ros.fit_resample(X_try, y)\n",
    "X_train, x_test, Y_train, y_test = train_test_split(X_ROS,y_ROS,test_size=0.3,random_state=42)\n",
    "xgb_pipeline = Pipeline([('vect', CountVectorizer()),\n",
    "    ('tfidf', TfidfTransformer()), \n",
    "    ('clf', xgb.XGBClassifier())])\n",
    "X_train= X_train.flatten()\n",
    "x_test= x_test.flatten()\n",
    "xgb_pipeline.fit(X_train,Y_train)\n",
    "print('Training set score: ' + str(xgb_pipeline.score(X_train,Y_train)))\n",
    "print('Test set score: ' + str(xgb_pipeline.score(x_test,y_test)))\n",
    "with open('xgboost_oversample.pickle', 'wb') as f:\n",
    "    pickle.dump(xgb_pipeline, f)\n",
    "xgb_yhat=xgb_pipeline.predict(x_test)\n",
    "xgb_cm=confusion_matrix(y_test, xgb_yhat)\n",
    "xgb_disp = ConfusionMatrixDisplay(confusion_matrix=xgb_cm)\n",
    "xgb_disp.plot()\n",
    "print(metrics.classification_report(y_test, xgb_yhat))"
   ]
  },
  {
   "cell_type": "markdown",
   "id": "36d9a224",
   "metadata": {},
   "source": [
    "## Comparison between models"
   ]
  },
  {
   "cell_type": "code",
   "execution_count": 13,
   "id": "113303e3",
   "metadata": {},
   "outputs": [
    {
     "data": {
      "image/png": "[encoded data removed]",
      "text/plain": [
       "<Figure size 432x288 with 1 Axes>"
      ]
     },
     "metadata": {
      "needs_background": "light"
     },
     "output_type": "display_data"
    }
   ],
   "source": [
    "f1_scores = [0.89, 0.93, 0.49, 0.66, 0.89]\n",
    "models = ['SVC', 'Random Forest', 'Adaboost', 'KNN', 'XGBoost']\n",
    "fig = plt.figure()\n",
    "ax = fig.add_axes([0,0,1,1])\n",
    "ax.bar(models,f1_scores)\n",
    "plt.show()"
   ]
  },
  {
   "cell_type": "markdown",
   "id": "0149388f",
   "metadata": {},
   "source": [
    "### Here, from the above graph Random forest gives good results with good F-1 score."
   ]
  }
 ],
 "metadata": {
  "kernelspec": {
   "display_name": "Python 3 (ipykernel)",
   "language": "python",
   "name": "python3"
  },
  "language_info": {
   "codemirror_mode": {
    "name": "ipython",
    "version": 3
   },
   "file_extension": ".py",
   "mimetype": "text/x-python",
   "name": "python",
   "nbconvert_exporter": "python",
   "pygments_lexer": "ipython3",
   "version": "3.9.12"
  }
 },
 "nbformat": 4,
 "nbformat_minor": 5
}
