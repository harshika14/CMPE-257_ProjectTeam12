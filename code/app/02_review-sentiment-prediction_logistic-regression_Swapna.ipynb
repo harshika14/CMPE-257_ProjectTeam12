{
 "cells": [
  {
   "cell_type": "code",
   "execution_count": 77,
   "id": "31c65774",
   "metadata": {},
   "outputs": [],
   "source": [
    "# Import Libraries\n",
    "import pandas as pd\n",
    "import string, contractions\n",
    "import matplotlib.pyplot as plt\n",
    "from sklearn import metrics\n",
    "from sklearn.feature_extraction.text import CountVectorizer\n",
    "from sklearn.linear_model import LogisticRegression\n",
    "from sklearn.metrics import confusion_matrix, ConfusionMatrixDisplay\n",
    "from sklearn.model_selection import train_test_split\n",
    "import emoji\n",
    "import pickle"
   ]
  },
  {
   "cell_type": "code",
   "execution_count": 78,
   "id": "fbc693f1",
   "metadata": {},
   "outputs": [
    {
     "name": "stdout",
     "output_type": "stream",
     "text": [
      "44676\n",
      "44676\n"
     ]
    }
   ],
   "source": [
    "# Import Data\n",
    "reviews_data_set_path = \"/Users/swapnakotha/Desktop/CMPE-257/yelp_dataset/yelp_academic_dataset_review.json\"\n",
    "business_data_set_path = \"/Users/swapnakotha/Desktop/CMPE-257/yelp_dataset/yelp_academic_dataset_business.json\"\n",
    "\n",
    "\n",
    "# Dataset is very large(it contains around 6 million reviews). For this analysis, we will only consider the businesses\n",
    "# in California.\n",
    "\n",
    "# Get list of businesses in CA.\n",
    "yelp_businesses = pd.read_json(business_data_set_path, lines=True)\n",
    "yelp_businesses = pd.DataFrame(yelp_businesses)\n",
    "yelp_businesses = yelp_businesses.dropna()\n",
    "yelp_restaurants = yelp_businesses[yelp_businesses['categories'].str.contains(\"Restaurants\")]\n",
    "yelp_restaurants = yelp_restaurants[['business_id', 'state']]\n",
    "print(yelp_restaurants.shape[0])\n",
    "\n",
    "#yelp_ca_restaurants = yelp_restaurants[yelp_restaurants.state == \"CA\"]\n",
    "yelp_ca_restaurants = yelp_restaurants\n",
    "print(yelp_ca_restaurants.shape[0])"
   ]
  },
  {
   "cell_type": "code",
   "execution_count": 79,
   "id": "2e09078b",
   "metadata": {},
   "outputs": [],
   "source": [
    "# Load all reviews from json\n",
    "chunk_size = 1000000\n",
    "yelp_review_chunks = pd.read_json(reviews_data_set_path, lines=True,\n",
    "                      dtype={'review_id':str,'user_id':str,\n",
    "                             'business_id':str,'stars':int,\n",
    "                             'date':str,'text':str,'useful':int,\n",
    "                             'funny':int,'cool':int},\n",
    "                      chunksize=chunk_size)"
   ]
  },
  {
   "cell_type": "code",
   "execution_count": 80,
   "id": "5d779959",
   "metadata": {},
   "outputs": [
    {
     "name": "stdout",
     "output_type": "stream",
     "text": [
      "666171 out of 1,000,000 reviews\n",
      "656541 out of 1,000,000 reviews\n"
     ]
    }
   ],
   "source": [
    "ca_reviews_list = []\n",
    "count = 0\n",
    "for review_chunk in yelp_review_chunks:\n",
    "    review_chunk = review_chunk.drop(['review_id','user_id','date','useful','funny','cool'], axis=1)\n",
    "    review_chunk = review_chunk.rename(columns={'stars': 'review_stars'})\n",
    "    review_chunk = review_chunk.rename(columns={'text': 'review_text'})\n",
    "    #Merge reviews which corresponds to the business in CA.\n",
    "    ca_review_chunk = pd.merge(yelp_ca_restaurants, review_chunk, on='business_id', how='inner')\n",
    "    print(f\"{ca_review_chunk.shape[0]} out of {chunk_size:,} reviews\")\n",
    "    ca_reviews_list.append(ca_review_chunk)\n",
    "    count += ca_review_chunk.shape[0]\n",
    "    # Taking a subset as processing time is very high.\n",
    "    if count > 1000000:\n",
    "        break\n",
    "\n",
    "ca_reviews_df = pd.concat(ca_reviews_list, ignore_index=True, join='outer', axis=0)"
   ]
  },
  {
   "cell_type": "code",
   "execution_count": 81,
   "id": "b48e0a77",
   "metadata": {},
   "outputs": [
    {
     "data": {
      "text/html": [
       "<div>\n",
       "<style scoped>\n",
       "    .dataframe tbody tr th:only-of-type {\n",
       "        vertical-align: middle;\n",
       "    }\n",
       "\n",
       "    .dataframe tbody tr th {\n",
       "        vertical-align: top;\n",
       "    }\n",
       "\n",
       "    .dataframe thead th {\n",
       "        text-align: right;\n",
       "    }\n",
       "</style>\n",
       "<table border=\"1\" class=\"dataframe\">\n",
       "  <thead>\n",
       "    <tr style=\"text-align: right;\">\n",
       "      <th></th>\n",
       "      <th>business_id</th>\n",
       "      <th>state</th>\n",
       "      <th>review_stars</th>\n",
       "      <th>review_text</th>\n",
       "    </tr>\n",
       "  </thead>\n",
       "  <tbody>\n",
       "    <tr>\n",
       "      <th>0</th>\n",
       "      <td>MTSW4McQd7CbVtyjqoe9mw</td>\n",
       "      <td>PA</td>\n",
       "      <td>4</td>\n",
       "      <td>This is nice little Chinese bakery in the hear...</td>\n",
       "    </tr>\n",
       "    <tr>\n",
       "      <th>1</th>\n",
       "      <td>MTSW4McQd7CbVtyjqoe9mw</td>\n",
       "      <td>PA</td>\n",
       "      <td>4</td>\n",
       "      <td>This is the bakery I usually go to in Chinatow...</td>\n",
       "    </tr>\n",
       "    <tr>\n",
       "      <th>2</th>\n",
       "      <td>MTSW4McQd7CbVtyjqoe9mw</td>\n",
       "      <td>PA</td>\n",
       "      <td>5</td>\n",
       "      <td>A delightful find in Chinatown! Very clean, an...</td>\n",
       "    </tr>\n",
       "    <tr>\n",
       "      <th>3</th>\n",
       "      <td>MTSW4McQd7CbVtyjqoe9mw</td>\n",
       "      <td>PA</td>\n",
       "      <td>5</td>\n",
       "      <td>I ordered a graduation cake for my niece and i...</td>\n",
       "    </tr>\n",
       "    <tr>\n",
       "      <th>4</th>\n",
       "      <td>MTSW4McQd7CbVtyjqoe9mw</td>\n",
       "      <td>PA</td>\n",
       "      <td>4</td>\n",
       "      <td>HK-STYLE MILK TEA:  FOUR STARS\\n\\nNot quite su...</td>\n",
       "    </tr>\n",
       "  </tbody>\n",
       "</table>\n",
       "</div>"
      ],
      "text/plain": [
       "              business_id state  review_stars  \\\n",
       "0  MTSW4McQd7CbVtyjqoe9mw    PA             4   \n",
       "1  MTSW4McQd7CbVtyjqoe9mw    PA             4   \n",
       "2  MTSW4McQd7CbVtyjqoe9mw    PA             5   \n",
       "3  MTSW4McQd7CbVtyjqoe9mw    PA             5   \n",
       "4  MTSW4McQd7CbVtyjqoe9mw    PA             4   \n",
       "\n",
       "                                         review_text  \n",
       "0  This is nice little Chinese bakery in the hear...  \n",
       "1  This is the bakery I usually go to in Chinatow...  \n",
       "2  A delightful find in Chinatown! Very clean, an...  \n",
       "3  I ordered a graduation cake for my niece and i...  \n",
       "4  HK-STYLE MILK TEA:  FOUR STARS\\n\\nNot quite su...  "
      ]
     },
     "execution_count": 81,
     "metadata": {},
     "output_type": "execute_result"
    }
   ],
   "source": [
    "ca_reviews_df.head()"
   ]
  },
  {
   "cell_type": "code",
   "execution_count": 82,
   "id": "32f8d605",
   "metadata": {},
   "outputs": [
    {
     "data": {
      "text/html": [
       "<div>\n",
       "<style scoped>\n",
       "    .dataframe tbody tr th:only-of-type {\n",
       "        vertical-align: middle;\n",
       "    }\n",
       "\n",
       "    .dataframe tbody tr th {\n",
       "        vertical-align: top;\n",
       "    }\n",
       "\n",
       "    .dataframe thead th {\n",
       "        text-align: right;\n",
       "    }\n",
       "</style>\n",
       "<table border=\"1\" class=\"dataframe\">\n",
       "  <thead>\n",
       "    <tr style=\"text-align: right;\">\n",
       "      <th></th>\n",
       "      <th>review_text</th>\n",
       "      <th>review_stars</th>\n",
       "    </tr>\n",
       "  </thead>\n",
       "  <tbody>\n",
       "    <tr>\n",
       "      <th>0</th>\n",
       "      <td>This is nice little Chinese bakery in the hear...</td>\n",
       "      <td>4</td>\n",
       "    </tr>\n",
       "    <tr>\n",
       "      <th>1</th>\n",
       "      <td>This is the bakery I usually go to in Chinatow...</td>\n",
       "      <td>4</td>\n",
       "    </tr>\n",
       "    <tr>\n",
       "      <th>2</th>\n",
       "      <td>A delightful find in Chinatown! Very clean, an...</td>\n",
       "      <td>5</td>\n",
       "    </tr>\n",
       "    <tr>\n",
       "      <th>3</th>\n",
       "      <td>I ordered a graduation cake for my niece and i...</td>\n",
       "      <td>5</td>\n",
       "    </tr>\n",
       "    <tr>\n",
       "      <th>4</th>\n",
       "      <td>HK-STYLE MILK TEA:  FOUR STARS\\n\\nNot quite su...</td>\n",
       "      <td>4</td>\n",
       "    </tr>\n",
       "  </tbody>\n",
       "</table>\n",
       "</div>"
      ],
      "text/plain": [
       "                                         review_text  review_stars\n",
       "0  This is nice little Chinese bakery in the hear...             4\n",
       "1  This is the bakery I usually go to in Chinatow...             4\n",
       "2  A delightful find in Chinatown! Very clean, an...             5\n",
       "3  I ordered a graduation cake for my niece and i...             5\n",
       "4  HK-STYLE MILK TEA:  FOUR STARS\\n\\nNot quite su...             4"
      ]
     },
     "execution_count": 82,
     "metadata": {},
     "output_type": "execute_result"
    }
   ],
   "source": [
    "ca_reviews_df = ca_reviews_df[['review_text', 'review_stars']]\n",
    "ca_reviews_df.head()"
   ]
  },
  {
   "cell_type": "code",
   "execution_count": 83,
   "id": "4f1db654",
   "metadata": {},
   "outputs": [
    {
     "data": {
      "text/plain": [
       "review_text     0.0\n",
       "review_stars    0.0\n",
       "dtype: float64"
      ]
     },
     "execution_count": 83,
     "metadata": {},
     "output_type": "execute_result"
    }
   ],
   "source": [
    "ca_reviews_df.isna().mean()"
   ]
  },
  {
   "cell_type": "code",
   "execution_count": 84,
   "id": "1253ab45",
   "metadata": {},
   "outputs": [],
   "source": [
    "ca_reviews_df = ca_reviews_df.head(1000000)"
   ]
  },
  {
   "cell_type": "code",
   "execution_count": 85,
   "id": "5e8e3d77",
   "metadata": {},
   "outputs": [
    {
     "name": "stdout",
     "output_type": "stream",
     "text": [
      "1000000\n"
     ]
    }
   ],
   "source": [
    "print(ca_reviews_df.shape[0])"
   ]
  },
  {
   "cell_type": "code",
   "execution_count": 86,
   "id": "d501ff16",
   "metadata": {},
   "outputs": [
    {
     "data": {
      "text/html": [
       "<div>\n",
       "<style scoped>\n",
       "    .dataframe tbody tr th:only-of-type {\n",
       "        vertical-align: middle;\n",
       "    }\n",
       "\n",
       "    .dataframe tbody tr th {\n",
       "        vertical-align: top;\n",
       "    }\n",
       "\n",
       "    .dataframe thead th {\n",
       "        text-align: right;\n",
       "    }\n",
       "</style>\n",
       "<table border=\"1\" class=\"dataframe\">\n",
       "  <thead>\n",
       "    <tr style=\"text-align: right;\">\n",
       "      <th></th>\n",
       "      <th>review_text</th>\n",
       "      <th>review_stars</th>\n",
       "      <th>review_binary_labels</th>\n",
       "    </tr>\n",
       "  </thead>\n",
       "  <tbody>\n",
       "    <tr>\n",
       "      <th>0</th>\n",
       "      <td>This is nice little Chinese bakery in the hear...</td>\n",
       "      <td>4</td>\n",
       "      <td>1</td>\n",
       "    </tr>\n",
       "    <tr>\n",
       "      <th>1</th>\n",
       "      <td>This is the bakery I usually go to in Chinatow...</td>\n",
       "      <td>4</td>\n",
       "      <td>1</td>\n",
       "    </tr>\n",
       "    <tr>\n",
       "      <th>2</th>\n",
       "      <td>A delightful find in Chinatown! Very clean, an...</td>\n",
       "      <td>5</td>\n",
       "      <td>1</td>\n",
       "    </tr>\n",
       "    <tr>\n",
       "      <th>3</th>\n",
       "      <td>I ordered a graduation cake for my niece and i...</td>\n",
       "      <td>5</td>\n",
       "      <td>1</td>\n",
       "    </tr>\n",
       "    <tr>\n",
       "      <th>4</th>\n",
       "      <td>HK-STYLE MILK TEA:  FOUR STARS\\n\\nNot quite su...</td>\n",
       "      <td>4</td>\n",
       "      <td>1</td>\n",
       "    </tr>\n",
       "  </tbody>\n",
       "</table>\n",
       "</div>"
      ],
      "text/plain": [
       "                                         review_text  review_stars  \\\n",
       "0  This is nice little Chinese bakery in the hear...             4   \n",
       "1  This is the bakery I usually go to in Chinatow...             4   \n",
       "2  A delightful find in Chinatown! Very clean, an...             5   \n",
       "3  I ordered a graduation cake for my niece and i...             5   \n",
       "4  HK-STYLE MILK TEA:  FOUR STARS\\n\\nNot quite su...             4   \n",
       "\n",
       "   review_binary_labels  \n",
       "0                     1  \n",
       "1                     1  \n",
       "2                     1  \n",
       "3                     1  \n",
       "4                     1  "
      ]
     },
     "execution_count": 86,
     "metadata": {},
     "output_type": "execute_result"
    }
   ],
   "source": [
    "# Assign labels to each review. Positive as 2, Neutral as 1, Negative as 0.\n",
    "#ca_reviews_df['review_labels'] = ca_reviews_df['review_stars'].apply(lambda x:0 if x<3 else (1 if x==3 else 2))\n",
    "\n",
    "# Assign labels to each review. Positive as 1, Negative as 0.\n",
    "ca_reviews_df['review_binary_labels'] = ca_reviews_df['review_stars'].apply(lambda x:0 if x<3 else 1)\n",
    "\n",
    "ca_reviews_df.head()"
   ]
  },
  {
   "cell_type": "code",
   "execution_count": 87,
   "id": "61bac953",
   "metadata": {},
   "outputs": [],
   "source": [
    "# Create training data set & test data set from dataframe\n",
    "def get_training_and_test_data(ca_reviews_df, label):\n",
    "    reviews_training_data, reviews_test_data = train_test_split(ca_reviews_df, test_size = 0.3, stratify = ca_reviews_df[label], random_state = 42)\n",
    "    y_reviews_training_labels = reviews_training_data[label].values\n",
    "    y_reviews_test_labels = reviews_test_data[label].values\n",
    "    return reviews_training_data, y_reviews_training_labels, reviews_test_data, y_reviews_test_labels\n",
    "\n",
    "def pre_process_review(review):\n",
    "    tokens = []\n",
    "    \n",
    "    # lower case the review string\n",
    "    review = review.lower()\n",
    "    \n",
    "    # split the review into individual tokens\n",
    "    review_token_list = review.split()\n",
    "    \n",
    "    # Removing contractions and punctuation from token\n",
    "    for review_token in review_token_list:\n",
    "        review_token = contractions.fix(review_token)\n",
    "        review_token = review_token.translate(str.maketrans('','',string.punctuation))\n",
    "        for token in review_token.split():\n",
    "            tokens.append(token)\n",
    "\n",
    "    return tokens\n"
   ]
  },
  {
   "cell_type": "code",
   "execution_count": 88,
   "id": "b473b1ac",
   "metadata": {},
   "outputs": [],
   "source": [
    "# Perform Analysis with 2 labels (Positive or Negative) with in-built analyzer\n",
    "\n",
    "reviews_training_data, y_reviews_training_labels, reviews_test_data, y_reviews_test_labels = get_training_and_test_data(ca_reviews_df, 'review_binary_labels')\n",
    "\n",
    "# Perform Vectorization on the review text\n",
    "vectorize_reviews = CountVectorizer(binary=True, min_df = 10, max_df = 0.95, ngram_range=(1,2))\n",
    "vectorize_reviews.fit_transform(reviews_training_data['review_text'].values)\n",
    "\n",
    "reviews_training_features = vectorize_reviews.transform(reviews_training_data['review_text'].values)\n",
    "reviews_test_features = vectorize_reviews.transform(reviews_test_data['review_text'].values)"
   ]
  },
  {
   "cell_type": "code",
   "execution_count": 89,
   "id": "af7eccae",
   "metadata": {},
   "outputs": [],
   "source": [
    "# Run Logistic Regression\n",
    "logistic_regression = LogisticRegression(solver = 'liblinear', random_state = 42, max_iter=1000)\n",
    "logistic_regression.fit(reviews_training_features,y_reviews_training_labels)\n",
    "y_reviews_predicted_labels = logistic_regression.predict(reviews_test_features)"
   ]
  },
  {
   "cell_type": "code",
   "execution_count": 90,
   "id": "bbdb5a41",
   "metadata": {},
   "outputs": [
    {
     "data": {
      "image/png": "[encoded data removed]",
      "text/plain": [
       "<Figure size 640x480 with 2 Axes>"
      ]
     },
     "metadata": {},
     "output_type": "display_data"
    }
   ],
   "source": [
    "disp = ConfusionMatrixDisplay.from_predictions(y_reviews_test_labels, y_reviews_predicted_labels,\n",
    "                                               normalize='true',\n",
    "                                               display_labels=['negetive class', 'positive class'])\n",
    "disp.ax_.set_title('confusion matrix for Logistic Regression with 2 classes & in-built analyzer',fontsize = 10);\n",
    "plt.show()\n",
    "\n"
   ]
  },
  {
   "cell_type": "code",
   "execution_count": 91,
   "id": "56d81912",
   "metadata": {},
   "outputs": [
    {
     "name": "stdout",
     "output_type": "stream",
     "text": [
      "Accuracy for the Logistic Regression model:  0.937\n",
      "F1 for the Logistic Regression model:  0.937\n"
     ]
    }
   ],
   "source": [
    "# Calculate Accuracy & F1 Score\n",
    "print(\"Accuracy for the Logistic Regression model: \",round(metrics.accuracy_score(y_reviews_test_labels,y_reviews_predicted_labels),3))\n",
    "print(\"F1 for the Logistic Regression model: \",round(metrics.f1_score(y_reviews_test_labels, y_reviews_predicted_labels, average='weighted'),3))"
   ]
  },
  {
   "cell_type": "code",
   "execution_count": 92,
   "id": "ded99491",
   "metadata": {},
   "outputs": [
    {
     "name": "stdout",
     "output_type": "stream",
     "text": [
      "              precision    recall  f1-score   support\n",
      "\n",
      "           0       0.85      0.83      0.84     60022\n",
      "           1       0.96      0.96      0.96    239978\n",
      "\n",
      "    accuracy                           0.94    300000\n",
      "   macro avg       0.91      0.90      0.90    300000\n",
      "weighted avg       0.94      0.94      0.94    300000\n",
      "\n"
     ]
    }
   ],
   "source": [
    "from sklearn.metrics import classification_report\n",
    "print(classification_report(y_reviews_test_labels,y_reviews_predicted_labels ))"
   ]
  },
  {
   "cell_type": "code",
   "execution_count": 115,
   "id": "85261078",
   "metadata": {},
   "outputs": [
    {
     "name": "stdout",
     "output_type": "stream",
     "text": [
      "TEST review-Super slow service,salads are not good\n",
      "Proability that test review is positive is 0.134\n",
      "Proability that test review is negative is 0.866\n",
      "Over all the review is negative 👎\n"
     ]
    }
   ],
   "source": [
    "\n",
    "\n",
    "test_review = vectorize_reviews.transform([\"Super slow service,salads are not good\"])\n",
    "output=logistic_regression.predict_proba(test_review)\n",
    "\n",
    "negative=round(output[0][0],3)\n",
    "positive=round(output[0][1],3)\n",
    "print(\"TEST review-Super slow service,salads are not good\")\n",
    "print(\"Proability that test review is positive is \"+ str(positive))\n",
    "print(\"Proability that test review is negative is \"+ str(negative))\n",
    "if(logistic_regression.predict(test_review)==0):\n",
    "    print('Over all the review is negative '+ emoji.emojize(':thumbs_down:') )\n",
    "    \n",
    "else:\n",
    "    print(\"Over all the review is positive \" + emoji.emojize(':thumbs_up:'))"
   ]
  },
  {
   "cell_type": "code",
   "execution_count": 116,
   "id": "82d15756",
   "metadata": {},
   "outputs": [
    {
     "name": "stdout",
     "output_type": "stream",
     "text": [
      "TEST review-Their brunch is awesome, I love the avocado toast and the California focaccia. Pizza is really good as well\n",
      "Proability that test review is positive is 0.999\n",
      "Proability that test review is negative is 0.001\n",
      "Over all the review is positive 👍\n"
     ]
    }
   ],
   "source": [
    "test_review = vectorize_reviews.transform([\"Their brunch is awesome, I love the avocado toast and the California focaccia. Pizza is really good as well\"])\n",
    "output=logistic_regression.predict_proba(test_review)\n",
    "\n",
    "negative=round(output[0][0],3)\n",
    "positive=round(output[0][1],3)\n",
    "print(\"TEST review-Their brunch is awesome, I love the avocado toast and the California focaccia. Pizza is really good as well\")\n",
    "print(\"Proability that test review is positive is \"+ str(positive))\n",
    "print(\"Proability that test review is negative is \"+ str(negative))\n",
    "if(logistic_regression.predict(test_review)==0):\n",
    "    print('Over all the review is negative '+ emoji.emojize(':thumbs_down:') )\n",
    "    \n",
    "else:\n",
    "    print(\"Over all the review is positive \" + emoji.emojize(':thumbs_up:'))"
   ]
  },
  {
   "cell_type": "code",
   "execution_count": 117,
   "id": "a74a08c0",
   "metadata": {},
   "outputs": [],
   "source": [
    "import pickle\n",
    "filename = 'finalized_model_logistic _regression.sav'\n",
    "pickle.dump(logistic_regression, open(filename, 'wb'))"
   ]
  },
  {
   "cell_type": "code",
   "execution_count": 31,
   "id": "9f752c6b",
   "metadata": {},
   "outputs": [
    {
     "name": "stdout",
     "output_type": "stream",
     "text": [
      "Proability that test review is positive is 0.134\n",
      "Proability that test review is negative is 0.866\n"
     ]
    }
   ],
   "source": [
    "#load the model\n",
    "filename = 'finalized_model_logistic _regression.sav'\n",
    "logistic_regression = pickle.load(open(filename, 'rb'))\n",
    "test_review1 = vectorize_reviews.transform([\"Super slow service,salads are not good.\"])\n",
    "output1=logistic_regression.predict_proba(test_review1)\n",
    "negative1=round(output1[0][0],3)\n",
    "positive1=round(output1[0][1],3)\n",
    "print(\"Proability that test review is positive is \"+ str(positive1))\n",
    "print(\"Proability that test review is negative is \"+ str(negative1))"
   ]
  },
  {
   "cell_type": "code",
   "execution_count": 141,
   "id": "77b4a6b2",
   "metadata": {},
   "outputs": [
    {
     "name": "stdout",
     "output_type": "stream",
     "text": [
      "['three stars', 'not disappointed', 'never disappointed', 'superb', 'star off', 'wasn disappointed', 'delicious', 'be disappointed', 'three because', 'heaven', 'even better', 'three star', 'excellent', 'yum', 'best', 'fantastic', 'awesome', 'perfection', 'amazing', 'never disappoints']\n"
     ]
    }
   ],
   "source": [
    "words_effect_on_sentiment= logistic_regression.coef_[0][:20]\n",
    "words_effect_on_sentiment =logistic_regression.coef_[0]\n",
    "import numpy as np\n",
    "increacing_effects = np.argsort(words_effect_on_sentiment)\n",
    "top_most_effected_words_pos = [list(vectorize_reviews.vocabulary_.keys())[list(vectorize_reviews.vocabulary_.values()).index(w)] for w in increacing_effects[range(-1,-21, -1)]]\n",
    "print(top_most_effected_words_pos)"
   ]
  },
  {
   "cell_type": "code",
   "execution_count": 142,
   "id": "a80c5be8",
   "metadata": {},
   "outputs": [
    {
     "data": {
      "image/png": "[encoded data removed]",
      "text/plain": [
       "<Figure size 500x500 with 1 Axes>"
      ]
     },
     "metadata": {},
     "output_type": "display_data"
    }
   ],
   "source": [
    "\n",
    "fig = plt.figure(figsize=(5, 5))\n",
    "ax = plt.bar(top_most_effected_words_pos, words_effect_on_sentiment[increacing_effects[range(-1,-21, -1)]])\n",
    "plt.title(\"Top words which effect the positive reviews\",fontsize = 10)\n",
    "x_locs,x_labels = plt.xticks()\n",
    "plt.setp(x_labels, rotation = 90)\n",
    "plt.ylabel('words_effect_on_sentiment', fontsize = 10)\n",
    "plt.xlabel('Word', fontsize = 10);\n",
    "\n",
    "\n",
    "\n",
    "\n"
   ]
  },
  {
   "cell_type": "code",
   "execution_count": 120,
   "id": "c1451969",
   "metadata": {},
   "outputs": [
    {
     "name": "stdout",
     "output_type": "stream",
     "text": [
      "['two stars', 'worst', 'experienced better', 'never coming', 'never again', 'at best', 'pathetic', 'wouldn try', 'zero stars', 'horrible', 'cockroach', 'never going', 'not recommend', 'not dinner', 'not worth', 'slowest', 'second star', 'no stars', 'were priced', 'roach']\n"
     ]
    }
   ],
   "source": [
    "top_most_effected_words_neg = [list(vectorize_reviews.vocabulary_.keys())[list(vectorize_reviews.vocabulary_.values()).index(w)] for w in increacing_effects[:20]]\n",
    "print(top_most_effected_words_neg)"
   ]
  },
  {
   "cell_type": "code",
   "execution_count": 121,
   "id": "594e684f",
   "metadata": {
    "scrolled": false
   },
   "outputs": [
    {
     "data": {
      "image/png": "[encoded data removed]",
      "text/plain": [
       "<Figure size 500x500 with 1 Axes>"
      ]
     },
     "metadata": {},
     "output_type": "display_data"
    }
   ],
   "source": [
    "fig = plt.figure(figsize=(5, 5))\n",
    "ax = plt.bar(top_most_effected_words_neg, words_effect_on_sentiment[increacing_effects[range(-1,-21, -1)]])\n",
    "plt.title(\"Top words which effect the negative reviews\",fontsize = 10)\n",
    "x_locs,x_labels = plt.xticks()\n",
    "plt.setp(x_labels, rotation = 90)\n",
    "plt.ylabel('words_effect_on_sentiment', fontsize = 10)\n",
    "plt.xlabel('Word', fontsize = 10);"
   ]
  },
  {
   "cell_type": "code",
   "execution_count": 58,
   "id": "d12c6cce",
   "metadata": {},
   "outputs": [],
   "source": [
    "#Adding three class sentiment analysis"
   ]
  },
  {
   "cell_type": "code",
   "execution_count": 61,
   "id": "208be593",
   "metadata": {},
   "outputs": [
    {
     "data": {
      "text/html": [
       "<div>\n",
       "<style scoped>\n",
       "    .dataframe tbody tr th:only-of-type {\n",
       "        vertical-align: middle;\n",
       "    }\n",
       "\n",
       "    .dataframe tbody tr th {\n",
       "        vertical-align: top;\n",
       "    }\n",
       "\n",
       "    .dataframe thead th {\n",
       "        text-align: right;\n",
       "    }\n",
       "</style>\n",
       "<table border=\"1\" class=\"dataframe\">\n",
       "  <thead>\n",
       "    <tr style=\"text-align: right;\">\n",
       "      <th></th>\n",
       "      <th>review_text</th>\n",
       "      <th>review_stars</th>\n",
       "    </tr>\n",
       "  </thead>\n",
       "  <tbody>\n",
       "    <tr>\n",
       "      <th>0</th>\n",
       "      <td>This is nice little Chinese bakery in the hear...</td>\n",
       "      <td>4</td>\n",
       "    </tr>\n",
       "    <tr>\n",
       "      <th>1</th>\n",
       "      <td>This is the bakery I usually go to in Chinatow...</td>\n",
       "      <td>4</td>\n",
       "    </tr>\n",
       "    <tr>\n",
       "      <th>2</th>\n",
       "      <td>A delightful find in Chinatown! Very clean, an...</td>\n",
       "      <td>5</td>\n",
       "    </tr>\n",
       "    <tr>\n",
       "      <th>3</th>\n",
       "      <td>I ordered a graduation cake for my niece and i...</td>\n",
       "      <td>5</td>\n",
       "    </tr>\n",
       "    <tr>\n",
       "      <th>4</th>\n",
       "      <td>HK-STYLE MILK TEA:  FOUR STARS\\n\\nNot quite su...</td>\n",
       "      <td>4</td>\n",
       "    </tr>\n",
       "  </tbody>\n",
       "</table>\n",
       "</div>"
      ],
      "text/plain": [
       "                                         review_text  review_stars\n",
       "0  This is nice little Chinese bakery in the hear...             4\n",
       "1  This is the bakery I usually go to in Chinatow...             4\n",
       "2  A delightful find in Chinatown! Very clean, an...             5\n",
       "3  I ordered a graduation cake for my niece and i...             5\n",
       "4  HK-STYLE MILK TEA:  FOUR STARS\\n\\nNot quite su...             4"
      ]
     },
     "execution_count": 61,
     "metadata": {},
     "output_type": "execute_result"
    }
   ],
   "source": [
    "ca_reviews_df = ca_reviews_df[['review_text', 'review_stars']]\n",
    "ca_reviews_df.head()"
   ]
  },
  {
   "cell_type": "code",
   "execution_count": 62,
   "id": "901a06d4",
   "metadata": {},
   "outputs": [],
   "source": [
    "ca_reviews_df['review_labels'] = ca_reviews_df['review_stars'].apply(lambda x:0 if x<3 else (1 if x==3 else 2))"
   ]
  },
  {
   "cell_type": "code",
   "execution_count": 63,
   "id": "b70fa495",
   "metadata": {},
   "outputs": [
    {
     "data": {
      "text/html": [
       "<div>\n",
       "<style scoped>\n",
       "    .dataframe tbody tr th:only-of-type {\n",
       "        vertical-align: middle;\n",
       "    }\n",
       "\n",
       "    .dataframe tbody tr th {\n",
       "        vertical-align: top;\n",
       "    }\n",
       "\n",
       "    .dataframe thead th {\n",
       "        text-align: right;\n",
       "    }\n",
       "</style>\n",
       "<table border=\"1\" class=\"dataframe\">\n",
       "  <thead>\n",
       "    <tr style=\"text-align: right;\">\n",
       "      <th></th>\n",
       "      <th>review_text</th>\n",
       "      <th>review_stars</th>\n",
       "      <th>review_labels</th>\n",
       "    </tr>\n",
       "  </thead>\n",
       "  <tbody>\n",
       "    <tr>\n",
       "      <th>0</th>\n",
       "      <td>This is nice little Chinese bakery in the hear...</td>\n",
       "      <td>4</td>\n",
       "      <td>2</td>\n",
       "    </tr>\n",
       "    <tr>\n",
       "      <th>1</th>\n",
       "      <td>This is the bakery I usually go to in Chinatow...</td>\n",
       "      <td>4</td>\n",
       "      <td>2</td>\n",
       "    </tr>\n",
       "    <tr>\n",
       "      <th>2</th>\n",
       "      <td>A delightful find in Chinatown! Very clean, an...</td>\n",
       "      <td>5</td>\n",
       "      <td>2</td>\n",
       "    </tr>\n",
       "    <tr>\n",
       "      <th>3</th>\n",
       "      <td>I ordered a graduation cake for my niece and i...</td>\n",
       "      <td>5</td>\n",
       "      <td>2</td>\n",
       "    </tr>\n",
       "    <tr>\n",
       "      <th>4</th>\n",
       "      <td>HK-STYLE MILK TEA:  FOUR STARS\\n\\nNot quite su...</td>\n",
       "      <td>4</td>\n",
       "      <td>2</td>\n",
       "    </tr>\n",
       "  </tbody>\n",
       "</table>\n",
       "</div>"
      ],
      "text/plain": [
       "                                         review_text  review_stars  \\\n",
       "0  This is nice little Chinese bakery in the hear...             4   \n",
       "1  This is the bakery I usually go to in Chinatow...             4   \n",
       "2  A delightful find in Chinatown! Very clean, an...             5   \n",
       "3  I ordered a graduation cake for my niece and i...             5   \n",
       "4  HK-STYLE MILK TEA:  FOUR STARS\\n\\nNot quite su...             4   \n",
       "\n",
       "   review_labels  \n",
       "0              2  \n",
       "1              2  \n",
       "2              2  \n",
       "3              2  \n",
       "4              2  "
      ]
     },
     "execution_count": 63,
     "metadata": {},
     "output_type": "execute_result"
    }
   ],
   "source": [
    "ca_reviews_df.head()"
   ]
  },
  {
   "cell_type": "code",
   "execution_count": 66,
   "id": "3fdccca0",
   "metadata": {},
   "outputs": [],
   "source": [
    "reviews_training_data, y_reviews_training_labels, reviews_test_data, y_reviews_test_labels = get_training_and_test_data(ca_reviews_df, 'review_labels')\n",
    "\n",
    "# Perform Vectorization on the review text\n",
    "vectorize_reviews = CountVectorizer(analyzer = pre_process_review, min_df = 10, max_df = 0.95, ngram_range=(1,2))\n",
    "vectorize_reviews.fit_transform(reviews_training_data['review_text'].values)\n",
    "\n",
    "reviews_training_features = vectorize_reviews.transform(reviews_training_data['review_text'].values)\n",
    "reviews_test_features = vectorize_reviews.transform(reviews_test_data['review_text'].values)\n"
   ]
  },
  {
   "cell_type": "code",
   "execution_count": 67,
   "id": "1c25c73a",
   "metadata": {},
   "outputs": [],
   "source": [
    "logistic_regression = LogisticRegression(solver = 'liblinear', random_state = 42, max_iter=1000)\n",
    "logistic_regression.fit(reviews_training_features,y_reviews_training_labels)\n",
    "y_reviews_predicted_labels = logistic_regression.predict(reviews_test_features)"
   ]
  },
  {
   "cell_type": "code",
   "execution_count": 68,
   "id": "a1d28e8d",
   "metadata": {},
   "outputs": [
    {
     "data": {
      "image/png": "[encoded data removed]",
      "text/plain": [
       "<Figure size 640x480 with 2 Axes>"
      ]
     },
     "metadata": {},
     "output_type": "display_data"
    },
    {
     "name": "stdout",
     "output_type": "stream",
     "text": [
      "Accuracy:  0.866\n",
      "F1:  0.851\n"
     ]
    }
   ],
   "source": [
    "disp = ConfusionMatrixDisplay.from_predictions(y_reviews_test_labels, y_reviews_predicted_labels,\n",
    "                                               normalize='true',\n",
    "                                               display_labels=['Class 0', 'Class 1', 'Class 2'])\n",
    "disp.ax_.set_title('Logistic Regression with 3 classes');\n",
    "plt.show()\n",
    "\n",
    "# Calculate Accuracy & F1 Score\n",
    "print(\"Accuracy: \",round(metrics.accuracy_score(y_reviews_test_labels,y_reviews_predicted_labels),3))\n",
    "print(\"F1: \",round(metrics.f1_score(y_reviews_test_labels, y_reviews_predicted_labels, average='weighted'),3))"
   ]
  },
  {
   "cell_type": "code",
   "execution_count": 69,
   "id": "3af561a7",
   "metadata": {},
   "outputs": [
    {
     "name": "stdout",
     "output_type": "stream",
     "text": [
      "Proability that test review is positive is 0.078\n",
      "Proability that test review is neutral is 0.103\n",
      "Proability that test review is negative is 0.819\n"
     ]
    }
   ],
   "source": [
    "test_review = vectorize_reviews.transform([\"I ordered the Stone Pot Rice Bowl with Beef. There was not more than one teaspoon of beef in the entire meal. Just a big pile of rice. Very disappointing for $18\"])\n",
    "output=logistic_regression.predict_proba(test_review)\n",
    "\n",
    "negative=round(output[0][0],3)\n",
    "neutral=round(output[0][1],3)\n",
    "positive=round(output[0][2],3)\n",
    "print(\"Proability that test review is positive is \"+ str(positive))\n",
    "print(\"Proability that test review is neutral is \"+ str(neutral))\n",
    "print(\"Proability that test review is negative is \"+ str(negative))"
   ]
  },
  {
   "cell_type": "code",
   "execution_count": null,
   "id": "faa800ad",
   "metadata": {},
   "outputs": [],
   "source": [
    "reviews_training_data, y_reviews_training_labels, reviews_test_data, y_reviews_test_labels = get_training_and_test_data(ca_reviews_df, 'review_binary_labels')\n",
    "\n",
    "# Perform Vectorization on the review text\n",
    "vectorize_reviews = CountVectorizer(binary=True, min_df = 10, max_df = 0.95, ngram_range=(1,2))\n",
    "vectorize_reviews.fit_transform(reviews_training_data['review_text'].values)\n",
    "\n",
    "reviews_training_features = vectorize_reviews.transform(reviews_training_data['review_text'].values)\n",
    "reviews_test_features = vectorize_reviews.transform(reviews_test_data['review_text'].values)"
   ]
  }
 ],
 "metadata": {
  "kernelspec": {
   "display_name": "Python 3 (ipykernel)",
   "language": "python",
   "name": "python3"
  },
  "language_info": {
   "codemirror_mode": {
    "name": "ipython",
    "version": 3
   },
   "file_extension": ".py",
   "mimetype": "text/x-python",
   "name": "python",
   "nbconvert_exporter": "python",
   "pygments_lexer": "ipython3",
   "version": "3.10.8"
  }
 },
 "nbformat": 4,
 "nbformat_minor": 5
}
