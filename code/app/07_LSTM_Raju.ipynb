{
 "cells": [
  {
   "cell_type": "code",
   "execution_count": 1,
   "metadata": {},
   "outputs": [],
   "source": [
    "# General Libraries\n",
    "import json\n",
    "import sys\n",
    "import numpy as np\n",
    "import pandas as pd\n",
    "import seaborn as sns\n",
    "import matplotlib.pyplot as plt\n",
    "import itertools\n",
    "\n",
    "# NLP\n",
    "import nltk\n",
    "import re\n",
    "from nltk.corpus import stopwords\n",
    "from bs4 import BeautifulSoup\n",
    "from nltk.stem import PorterStemmer\n",
    "\n",
    "\n",
    "# ML/DL\n",
    "import tensorflow as tf\n",
    "import pickle\n",
    "\n",
    "from sklearn.preprocessing import LabelBinarizer, LabelEncoder\n",
    "from sklearn.metrics import confusion_matrix, classification_report\n",
    "from sklearn.model_selection import train_test_split, GridSearchCV\n",
    "\n",
    "from tensorflow import keras\n",
    "from keras import Sequential\n",
    "from keras.layers import Dense, Activation, Dropout, Embedding, Conv1D, MaxPooling1D, LSTM, BatchNormalization, SpatialDropout1D, GRU, GlobalMaxPool1D, Bidirectional\n",
    "from keras_preprocessing.sequence import pad_sequences\n",
    "from keras.preprocessing import text, sequence\n",
    "from keras import utils\n",
    "from keras import regularizers\n",
    "from keras.models import load_model\n",
    "from keras.initializers import Constant\n",
    "from keras.utils import plot_model\n",
    "from keras.wrappers.scikit_learn import KerasClassifier"
   ]
  },
  {
   "cell_type": "code",
   "execution_count": 2,
   "metadata": {},
   "outputs": [],
   "source": [
    "df=pd.read_csv(\"california_restaurants.csv\")"
   ]
  },
  {
   "cell_type": "code",
   "execution_count": 3,
   "metadata": {},
   "outputs": [
    {
     "data": {
      "text/html": [
       "<div>\n",
       "<style scoped>\n",
       "    .dataframe tbody tr th:only-of-type {\n",
       "        vertical-align: middle;\n",
       "    }\n",
       "\n",
       "    .dataframe tbody tr th {\n",
       "        vertical-align: top;\n",
       "    }\n",
       "\n",
       "    .dataframe thead th {\n",
       "        text-align: right;\n",
       "    }\n",
       "</style>\n",
       "<table border=\"1\" class=\"dataframe\">\n",
       "  <thead>\n",
       "    <tr style=\"text-align: right;\">\n",
       "      <th></th>\n",
       "      <th>Unnamed: 0</th>\n",
       "      <th>business_id</th>\n",
       "      <th>name</th>\n",
       "      <th>address</th>\n",
       "      <th>city</th>\n",
       "      <th>state</th>\n",
       "      <th>postal_code</th>\n",
       "      <th>latitude</th>\n",
       "      <th>longitude</th>\n",
       "      <th>stars</th>\n",
       "      <th>review_count</th>\n",
       "      <th>is_open</th>\n",
       "      <th>attributes</th>\n",
       "      <th>categories</th>\n",
       "      <th>hours</th>\n",
       "      <th>user_id</th>\n",
       "      <th>review_stars</th>\n",
       "      <th>text</th>\n",
       "      <th>date</th>\n",
       "    </tr>\n",
       "  </thead>\n",
       "  <tbody>\n",
       "    <tr>\n",
       "      <th>0</th>\n",
       "      <td>2456</td>\n",
       "      <td>IDtLPgUrqorrpqSLdfMhZQ</td>\n",
       "      <td>Helena Avenue Bakery</td>\n",
       "      <td>131 Anacapa St, Ste C</td>\n",
       "      <td>Santa Barbara</td>\n",
       "      <td>CA</td>\n",
       "      <td>93101</td>\n",
       "      <td>34.414445</td>\n",
       "      <td>-119.690672</td>\n",
       "      <td>4.0</td>\n",
       "      <td>389</td>\n",
       "      <td>1</td>\n",
       "      <td>{'RestaurantsTakeOut': 'True', 'NoiseLevel': \"...</td>\n",
       "      <td>Restaurants</td>\n",
       "      <td>{'Monday': '0:0-0:0', 'Tuesday': '8:0-14:0', '...</td>\n",
       "      <td>bFPdtzu11Oi0f92EAcjqmg</td>\n",
       "      <td>5</td>\n",
       "      <td>What a great addition to the Funk Zone!  Grab ...</td>\n",
       "      <td>2016-10-13 22:50:47</td>\n",
       "    </tr>\n",
       "  </tbody>\n",
       "</table>\n",
       "</div>"
      ],
      "text/plain": [
       "   Unnamed: 0             business_id                  name  \\\n",
       "0        2456  IDtLPgUrqorrpqSLdfMhZQ  Helena Avenue Bakery   \n",
       "\n",
       "                 address           city state  postal_code   latitude  \\\n",
       "0  131 Anacapa St, Ste C  Santa Barbara    CA        93101  34.414445   \n",
       "\n",
       "    longitude  stars  review_count  is_open  \\\n",
       "0 -119.690672    4.0           389        1   \n",
       "\n",
       "                                          attributes   categories  \\\n",
       "0  {'RestaurantsTakeOut': 'True', 'NoiseLevel': \"...  Restaurants   \n",
       "\n",
       "                                               hours                 user_id  \\\n",
       "0  {'Monday': '0:0-0:0', 'Tuesday': '8:0-14:0', '...  bFPdtzu11Oi0f92EAcjqmg   \n",
       "\n",
       "   review_stars                                               text  \\\n",
       "0             5  What a great addition to the Funk Zone!  Grab ...   \n",
       "\n",
       "                  date  \n",
       "0  2016-10-13 22:50:47  "
      ]
     },
     "execution_count": 3,
     "metadata": {},
     "output_type": "execute_result"
    }
   ],
   "source": [
    "df.head(1)"
   ]
  },
  {
   "cell_type": "code",
   "execution_count": 4,
   "metadata": {},
   "outputs": [
    {
     "data": {
      "text/plain": [
       "<AxesSubplot:>"
      ]
     },
     "execution_count": 4,
     "metadata": {},
     "output_type": "execute_result"
    },
    {
     "data": {
      "image/png": "[encoded data removed]",
      "text/plain": [
       "<Figure size 640x480 with 1 Axes>"
      ]
     },
     "metadata": {},
     "output_type": "display_data"
    }
   ],
   "source": [
    "df=df[[\"text\",\"review_stars\"]]\n",
    "df.review_stars.value_counts().plot(kind=\"bar\")"
   ]
  },
  {
   "cell_type": "code",
   "execution_count": 5,
   "metadata": {},
   "outputs": [],
   "source": [
    "df_test=df"
   ]
  },
  {
   "cell_type": "code",
   "execution_count": 6,
   "metadata": {},
   "outputs": [],
   "source": [
    "to_remove = np.random.choice(df_test[df_test['review_stars']==5].index,size=80000,replace=False)\n",
    "df_testv1=df_test.drop(to_remove)"
   ]
  },
  {
   "cell_type": "code",
   "execution_count": 7,
   "metadata": {},
   "outputs": [
    {
     "data": {
      "text/plain": [
       "4    45823\n",
       "5    22470\n",
       "3    21149\n",
       "1    20272\n",
       "2    15750\n",
       "Name: review_stars, dtype: int64"
      ]
     },
     "execution_count": 7,
     "metadata": {},
     "output_type": "execute_result"
    }
   ],
   "source": [
    "df_testv1.review_stars.value_counts()"
   ]
  },
  {
   "cell_type": "code",
   "execution_count": 8,
   "metadata": {},
   "outputs": [],
   "source": [
    "to_remove = np.random.choice(df_testv1[df_testv1['review_stars']==4].index,size=24000,replace=False)\n",
    "df_testv1=df_testv1.drop(to_remove)"
   ]
  },
  {
   "cell_type": "code",
   "execution_count": 9,
   "metadata": {},
   "outputs": [
    {
     "data": {
      "text/plain": [
       "<AxesSubplot:>"
      ]
     },
     "execution_count": 9,
     "metadata": {},
     "output_type": "execute_result"
    },
    {
     "data": {
      "image/png": "[encoded data removed]",
      "text/plain": [
       "<Figure size 640x480 with 1 Axes>"
      ]
     },
     "metadata": {},
     "output_type": "display_data"
    }
   ],
   "source": [
    "df_testv1.review_stars.value_counts().plot(kind=\"bar\")"
   ]
  },
  {
   "cell_type": "code",
   "execution_count": 10,
   "metadata": {},
   "outputs": [],
   "source": [
    "df_testv1.to_csv(\"manual_sample.csv\")"
   ]
  },
  {
   "cell_type": "markdown",
   "metadata": {},
   "source": [
    "#### manual sampling has been done to have an almost balanced dataset"
   ]
  },
  {
   "cell_type": "code",
   "execution_count": 21,
   "metadata": {},
   "outputs": [],
   "source": [
    "X = df_testv1['text'].fillna('').values\n",
    "y = df_testv1['review_stars']"
   ]
  },
  {
   "cell_type": "code",
   "execution_count": 24,
   "metadata": {},
   "outputs": [
    {
     "data": {
      "text/plain": [
       "(101464,)"
      ]
     },
     "execution_count": 24,
     "metadata": {},
     "output_type": "execute_result"
    }
   ],
   "source": [
    "X.shape"
   ]
  },
  {
   "cell_type": "code",
   "execution_count": 22,
   "metadata": {},
   "outputs": [],
   "source": [
    "X_train, X_test, y_train, y_test = train_test_split(X, y, test_size=0.30, random_state=42)"
   ]
  },
  {
   "cell_type": "code",
   "execution_count": 23,
   "metadata": {},
   "outputs": [
    {
     "name": "stdout",
     "output_type": "stream",
     "text": [
      "X_train shape: (71024, 3000)\n",
      "X_test shape: (30440, 3000)\n",
      "y_train shape: (71024, 5)\n",
      "y_test shape: (30440, 5)\n",
      "Wall time: 9.53 s\n"
     ]
    }
   ],
   "source": [
    "%%time\n",
    "max_words = 3000\n",
    "tokenizer = text.Tokenizer(num_words=max_words, char_level=False)\n",
    "\n",
    "tokenizer.fit_on_texts(X_train)\n",
    "X_train = tokenizer.texts_to_matrix(X_train)\n",
    "X_test = tokenizer.texts_to_matrix(X_test)\n",
    "\n",
    "encoder = LabelEncoder()\n",
    "encoder.fit(y_train)\n",
    "y_train = encoder.transform(y_train)\n",
    "y_test = encoder.transform(y_test)\n",
    "\n",
    "num_classes = np.max(y_train) + 1\n",
    "y_train = utils.to_categorical(y_train, num_classes)\n",
    "y_test = utils.to_categorical(y_test, num_classes)\n",
    "\n",
    "print('X_train shape:', X_train.shape)\n",
    "print('X_test shape:', X_test.shape)\n",
    "print('y_train shape:', y_train.shape)\n",
    "print('y_test shape:', y_test.shape)"
   ]
  },
  {
   "cell_type": "code",
   "execution_count": 10,
   "metadata": {},
   "outputs": [],
   "source": [
    "\n",
    "with open('tokenizer.pickle', 'rb') as handle:\n",
    "    tokenizer = pickle.load(handle)"
   ]
  },
  {
   "cell_type": "code",
   "execution_count": 13,
   "metadata": {},
   "outputs": [],
   "source": [
    "from keras.losses import mean_absolute_error,binary_crossentropy, categorical_crossentropy\n",
    "\n",
    "def my_custom_loss(y_true, y_pred):\n",
    "    mae = mean_absolute_error(y_true, y_pred)\n",
    "    crossentropy = categorical_crossentropy(y_true, y_pred)\n",
    "    return mae + crossentropy"
   ]
  },
  {
   "cell_type": "code",
   "execution_count": 36,
   "metadata": {},
   "outputs": [
    {
     "name": "stdout",
     "output_type": "stream",
     "text": [
      "Epoch 1/10\n",
      "222/222 [==============================] - 2s 5ms/step - loss: 1.7011 - accuracy: 0.5391 - mean_absolute_error: 0.2127 - val_loss: 1.5842 - val_accuracy: 0.5932 - val_mean_absolute_error: 0.2331\n",
      "Epoch 2/10\n",
      "222/222 [==============================] - 1s 4ms/step - loss: 1.3160 - accuracy: 0.6666 - mean_absolute_error: 0.1738 - val_loss: 1.4579 - val_accuracy: 0.5954 - val_mean_absolute_error: 0.1972\n",
      "Epoch 3/10\n",
      "222/222 [==============================] - 1s 4ms/step - loss: 1.1408 - accuracy: 0.7297 - mean_absolute_error: 0.1526 - val_loss: 1.4894 - val_accuracy: 0.5902 - val_mean_absolute_error: 0.1898\n",
      "Epoch 4/10\n",
      "222/222 [==============================] - 1s 4ms/step - loss: 1.0045 - accuracy: 0.7794 - mean_absolute_error: 0.1322 - val_loss: 1.5615 - val_accuracy: 0.5753 - val_mean_absolute_error: 0.1921\n",
      "Epoch 5/10\n",
      "222/222 [==============================] - 1s 4ms/step - loss: 0.8942 - accuracy: 0.8205 - mean_absolute_error: 0.1140 - val_loss: 1.6022 - val_accuracy: 0.5747 - val_mean_absolute_error: 0.1884\n",
      "Epoch 6/10\n",
      "222/222 [==============================] - 1s 4ms/step - loss: 0.8133 - accuracy: 0.8489 - mean_absolute_error: 0.0986 - val_loss: 1.6980 - val_accuracy: 0.5766 - val_mean_absolute_error: 0.1840\n",
      "Epoch 7/10\n",
      "222/222 [==============================] - 1s 4ms/step - loss: 0.7496 - accuracy: 0.8725 - mean_absolute_error: 0.0864 - val_loss: 1.7538 - val_accuracy: 0.5725 - val_mean_absolute_error: 0.1866\n",
      "Epoch 8/10\n",
      "222/222 [==============================] - 1s 4ms/step - loss: 0.6984 - accuracy: 0.8899 - mean_absolute_error: 0.0763 - val_loss: 1.7852 - val_accuracy: 0.5759 - val_mean_absolute_error: 0.1834\n",
      "Epoch 9/10\n",
      "222/222 [==============================] - 1s 4ms/step - loss: 0.6595 - accuracy: 0.9026 - mean_absolute_error: 0.0691 - val_loss: 1.8523 - val_accuracy: 0.5740 - val_mean_absolute_error: 0.1824\n",
      "Epoch 10/10\n",
      "222/222 [==============================] - 1s 4ms/step - loss: 0.6360 - accuracy: 0.9108 - mean_absolute_error: 0.0633 - val_loss: 1.9293 - val_accuracy: 0.5592 - val_mean_absolute_error: 0.1865\n"
     ]
    }
   ],
   "source": [
    "batch_size = 256\n",
    "epochs = 10\n",
    "\n",
    "\n",
    "optimizer = keras.optimizers.Adam(learning_rate=.0007, beta_1=0.9, beta_2=0.95, amsgrad=False)\n",
    "\n",
    "baseline = Sequential()\n",
    "baseline.add(Dense(512, input_shape=(max_words,), kernel_regularizer=regularizers.l1_l2(l1=1e-5, l2=1e-4),\n",
    "          bias_regularizer=regularizers.l2(1e-4),\n",
    "          activity_regularizer=regularizers.l2(1e-5)))\n",
    "baseline.add(BatchNormalization())\n",
    "baseline.add(Activation('relu'))\n",
    "baseline.add(Dropout(0.3))\n",
    "baseline.add(Dense(5))\n",
    "baseline.add(Activation('softmax'))\n",
    "\n",
    "baseline.compile(loss=my_custom_loss,\n",
    "              optimizer=optimizer,\n",
    "              metrics=['accuracy', 'mean_absolute_error'])\n",
    "\n",
    "history = baseline.fit(X_train, y_train,\n",
    "                    batch_size=batch_size,\n",
    "                    epochs=epochs,\n",
    "                    verbose=1,\n",
    "                    validation_split=0.2)"
   ]
  },
  {
   "cell_type": "code",
   "execution_count": 37,
   "metadata": {},
   "outputs": [
    {
     "name": "stdout",
     "output_type": "stream",
     "text": [
      "119/119 [==============================] - 0s 3ms/step - loss: 1.9249 - accuracy: 0.5649 - mean_absolute_error: 0.1859\n",
      "Test accuracy: 0.5649474263191223 Test MAE: 0.1858862340450287\n"
     ]
    }
   ],
   "source": [
    "score = baseline.evaluate(X_test, y_test,\n",
    "                       batch_size=batch_size, verbose=1)\n",
    "print('Test accuracy:', score[1], \"Test MAE:\", score[2])"
   ]
  },
  {
   "cell_type": "code",
   "execution_count": 40,
   "metadata": {},
   "outputs": [
    {
     "name": "stdout",
     "output_type": "stream",
     "text": [
      "952/952 [==============================] - 1s 1ms/step\n"
     ]
    },
    {
     "data": {
      "text/html": [
       "<div>\n",
       "<style scoped>\n",
       "    .dataframe tbody tr th:only-of-type {\n",
       "        vertical-align: middle;\n",
       "    }\n",
       "\n",
       "    .dataframe tbody tr th {\n",
       "        vertical-align: top;\n",
       "    }\n",
       "\n",
       "    .dataframe thead th {\n",
       "        text-align: right;\n",
       "    }\n",
       "</style>\n",
       "<table border=\"1\" class=\"dataframe\">\n",
       "  <thead>\n",
       "    <tr style=\"text-align: right;\">\n",
       "      <th></th>\n",
       "      <th>1</th>\n",
       "      <th>2</th>\n",
       "      <th>3</th>\n",
       "      <th>4</th>\n",
       "      <th>5</th>\n",
       "    </tr>\n",
       "  </thead>\n",
       "  <tbody>\n",
       "    <tr>\n",
       "      <th>1</th>\n",
       "      <td>4227</td>\n",
       "      <td>1223</td>\n",
       "      <td>488</td>\n",
       "      <td>109</td>\n",
       "      <td>71</td>\n",
       "    </tr>\n",
       "    <tr>\n",
       "      <th>2</th>\n",
       "      <td>1401</td>\n",
       "      <td>2008</td>\n",
       "      <td>1367</td>\n",
       "      <td>244</td>\n",
       "      <td>71</td>\n",
       "    </tr>\n",
       "    <tr>\n",
       "      <th>3</th>\n",
       "      <td>375</td>\n",
       "      <td>1205</td>\n",
       "      <td>3104</td>\n",
       "      <td>1205</td>\n",
       "      <td>267</td>\n",
       "    </tr>\n",
       "    <tr>\n",
       "      <th>4</th>\n",
       "      <td>73</td>\n",
       "      <td>173</td>\n",
       "      <td>1288</td>\n",
       "      <td>3579</td>\n",
       "      <td>2043</td>\n",
       "    </tr>\n",
       "    <tr>\n",
       "      <th>5</th>\n",
       "      <td>37</td>\n",
       "      <td>40</td>\n",
       "      <td>154</td>\n",
       "      <td>1409</td>\n",
       "      <td>4279</td>\n",
       "    </tr>\n",
       "  </tbody>\n",
       "</table>\n",
       "</div>"
      ],
      "text/plain": [
       "      1     2     3     4     5\n",
       "1  4227  1223   488   109    71\n",
       "2  1401  2008  1367   244    71\n",
       "3   375  1205  3104  1205   267\n",
       "4    73   173  1288  3579  2043\n",
       "5    37    40   154  1409  4279"
      ]
     },
     "execution_count": 40,
     "metadata": {},
     "output_type": "execute_result"
    }
   ],
   "source": [
    "y_pred = baseline.predict(X_test)\n",
    "\n",
    "cols = [1, 2, 3, 4, 5]\n",
    "\n",
    "# Creating predictions table\n",
    "baseline_ps = pd.DataFrame(data=y_pred, columns=cols)\n",
    "y_pred_true = baseline_ps.idxmax(axis=1)\n",
    "\n",
    "# Creating truth\n",
    "baseline_truth = pd.DataFrame(data=y_test, columns=cols)\n",
    "y_test_true = baseline_truth.idxmax(axis=1)\n",
    "\n",
    "# Confusion matrix\n",
    "cm = confusion_matrix(y_pred_true, y_test_true)\n",
    "pd.DataFrame(cm, index=cols, columns=cols)"
   ]
  },
  {
   "cell_type": "code",
   "execution_count": 41,
   "metadata": {},
   "outputs": [
    {
     "name": "stdout",
     "output_type": "stream",
     "text": [
      "              precision    recall  f1-score   support\n",
      "\n",
      "           1       0.69      0.69      0.69      6118\n",
      "           2       0.43      0.39      0.41      5091\n",
      "           3       0.48      0.50      0.49      6156\n",
      "           4       0.55      0.50      0.52      7156\n",
      "           5       0.64      0.72      0.68      5919\n",
      "\n",
      "    accuracy                           0.56     30440\n",
      "   macro avg       0.56      0.56      0.56     30440\n",
      "weighted avg       0.56      0.56      0.56     30440\n",
      "\n"
     ]
    }
   ],
   "source": [
    "print(classification_report(y_pred_true, y_test_true))"
   ]
  },
  {
   "cell_type": "code",
   "execution_count": 42,
   "metadata": {},
   "outputs": [],
   "source": [
    "def test_model(params):\n",
    "    print(params)\n",
    "    batch_size, epochs, learning_rate = params\n",
    "    \n",
    "    optimizer = keras.optimizers.Adam(learning_rate=learning_rate, beta_1=0.9, beta_2=0.95, amsgrad=False)\n",
    "\n",
    "    baseline = Sequential()\n",
    "    baseline.add(Dense(512, input_shape=(max_words,), kernel_regularizer=regularizers.l1_l2(l1=1e-5, l2=1e-4),\n",
    "              bias_regularizer=regularizers.l2(1e-4),\n",
    "              activity_regularizer=regularizers.l2(1e-5)))\n",
    "    baseline.add(BatchNormalization())\n",
    "    baseline.add(Activation('relu'))\n",
    "    baseline.add(Dropout(0.3))\n",
    "    baseline.add(Dense(5))\n",
    "    baseline.add(Activation('softmax'))\n",
    "    \n",
    "    baseline.compile(loss=my_custom_loss,\n",
    "              optimizer=optimizer,\n",
    "              metrics=['accuracy', 'mean_absolute_error'])\n",
    "    \n",
    "    history = baseline.fit(X_train, y_train,\n",
    "                    batch_size=batch_size,\n",
    "                    epochs=epochs,\n",
    "                    verbose=0,\n",
    "                    validation_split=0.2)\n",
    "    \n",
    "    score = baseline.evaluate(X_test, y_test, batch_size=batch_size, verbose=1)\n",
    "    print(score[1:])\n",
    "    \n",
    "    return score[1:]"
   ]
  },
  {
   "cell_type": "code",
   "execution_count": 45,
   "metadata": {},
   "outputs": [
    {
     "name": "stdout",
     "output_type": "stream",
     "text": [
      "Wed Nov 30 06:23:15 2022       \n",
      "+-----------------------------------------------------------------------------+\n",
      "| NVIDIA-SMI 526.47       Driver Version: 526.47       CUDA Version: 12.0     |\n",
      "|-------------------------------+----------------------+----------------------+\n",
      "| GPU  Name            TCC/WDDM | Bus-Id        Disp.A | Volatile Uncorr. ECC |\n",
      "| Fan  Temp  Perf  Pwr:Usage/Cap|         Memory-Usage | GPU-Util  Compute M. |\n",
      "|                               |                      |               MIG M. |\n",
      "|===============================+======================+======================|\n",
      "|   0  NVIDIA GeForce ... WDDM  | 00000000:01:00.0  On |                  N/A |\n",
      "|  0%   41C    P8     9W / 200W |   7567MiB /  8192MiB |      0%      Default |\n",
      "|                               |                      |                  N/A |\n",
      "+-------------------------------+----------------------+----------------------+\n",
      "                                                                               \n",
      "+-----------------------------------------------------------------------------+\n",
      "| Processes:                                                                  |\n",
      "|  GPU   GI   CI        PID   Type   Process name                  GPU Memory |\n",
      "|        ID   ID                                                   Usage      |\n",
      "|=============================================================================|\n",
      "|    0   N/A  N/A       376    C+G   ...y\\ShellExperienceHost.exe    N/A      |\n",
      "|    0   N/A  N/A       424    C+G   ...\\app-1.0.9007\\Discord.exe    N/A      |\n",
      "|    0   N/A  N/A      1532    C+G   ...8bbwe\\WindowsTerminal.exe    N/A      |\n",
      "|    0   N/A  N/A      4976    C+G   ...418.56\\msedgewebview2.exe    N/A      |\n",
      "|    0   N/A  N/A      6472    C+G   ...cw5n1h2txyewy\\LockApp.exe    N/A      |\n",
      "|    0   N/A  N/A      8772    C+G   ...me\\Application\\chrome.exe    N/A      |\n",
      "|    0   N/A  N/A     11816    C+G   ...artMenuExperienceHost.exe    N/A      |\n",
      "|    0   N/A  N/A     12564    C+G   ...n1h2txyewy\\SearchHost.exe    N/A      |\n",
      "|    0   N/A  N/A     12728    C+G   ...8bbwe\\Microsoft.Notes.exe    N/A      |\n",
      "|    0   N/A  N/A     12936    C+G   ...418.56\\msedgewebview2.exe    N/A      |\n",
      "|    0   N/A  N/A     15468    C+G   ...icrosoft VS Code\\Code.exe    N/A      |\n",
      "|    0   N/A  N/A     17832    C+G   ...e\\PhoneExperienceHost.exe    N/A      |\n",
      "|    0   N/A  N/A     18652    C+G   ...lPanel\\SystemSettings.exe    N/A      |\n",
      "|    0   N/A  N/A     19232    C+G   ...2txyewy\\TextInputHost.exe    N/A      |\n",
      "|    0   N/A  N/A     19316    C+G   C:\\Windows\\explorer.exe         N/A      |\n",
      "|    0   N/A  N/A     21212    C+G   ...batNotificationClient.exe    N/A      |\n",
      "|    0   N/A  N/A     24120    C+G   ...8wekyb3d8bbwe\\Cortana.exe    N/A      |\n",
      "|    0   N/A  N/A     27332      C   ...testinggrounds\\python.exe    N/A      |\n",
      "|    0   N/A  N/A     27348    C+G   ...ge\\Application\\msedge.exe    N/A      |\n",
      "|    0   N/A  N/A     28228    C+G   ...8wekyb3d8bbwe\\msteams.exe    N/A      |\n",
      "|    0   N/A  N/A     29580    C+G   ...v1g1gvanyjgm\\WhatsApp.exe    N/A      |\n",
      "|    0   N/A  N/A     31548    C+G   ...3d8bbwe\\CalculatorApp.exe    N/A      |\n",
      "|    0   N/A  N/A     32592    C+G   ...logioptionsplus_agent.exe    N/A      |\n",
      "|    0   N/A  N/A     34156    C+G   ...ontend\\Docker Desktop.exe    N/A      |\n",
      "|    0   N/A  N/A     35032    C+G   ...in7x64\\steamwebhelper.exe    N/A      |\n",
      "|    0   N/A  N/A     35180    C+G   ...8bbwe\\WindowsTerminal.exe    N/A      |\n",
      "|    0   N/A  N/A     35796    C+G   ...zpdnekdrzrea0\\Spotify.exe    N/A      |\n",
      "+-----------------------------------------------------------------------------+\n"
     ]
    }
   ],
   "source": [
    "!nvidia-smi"
   ]
  },
  {
   "cell_type": "code",
   "execution_count": 46,
   "metadata": {},
   "outputs": [],
   "source": [
    "from numba import cuda \n",
    "device = cuda.get_current_device()\n",
    "device.reset()"
   ]
  },
  {
   "cell_type": "code",
   "execution_count": 48,
   "metadata": {},
   "outputs": [
    {
     "name": "stdout",
     "output_type": "stream",
     "text": [
      "Wed Nov 30 06:25:03 2022       \n",
      "+-----------------------------------------------------------------------------+\n",
      "| NVIDIA-SMI 526.47       Driver Version: 526.47       CUDA Version: 12.0     |\n",
      "|-------------------------------+----------------------+----------------------+\n",
      "| GPU  Name            TCC/WDDM | Bus-Id        Disp.A | Volatile Uncorr. ECC |\n",
      "| Fan  Temp  Perf  Pwr:Usage/Cap|         Memory-Usage | GPU-Util  Compute M. |\n",
      "|                               |                      |               MIG M. |\n",
      "|===============================+======================+======================|\n",
      "|   0  NVIDIA GeForce ... WDDM  | 00000000:01:00.0  On |                  N/A |\n",
      "|  0%   41C    P8    11W / 200W |   1654MiB /  8192MiB |     19%      Default |\n",
      "|                               |                      |                  N/A |\n",
      "+-------------------------------+----------------------+----------------------+\n",
      "                                                                               \n",
      "+-----------------------------------------------------------------------------+\n",
      "| Processes:                                                                  |\n",
      "|  GPU   GI   CI        PID   Type   Process name                  GPU Memory |\n",
      "|        ID   ID                                                   Usage      |\n",
      "|=============================================================================|\n",
      "|    0   N/A  N/A       376    C+G   ...y\\ShellExperienceHost.exe    N/A      |\n",
      "|    0   N/A  N/A       424    C+G   ...\\app-1.0.9007\\Discord.exe    N/A      |\n",
      "|    0   N/A  N/A      1532    C+G   ...8bbwe\\WindowsTerminal.exe    N/A      |\n",
      "|    0   N/A  N/A      4976    C+G   ...418.56\\msedgewebview2.exe    N/A      |\n",
      "|    0   N/A  N/A      6472    C+G   ...cw5n1h2txyewy\\LockApp.exe    N/A      |\n",
      "|    0   N/A  N/A      8772    C+G   ...me\\Application\\chrome.exe    N/A      |\n",
      "|    0   N/A  N/A     11816    C+G   ...artMenuExperienceHost.exe    N/A      |\n",
      "|    0   N/A  N/A     12564    C+G   ...n1h2txyewy\\SearchHost.exe    N/A      |\n",
      "|    0   N/A  N/A     12728    C+G   ...8bbwe\\Microsoft.Notes.exe    N/A      |\n",
      "|    0   N/A  N/A     12936    C+G   ...418.56\\msedgewebview2.exe    N/A      |\n",
      "|    0   N/A  N/A     15468    C+G   ...icrosoft VS Code\\Code.exe    N/A      |\n",
      "|    0   N/A  N/A     17832    C+G   ...e\\PhoneExperienceHost.exe    N/A      |\n",
      "|    0   N/A  N/A     18652    C+G   ...lPanel\\SystemSettings.exe    N/A      |\n",
      "|    0   N/A  N/A     19232    C+G   ...2txyewy\\TextInputHost.exe    N/A      |\n",
      "|    0   N/A  N/A     19316    C+G   C:\\Windows\\explorer.exe         N/A      |\n",
      "|    0   N/A  N/A     21212    C+G   ...batNotificationClient.exe    N/A      |\n",
      "|    0   N/A  N/A     24120    C+G   ...8wekyb3d8bbwe\\Cortana.exe    N/A      |\n",
      "|    0   N/A  N/A     27348    C+G   ...ge\\Application\\msedge.exe    N/A      |\n",
      "|    0   N/A  N/A     28228    C+G   ...8wekyb3d8bbwe\\msteams.exe    N/A      |\n",
      "|    0   N/A  N/A     29580    C+G   ...v1g1gvanyjgm\\WhatsApp.exe    N/A      |\n",
      "|    0   N/A  N/A     31548    C+G   ...3d8bbwe\\CalculatorApp.exe    N/A      |\n",
      "|    0   N/A  N/A     32592    C+G   ...logioptionsplus_agent.exe    N/A      |\n",
      "|    0   N/A  N/A     34156    C+G   ...ontend\\Docker Desktop.exe    N/A      |\n",
      "|    0   N/A  N/A     35032    C+G   ...in7x64\\steamwebhelper.exe    N/A      |\n",
      "|    0   N/A  N/A     35180    C+G   ...8bbwe\\WindowsTerminal.exe    N/A      |\n",
      "|    0   N/A  N/A     35796    C+G   ...zpdnekdrzrea0\\Spotify.exe    N/A      |\n",
      "+-----------------------------------------------------------------------------+\n"
     ]
    }
   ],
   "source": [
    "!nvidia-smi"
   ]
  },
  {
   "cell_type": "code",
   "execution_count": 11,
   "metadata": {},
   "outputs": [
    {
     "name": "stdout",
     "output_type": "stream",
     "text": [
      "(71024,) (71024, 5)\n",
      "(30440,) (30440, 5)\n",
      "Wall time: 3.88 s\n"
     ]
    }
   ],
   "source": [
    "%%time\n",
    "X = df_testv1['text'].fillna('').values\n",
    "y = pd.get_dummies(df_testv1['review_stars']).values\n",
    "\n",
    "X_train, X_test, y_train, y_test = train_test_split(X, y, test_size=0.3, random_state=42)\n",
    "print(X_train.shape, y_train.shape)\n",
    "print(X_test.shape, y_test.shape)\n",
    "max_words = 5000\n",
    "maxlen = 500\n",
    "\n",
    "X_train = tokenizer.texts_to_sequences(X_train)\n",
    "X_test = tokenizer.texts_to_sequences(X_test)\n",
    "\n",
    "# For the LSTM, we are going to pad our sequences\n",
    "X_train = pad_sequences(X_train, maxlen=maxlen)\n",
    "X_test = pad_sequences(X_test, maxlen=maxlen)"
   ]
  },
  {
   "cell_type": "code",
   "execution_count": 14,
   "metadata": {},
   "outputs": [
    {
     "name": "stdout",
     "output_type": "stream",
     "text": [
      "WARNING:tensorflow:Layer lstm_1 will not use cuDNN kernels since it doesn't meet the criteria. It will use a generic GPU kernel as fallback when running on GPU.\n",
      "Epoch 1/8\n",
      "444/444 [==============================] - 173s 371ms/step - loss: 1.3316 - accuracy: 0.5411 - mean_absolute_error: 0.2568 - val_loss: 1.3669 - val_accuracy: 0.4717 - val_mean_absolute_error: 0.2033\n",
      "Epoch 2/8\n",
      "444/444 [==============================] - 164s 369ms/step - loss: 1.0925 - accuracy: 0.6179 - mean_absolute_error: 0.1884 - val_loss: 1.1742 - val_accuracy: 0.5816 - val_mean_absolute_error: 0.1917\n",
      "Epoch 3/8\n",
      "444/444 [==============================] - 168s 379ms/step - loss: 1.0159 - accuracy: 0.6529 - mean_absolute_error: 0.1827 - val_loss: 1.1960 - val_accuracy: 0.5887 - val_mean_absolute_error: 0.1828\n",
      "Epoch 4/8\n",
      "444/444 [==============================] - 172s 386ms/step - loss: 0.9439 - accuracy: 0.6873 - mean_absolute_error: 0.1759 - val_loss: 1.2019 - val_accuracy: 0.5723 - val_mean_absolute_error: 0.1935\n",
      "Epoch 5/8\n",
      "444/444 [==============================] - 192s 432ms/step - loss: 0.8728 - accuracy: 0.7163 - mean_absolute_error: 0.1675 - val_loss: 1.1683 - val_accuracy: 0.6103 - val_mean_absolute_error: 0.1811\n",
      "Epoch 6/8\n",
      "444/444 [==============================] - 167s 377ms/step - loss: 0.8140 - accuracy: 0.7408 - mean_absolute_error: 0.1589 - val_loss: 1.3087 - val_accuracy: 0.6006 - val_mean_absolute_error: 0.1764\n",
      "Epoch 7/8\n",
      "444/444 [==============================] - 215s 484ms/step - loss: 0.7554 - accuracy: 0.7657 - mean_absolute_error: 0.1496 - val_loss: 1.2732 - val_accuracy: 0.5941 - val_mean_absolute_error: 0.1795\n",
      "Epoch 8/8\n",
      "444/444 [==============================] - 229s 516ms/step - loss: 0.6943 - accuracy: 0.7884 - mean_absolute_error: 0.1397 - val_loss: 1.3429 - val_accuracy: 0.5971 - val_mean_absolute_error: 0.1776\n"
     ]
    }
   ],
   "source": [
    "batch_size = 128\n",
    "epochs = 8\n",
    "\n",
    "lr_schedule = keras.optimizers.schedules.ExponentialDecay(\n",
    "    initial_learning_rate=.001,\n",
    "    decay_steps=10000,\n",
    "    decay_rate=0.9)\n",
    "\n",
    "optimizer = keras.optimizers.Adam(learning_rate=lr_schedule, beta_1=0.9, beta_2=0.99, amsgrad=False, clipvalue=.3)\n",
    "\n",
    "lstm = Sequential()\n",
    "lstm.add(Embedding(max_words, 128, input_length=maxlen))\n",
    "lstm.add(SpatialDropout1D(0.2))\n",
    "lstm.add(Conv1D(64, 5, activation='relu', kernel_regularizer=regularizers.l1_l2(l1=1e-5, l2=1e-4),\n",
    "          bias_regularizer=regularizers.l2(1e-4)))\n",
    "lstm.add(MaxPooling1D(pool_size=4))\n",
    "lstm.add(LSTM(128, dropout=0.2, recurrent_dropout=0.2))\n",
    "lstm.add(BatchNormalization())\n",
    "lstm.add(Dense(50))\n",
    "lstm.add(Dense(5, activation='sigmoid'))\n",
    "\n",
    "lstm.compile(loss=my_custom_loss,\n",
    "              optimizer=optimizer,\n",
    "              metrics=['accuracy', 'mean_absolute_error'])\n",
    "\n",
    "history = lstm.fit(X_train, y_train,\n",
    "                    batch_size=batch_size,\n",
    "                    epochs=epochs,\n",
    "                    verbose=1,validation_split=0.2)"
   ]
  },
  {
   "cell_type": "code",
   "execution_count": 18,
   "metadata": {},
   "outputs": [
    {
     "data": {
      "image/png": "[encoded data removed]",
      "text/plain": [
       "<Figure size 640x480 with 1 Axes>"
      ]
     },
     "metadata": {},
     "output_type": "display_data"
    }
   ],
   "source": [
    "plt.title('MAE Loss')\n",
    "plt.plot(history.history['mean_absolute_error'], label='train')\n",
    "plt.plot(history.history['val_mean_absolute_error'], label='test')\n",
    "plt.legend()\n",
    "plt.show()"
   ]
  },
  {
   "cell_type": "code",
   "execution_count": 19,
   "metadata": {},
   "outputs": [
    {
     "data": {
      "image/png": "[encoded data removed]",
      "text/plain": [
       "<Figure size 640x480 with 1 Axes>"
      ]
     },
     "metadata": {},
     "output_type": "display_data"
    }
   ],
   "source": [
    "plt.title('Accuracy')\n",
    "plt.plot(history.history['accuracy'], label='train')\n",
    "plt.plot(history.history['val_accuracy'], label='test')\n",
    "plt.legend()\n",
    "plt.show()"
   ]
  },
  {
   "cell_type": "code",
   "execution_count": 20,
   "metadata": {},
   "outputs": [
    {
     "name": "stdout",
     "output_type": "stream",
     "text": [
      "952/952 [==============================] - 60s 62ms/step\n"
     ]
    },
    {
     "data": {
      "text/html": [
       "<div>\n",
       "<style scoped>\n",
       "    .dataframe tbody tr th:only-of-type {\n",
       "        vertical-align: middle;\n",
       "    }\n",
       "\n",
       "    .dataframe tbody tr th {\n",
       "        vertical-align: top;\n",
       "    }\n",
       "\n",
       "    .dataframe thead th {\n",
       "        text-align: right;\n",
       "    }\n",
       "</style>\n",
       "<table border=\"1\" class=\"dataframe\">\n",
       "  <thead>\n",
       "    <tr style=\"text-align: right;\">\n",
       "      <th></th>\n",
       "      <th>1</th>\n",
       "      <th>2</th>\n",
       "      <th>3</th>\n",
       "      <th>4</th>\n",
       "      <th>5</th>\n",
       "    </tr>\n",
       "  </thead>\n",
       "  <tbody>\n",
       "    <tr>\n",
       "      <th>1</th>\n",
       "      <td>4804</td>\n",
       "      <td>1638</td>\n",
       "      <td>564</td>\n",
       "      <td>144</td>\n",
       "      <td>123</td>\n",
       "    </tr>\n",
       "    <tr>\n",
       "      <th>2</th>\n",
       "      <td>885</td>\n",
       "      <td>1863</td>\n",
       "      <td>1118</td>\n",
       "      <td>133</td>\n",
       "      <td>27</td>\n",
       "    </tr>\n",
       "    <tr>\n",
       "      <th>3</th>\n",
       "      <td>275</td>\n",
       "      <td>1083</td>\n",
       "      <td>3496</td>\n",
       "      <td>1465</td>\n",
       "      <td>228</td>\n",
       "    </tr>\n",
       "    <tr>\n",
       "      <th>4</th>\n",
       "      <td>48</td>\n",
       "      <td>81</td>\n",
       "      <td>857</td>\n",
       "      <td>3398</td>\n",
       "      <td>1889</td>\n",
       "    </tr>\n",
       "    <tr>\n",
       "      <th>5</th>\n",
       "      <td>30</td>\n",
       "      <td>29</td>\n",
       "      <td>146</td>\n",
       "      <td>1464</td>\n",
       "      <td>4652</td>\n",
       "    </tr>\n",
       "  </tbody>\n",
       "</table>\n",
       "</div>"
      ],
      "text/plain": [
       "      1     2     3     4     5\n",
       "1  4804  1638   564   144   123\n",
       "2   885  1863  1118   133    27\n",
       "3   275  1083  3496  1465   228\n",
       "4    48    81   857  3398  1889\n",
       "5    30    29   146  1464  4652"
      ]
     },
     "execution_count": 20,
     "metadata": {},
     "output_type": "execute_result"
    }
   ],
   "source": [
    "y_pred = lstm.predict(X_test)\n",
    "y_pred\n",
    "\n",
    "cols = [1, 2, 3, 4, 5]\n",
    "\n",
    "# Creating predictions table\n",
    "baseline_ps = pd.DataFrame(data=y_pred, columns=cols)\n",
    "y_pred_true = baseline_ps.idxmax(axis=1)\n",
    "y_pred_true\n",
    "\n",
    "# Creating truth\n",
    "baseline_truth = pd.DataFrame(data=y_test, columns=cols)\n",
    "y_test_true = baseline_truth.idxmax(axis=1)\n",
    "y_test_true\n",
    "\n",
    "# Confusion matrix\n",
    "cm = confusion_matrix(y_pred_true, y_test_true)\n"
   ]
  },
  {
   "cell_type": "code",
   "execution_count": 27,
   "metadata": {},
   "outputs": [
    {
     "name": "stdout",
     "output_type": "stream",
     "text": [
      "              precision    recall  f1-score   support\n",
      "\n",
      "           1       0.80      0.66      0.72      7273\n",
      "           2       0.40      0.46      0.43      4026\n",
      "           3       0.57      0.53      0.55      6547\n",
      "           4       0.51      0.54      0.53      6273\n",
      "           5       0.67      0.74      0.70      6321\n",
      "\n",
      "    accuracy                           0.60     30440\n",
      "   macro avg       0.59      0.59      0.59     30440\n",
      "weighted avg       0.61      0.60      0.60     30440\n",
      "\n"
     ]
    }
   ],
   "source": [
    "from sklearn.metrics import confusion_matrix, ConfusionMatrixDisplay\n",
    "from sklearn.metrics import classification_report\n",
    "print(classification_report(y_true=y_pred_true,y_pred= y_test_true))"
   ]
  },
  {
   "cell_type": "code",
   "execution_count": 22,
   "metadata": {},
   "outputs": [],
   "source": [
    "disp = ConfusionMatrixDisplay(confusion_matrix=cm)"
   ]
  },
  {
   "cell_type": "code",
   "execution_count": 23,
   "metadata": {},
   "outputs": [
    {
     "data": {
      "text/plain": [
       "<sklearn.metrics._plot.confusion_matrix.ConfusionMatrixDisplay at 0x29cfae2b648>"
      ]
     },
     "execution_count": 23,
     "metadata": {},
     "output_type": "execute_result"
    },
    {
     "data": {
      "image/png": "[encoded data removed]",
      "text/plain": [
       "<Figure size 640x480 with 2 Axes>"
      ]
     },
     "metadata": {},
     "output_type": "display_data"
    }
   ],
   "source": [
    "disp.plot()"
   ]
  }
 ],
 "metadata": {
  "kernelspec": {
   "display_name": "Python 3.7.12 ('testinggrounds')",
   "language": "python",
   "name": "python3"
  },
  "language_info": {
   "codemirror_mode": {
    "name": "ipython",
    "version": 3
   },
   "file_extension": ".py",
   "mimetype": "text/x-python",
   "name": "python",
   "nbconvert_exporter": "python",
   "pygments_lexer": "ipython3",
   "version": "3.7.12"
  },
  "orig_nbformat": 4,
  "vscode": {
   "interpreter": {
    "hash": "be1130cc366ce64c2af566ee12e797ac4446b6a928687bd6f2dd0eaf2725f7ce"
   }
  }
 },
 "nbformat": 4,
 "nbformat_minor": 2
}
