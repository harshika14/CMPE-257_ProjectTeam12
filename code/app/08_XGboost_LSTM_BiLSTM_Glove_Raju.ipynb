{
 "cells": [
  {
   "cell_type": "code",
   "execution_count": 1,
   "metadata": {},
   "outputs": [],
   "source": [
    "import pandas as pd\n",
    "import numpy as np\n",
    "import xgboost as xgb\n",
    "from tqdm import tqdm\n",
    "from sklearn.svm import SVC\n",
    "from keras.models import Sequential\n",
    "from keras.layers import LSTM, GRU\n",
    "from keras.layers.core import Dense, Activation, Dropout\n",
    "from keras.layers import Embedding\n",
    "from keras.layers import BatchNormalization\n",
    "from keras.utils import np_utils\n",
    "from sklearn import preprocessing, decomposition, model_selection, metrics, pipeline\n",
    "from sklearn.model_selection import GridSearchCV\n",
    "from sklearn.feature_extraction.text import TfidfVectorizer, CountVectorizer\n",
    "from sklearn.decomposition import TruncatedSVD\n",
    "from sklearn.linear_model import LogisticRegression\n",
    "from sklearn.model_selection import train_test_split\n",
    "from sklearn.naive_bayes import MultinomialNB\n",
    "from keras.layers import GlobalMaxPooling1D, Conv1D, MaxPooling1D, Flatten, Bidirectional, SpatialDropout1D\n",
    "from keras.preprocessing import sequence, text\n",
    "from keras.callbacks import EarlyStopping\n",
    "from nltk import word_tokenize\n",
    "from nltk.corpus import stopwords\n",
    "stop_words = stopwords.words('english')"
   ]
  },
  {
   "cell_type": "code",
   "execution_count": 2,
   "metadata": {},
   "outputs": [],
   "source": [
    "df=pd.read_csv('manual_sample.csv')"
   ]
  },
  {
   "cell_type": "code",
   "execution_count": 3,
   "metadata": {},
   "outputs": [],
   "source": [
    "df=df[[\"text\",\"review_stars\"]]"
   ]
  },
  {
   "cell_type": "code",
   "execution_count": 4,
   "metadata": {},
   "outputs": [],
   "source": [
    "from sklearn.model_selection import train_test_split\n",
    "\n",
    "train, test = train_test_split(df, test_size=0.2)"
   ]
  },
  {
   "cell_type": "code",
   "execution_count": 5,
   "metadata": {},
   "outputs": [
    {
     "data": {
      "text/html": [
       "<div>\n",
       "<style scoped>\n",
       "    .dataframe tbody tr th:only-of-type {\n",
       "        vertical-align: middle;\n",
       "    }\n",
       "\n",
       "    .dataframe tbody tr th {\n",
       "        vertical-align: top;\n",
       "    }\n",
       "\n",
       "    .dataframe thead th {\n",
       "        text-align: right;\n",
       "    }\n",
       "</style>\n",
       "<table border=\"1\" class=\"dataframe\">\n",
       "  <thead>\n",
       "    <tr style=\"text-align: right;\">\n",
       "      <th></th>\n",
       "      <th>text</th>\n",
       "      <th>review_stars</th>\n",
       "    </tr>\n",
       "  </thead>\n",
       "  <tbody>\n",
       "    <tr>\n",
       "      <th>70828</th>\n",
       "      <td>And then there was Edomasa.  As in, much, much...</td>\n",
       "      <td>4</td>\n",
       "    </tr>\n",
       "    <tr>\n",
       "      <th>71712</th>\n",
       "      <td>I have been a big Chipotle fan for years, yet ...</td>\n",
       "      <td>2</td>\n",
       "    </tr>\n",
       "  </tbody>\n",
       "</table>\n",
       "</div>"
      ],
      "text/plain": [
       "                                                    text  review_stars\n",
       "70828  And then there was Edomasa.  As in, much, much...             4\n",
       "71712  I have been a big Chipotle fan for years, yet ...             2"
      ]
     },
     "execution_count": 5,
     "metadata": {},
     "output_type": "execute_result"
    }
   ],
   "source": [
    "train.head(2)"
   ]
  },
  {
   "cell_type": "code",
   "execution_count": 6,
   "metadata": {},
   "outputs": [],
   "source": [
    "def multiclass_logloss(actual, predicted, eps=1e-15):\n",
    "    \"\"\"Multi class version of Logarithmic Loss metric.\n",
    "    :param actual: Array containing the actual target classes\n",
    "    :param predicted: Matrix with class predictions, one probability per class\n",
    "    \"\"\"\n",
    "    # Convert 'actual' to a binary array if it's not already:\n",
    "    if len(actual.shape) == 1:\n",
    "        actual2 = np.zeros((actual.shape[0], predicted.shape[1]))\n",
    "        for i, val in enumerate(actual):\n",
    "            actual2[i, val] = 1\n",
    "        actual = actual2\n",
    "\n",
    "    clip = np.clip(predicted, eps, 1 - eps)\n",
    "    rows = actual.shape[0]\n",
    "    vsota = np.sum(actual * np.log(clip))\n",
    "    return -1.0 / rows * vsota"
   ]
  },
  {
   "cell_type": "code",
   "execution_count": 7,
   "metadata": {},
   "outputs": [],
   "source": [
    "lbl_enc = preprocessing.LabelEncoder()\n",
    "y = lbl_enc.fit_transform(train.review_stars.values)"
   ]
  },
  {
   "cell_type": "code",
   "execution_count": 8,
   "metadata": {},
   "outputs": [],
   "source": [
    "xtrain, xvalid, ytrain, yvalid = train_test_split(train.text.values, y, \n",
    "                                                  stratify=y, \n",
    "                                                  random_state=42, \n",
    "                                                  test_size=0.1, shuffle=True)"
   ]
  },
  {
   "cell_type": "code",
   "execution_count": 9,
   "metadata": {},
   "outputs": [
    {
     "name": "stdout",
     "output_type": "stream",
     "text": [
      "(73053,)\n",
      "(8118,)\n"
     ]
    }
   ],
   "source": [
    "print (xtrain.shape)\n",
    "print (xvalid.shape)"
   ]
  },
  {
   "cell_type": "code",
   "execution_count": 10,
   "metadata": {},
   "outputs": [],
   "source": [
    "tfv = TfidfVectorizer(min_df=3,  max_features=None, \n",
    "            strip_accents='unicode', analyzer='word',token_pattern=r'\\w{1,}',\n",
    "            ngram_range=(1, 3), use_idf=1,smooth_idf=1,sublinear_tf=1,\n",
    "            stop_words = 'english')\n",
    "\n",
    "# Fitting TF-IDF to both training and test sets (semi-supervised learning)\n",
    "tfv.fit(list(xtrain) + list(xvalid))\n",
    "xtrain_tfv =  tfv.transform(xtrain) \n",
    "xvalid_tfv = tfv.transform(xvalid)"
   ]
  },
  {
   "cell_type": "code",
   "execution_count": 11,
   "metadata": {},
   "outputs": [
    {
     "name": "stdout",
     "output_type": "stream",
     "text": [
      "logloss: 0.943 \n"
     ]
    },
    {
     "name": "stderr",
     "output_type": "stream",
     "text": [
      "c:\\Users\\Rajup\\anaconda3\\envs\\testinggrounds\\lib\\site-packages\\sklearn\\linear_model\\_logistic.py:818: ConvergenceWarning: lbfgs failed to converge (status=1):\n",
      "STOP: TOTAL NO. of ITERATIONS REACHED LIMIT.\n",
      "\n",
      "Increase the number of iterations (max_iter) or scale the data as shown in:\n",
      "    https://scikit-learn.org/stable/modules/preprocessing.html\n",
      "Please also refer to the documentation for alternative solver options:\n",
      "    https://scikit-learn.org/stable/modules/linear_model.html#logistic-regression\n",
      "  extra_warning_msg=_LOGISTIC_SOLVER_CONVERGENCE_MSG,\n"
     ]
    }
   ],
   "source": [
    "clf = LogisticRegression(C=1.0)\n",
    "clf.fit(xtrain_tfv, ytrain)\n",
    "predictions = clf.predict_proba(xvalid_tfv)\n",
    "\n",
    "print (\"logloss: %0.3f \" % multiclass_logloss(yvalid, predictions))"
   ]
  },
  {
   "cell_type": "code",
   "execution_count": 12,
   "metadata": {},
   "outputs": [],
   "source": [
    "ctv = CountVectorizer(analyzer='word',token_pattern=r'\\w{1,}',\n",
    "            ngram_range=(1, 3), stop_words = 'english')\n",
    "\n",
    "# Fitting Count Vectorizer to both training and test sets (semi-supervised learning)\n",
    "ctv.fit(list(xtrain) + list(xvalid))\n",
    "xtrain_ctv =  ctv.transform(xtrain) \n",
    "xvalid_ctv = ctv.transform(xvalid)"
   ]
  },
  {
   "cell_type": "code",
   "execution_count": 14,
   "metadata": {},
   "outputs": [
    {
     "name": "stderr",
     "output_type": "stream",
     "text": [
      "c:\\Users\\Rajup\\anaconda3\\envs\\testinggrounds\\lib\\site-packages\\sklearn\\linear_model\\_logistic.py:818: ConvergenceWarning: lbfgs failed to converge (status=1):\n",
      "STOP: TOTAL NO. of ITERATIONS REACHED LIMIT.\n",
      "\n",
      "Increase the number of iterations (max_iter) or scale the data as shown in:\n",
      "    https://scikit-learn.org/stable/modules/preprocessing.html\n",
      "Please also refer to the documentation for alternative solver options:\n",
      "    https://scikit-learn.org/stable/modules/linear_model.html#logistic-regression\n",
      "  extra_warning_msg=_LOGISTIC_SOLVER_CONVERGENCE_MSG,\n"
     ]
    },
    {
     "name": "stdout",
     "output_type": "stream",
     "text": [
      "logloss: 1.148 \n"
     ]
    }
   ],
   "source": [
    "clf = LogisticRegression(C=1.0)\n",
    "clf.fit(xtrain_ctv, ytrain)\n",
    "predictions = clf.predict_proba(xvalid_ctv)\n",
    "\n",
    "print (\"logloss: %0.3f \" % multiclass_logloss(yvalid, predictions))"
   ]
  },
  {
   "cell_type": "code",
   "execution_count": 15,
   "metadata": {},
   "outputs": [
    {
     "name": "stdout",
     "output_type": "stream",
     "text": [
      "logloss: 1.070 \n"
     ]
    }
   ],
   "source": [
    "clf = MultinomialNB()\n",
    "clf.fit(xtrain_tfv, ytrain)\n",
    "predictions = clf.predict_proba(xvalid_tfv)\n",
    "\n",
    "print (\"logloss: %0.3f \" % multiclass_logloss(yvalid, predictions))"
   ]
  },
  {
   "cell_type": "code",
   "execution_count": 16,
   "metadata": {},
   "outputs": [
    {
     "name": "stdout",
     "output_type": "stream",
     "text": [
      "logloss: 4.144 \n"
     ]
    }
   ],
   "source": [
    "clf = MultinomialNB()\n",
    "clf.fit(xtrain_ctv, ytrain)\n",
    "predictions = clf.predict_proba(xvalid_ctv)\n",
    "\n",
    "print (\"logloss: %0.3f \" % multiclass_logloss(yvalid, predictions))"
   ]
  },
  {
   "cell_type": "code",
   "execution_count": 18,
   "metadata": {},
   "outputs": [
    {
     "name": "stdout",
     "output_type": "stream",
     "text": [
      "logloss: 1.033 \n"
     ]
    }
   ],
   "source": [
    "clf = xgb.XGBClassifier(max_depth=7, n_estimators=200, colsample_bytree=0.8, \n",
    "                        subsample=0.8, nthread=10, learning_rate=0.1)\n",
    "clf.fit(xtrain_tfv.tocsc(), ytrain)\n",
    "predictions = clf.predict_proba(xvalid_tfv.tocsc())\n",
    "\n",
    "print (\"logloss: %0.3f \" % multiclass_logloss(yvalid, predictions))"
   ]
  },
  {
   "cell_type": "markdown",
   "metadata": {},
   "source": [
    "#### Want to test the XGB using the glove embeddings"
   ]
  },
  {
   "cell_type": "code",
   "execution_count": 23,
   "metadata": {},
   "outputs": [
    {
     "name": "stderr",
     "output_type": "stream",
     "text": [
      "2196017it [01:40, 21885.26it/s]"
     ]
    },
    {
     "name": "stdout",
     "output_type": "stream",
     "text": [
      "Found 2195892 word vectors.\n"
     ]
    },
    {
     "name": "stderr",
     "output_type": "stream",
     "text": [
      "\n"
     ]
    }
   ],
   "source": [
    "embeddings_index = {}\n",
    "f =open(\"glove.840B.300d.txt\",errors = 'ignore', encoding=\"utf8\")\n",
    "for line in tqdm(f):\n",
    "    values = line.split()\n",
    "    word = ''.join(values[:-300])\n",
    "    coefs = np.asarray(values[-300:], dtype='float32')\n",
    "    embeddings_index[word] = coefs\n",
    "\n",
    "print('Found %s word vectors.' % len(embeddings_index))"
   ]
  },
  {
   "cell_type": "code",
   "execution_count": 26,
   "metadata": {},
   "outputs": [],
   "source": [
    "def sent2vec(s):\n",
    "    words = str(s).lower()\n",
    "    words = word_tokenize(words)\n",
    "    words = [w for w in words if not w in stop_words]\n",
    "    words = [w for w in words if w.isalpha()]\n",
    "    M = []\n",
    "    for w in words:\n",
    "        try:\n",
    "            M.append(embeddings_index[w])\n",
    "        except:\n",
    "            continue\n",
    "    M = np.array(M)\n",
    "    v = M.sum(axis=0)\n",
    "    if type(v) != np.ndarray:\n",
    "        return np.zeros(300)\n",
    "    return v / np.sqrt((v ** 2).sum())"
   ]
  },
  {
   "cell_type": "code",
   "execution_count": 27,
   "metadata": {},
   "outputs": [
    {
     "name": "stderr",
     "output_type": "stream",
     "text": [
      "100%|██████████| 73053/73053 [01:04<00:00, 1127.12it/s]\n",
      "100%|██████████| 8118/8118 [00:06<00:00, 1329.09it/s]\n"
     ]
    }
   ],
   "source": [
    "xtrain_glove = [sent2vec(x) for x in tqdm(xtrain)]\n",
    "xvalid_glove = [sent2vec(x) for x in tqdm(xvalid)]"
   ]
  },
  {
   "cell_type": "code",
   "execution_count": 28,
   "metadata": {},
   "outputs": [],
   "source": [
    "xtrain_glove = np.array(xtrain_glove)\n",
    "xvalid_glove = np.array(xvalid_glove)"
   ]
  },
  {
   "cell_type": "code",
   "execution_count": 29,
   "metadata": {},
   "outputs": [
    {
     "name": "stdout",
     "output_type": "stream",
     "text": [
      "[08:58:58] WARNING: C:/Users/administrator/workspace/xgboost-win64_release_1.6.0/src/learner.cc:627: \n",
      "Parameters: { \"silent\" } might not be used.\n",
      "\n",
      "  This could be a false alarm, with some parameters getting used by language bindings but\n",
      "  then being mistakenly passed down to XGBoost core, or some parameter actually being used\n",
      "  but getting flagged wrongly here. Please open an issue if you find any such cases.\n",
      "\n",
      "\n",
      "logloss: 1.049 \n"
     ]
    }
   ],
   "source": [
    "clf = xgb.XGBClassifier(nthread=10, silent=False)\n",
    "clf.fit(xtrain_glove, ytrain)\n",
    "predictions = clf.predict_proba(xvalid_glove)\n",
    "\n",
    "print (\"logloss: %0.3f \" % multiclass_logloss(yvalid, predictions))"
   ]
  },
  {
   "cell_type": "code",
   "execution_count": 30,
   "metadata": {},
   "outputs": [
    {
     "name": "stdout",
     "output_type": "stream",
     "text": [
      "[09:04:25] WARNING: C:/Users/administrator/workspace/xgboost-win64_release_1.6.0/src/learner.cc:627: \n",
      "Parameters: { \"silent\" } might not be used.\n",
      "\n",
      "  This could be a false alarm, with some parameters getting used by language bindings but\n",
      "  then being mistakenly passed down to XGBoost core, or some parameter actually being used\n",
      "  but getting flagged wrongly here. Please open an issue if you find any such cases.\n",
      "\n",
      "\n",
      "logloss: 1.034 \n"
     ]
    }
   ],
   "source": [
    "clf = xgb.XGBClassifier(max_depth=7, n_estimators=200, colsample_bytree=0.8, \n",
    "                        subsample=0.8, nthread=10, learning_rate=0.1, silent=False)\n",
    "clf.fit(xtrain_glove, ytrain)\n",
    "predictions = clf.predict_proba(xvalid_glove)\n",
    "\n",
    "print (\"logloss: %0.3f \" % multiclass_logloss(yvalid, predictions))"
   ]
  },
  {
   "cell_type": "code",
   "execution_count": 31,
   "metadata": {},
   "outputs": [],
   "source": [
    "scl = preprocessing.StandardScaler()\n",
    "xtrain_glove_scl = scl.fit_transform(xtrain_glove)\n",
    "xvalid_glove_scl = scl.transform(xvalid_glove)"
   ]
  },
  {
   "cell_type": "code",
   "execution_count": 32,
   "metadata": {},
   "outputs": [],
   "source": [
    "ytrain_enc = np_utils.to_categorical(ytrain)\n",
    "yvalid_enc = np_utils.to_categorical(yvalid)"
   ]
  },
  {
   "cell_type": "code",
   "execution_count": 43,
   "metadata": {},
   "outputs": [],
   "source": [
    "model = Sequential()\n",
    "\n",
    "model.add(Dense(300, input_dim=300, activation='relu'))\n",
    "model.add(Dropout(0.4))\n",
    "model.add(BatchNormalization())\n",
    "\n",
    "model.add(Dense(300, activation='relu'))\n",
    "model.add(Dropout(0.2))\n",
    "model.add(BatchNormalization())\n",
    "\n",
    "model.add(Dense(5))\n",
    "model.add(Activation('softmax'))\n",
    "\n",
    "# compile the model\n",
    "model.compile(loss='categorical_crossentropy', optimizer='adam')"
   ]
  },
  {
   "cell_type": "code",
   "execution_count": 44,
   "metadata": {},
   "outputs": [
    {
     "name": "stdout",
     "output_type": "stream",
     "text": [
      "Epoch 1/5\n",
      "1142/1142 [==============================] - 4s 3ms/step - loss: 1.1631 - val_loss: 1.0057\n",
      "Epoch 2/5\n",
      "1142/1142 [==============================] - 3s 3ms/step - loss: 1.0419 - val_loss: 0.9997\n",
      "Epoch 3/5\n",
      "1142/1142 [==============================] - 4s 3ms/step - loss: 1.0255 - val_loss: 0.9932\n",
      "Epoch 4/5\n",
      "1142/1142 [==============================] - 3s 3ms/step - loss: 1.0134 - val_loss: 0.9942\n",
      "Epoch 5/5\n",
      "1142/1142 [==============================] - 4s 3ms/step - loss: 1.0042 - val_loss: 0.9894\n"
     ]
    }
   ],
   "source": [
    "history=model.fit(xtrain_glove_scl, y=ytrain_enc, batch_size=64, \n",
    "          epochs=5, verbose=1, \n",
    "          validation_data=(xvalid_glove_scl, yvalid_enc))"
   ]
  },
  {
   "cell_type": "code",
   "execution_count": 46,
   "metadata": {},
   "outputs": [],
   "source": [
    "import matplotlib.pyplot as plt"
   ]
  },
  {
   "cell_type": "code",
   "execution_count": 52,
   "metadata": {},
   "outputs": [
    {
     "data": {
      "image/png": "[encoded data removed]",
      "text/plain": [
       "<Figure size 640x480 with 1 Axes>"
      ]
     },
     "metadata": {},
     "output_type": "display_data"
    }
   ],
   "source": [
    "plt.plot(history.history['loss'],label=\"train\")\n",
    "plt.plot(history.history['val_loss'],label=\"test\")\n",
    "plt.legend()\n",
    "plt.show()"
   ]
  },
  {
   "cell_type": "code",
   "execution_count": 55,
   "metadata": {},
   "outputs": [],
   "source": [
    "from keras.utils import pad_sequences"
   ]
  },
  {
   "cell_type": "code",
   "execution_count": 56,
   "metadata": {},
   "outputs": [],
   "source": [
    "token = text.Tokenizer(num_words=None)\n",
    "max_len = 70\n",
    "\n",
    "token.fit_on_texts(list(xtrain) + list(xvalid))\n",
    "xtrain_seq = token.texts_to_sequences(xtrain)\n",
    "xvalid_seq = token.texts_to_sequences(xvalid)\n",
    "\n",
    "xtrain_pad = pad_sequences(xtrain_seq, maxlen=max_len)\n",
    "xvalid_pad = pad_sequences(xvalid_seq, maxlen=max_len)\n",
    "\n",
    "word_index = token.word_index"
   ]
  },
  {
   "cell_type": "code",
   "execution_count": 57,
   "metadata": {},
   "outputs": [
    {
     "name": "stderr",
     "output_type": "stream",
     "text": [
      "100%|██████████| 56313/56313 [00:00<00:00, 59987.99it/s]\n"
     ]
    }
   ],
   "source": [
    "embedding_matrix = np.zeros((len(word_index) + 1, 300))\n",
    "for word, i in tqdm(word_index.items()):\n",
    "    embedding_vector = embeddings_index.get(word)\n",
    "    if embedding_vector is not None:\n",
    "        embedding_matrix[i] = embedding_vector\n"
   ]
  },
  {
   "cell_type": "code",
   "execution_count": 62,
   "metadata": {},
   "outputs": [
    {
     "name": "stdout",
     "output_type": "stream",
     "text": [
      "WARNING:tensorflow:Layer lstm_1 will not use cuDNN kernels since it doesn't meet the criteria. It will use a generic GPU kernel as fallback when running on GPU.\n"
     ]
    }
   ],
   "source": [
    "model = Sequential()\n",
    "model.add(Embedding(len(word_index) + 1,\n",
    "                     300,\n",
    "                     weights=[embedding_matrix],\n",
    "                     input_length=max_len,\n",
    "                     trainable=False))\n",
    "model.add(SpatialDropout1D(0.3))\n",
    "model.add(LSTM(100, dropout=0.3, recurrent_dropout=0,activation = \"tanh\",recurrent_activation=\"sigmoid\",unroll=False,use_bias=True))\n",
    "\n",
    "model.add(Dense(1024, activation='relu'))\n",
    "model.add(Dropout(0.8))\n",
    "\n",
    "model.add(Dense(1024, activation='relu'))\n",
    "model.add(Dropout(0.8))\n",
    "\n",
    "model.add(Dense(5))\n",
    "model.add(Activation('softmax'))\n",
    "model.compile(loss='categorical_crossentropy', optimizer='adam')"
   ]
  },
  {
   "cell_type": "code",
   "execution_count": 59,
   "metadata": {},
   "outputs": [],
   "source": [
    "# from tensorflow import keras\n",
    "# from keras.layers import LSTM\n",
    "# LSTM(\n",
    "#     units,\n",
    "#     activation='tanh',\n",
    "#     recurrent_activation='sigmoid',\n",
    "#     use_bias=True,\n",
    "#     kernel_initializer='glorot_uniform',\n",
    "#     recurrent_initializer='orthogonal',\n",
    "#     bias_initializer='zeros',\n",
    "#     unit_forget_bias=True,\n",
    "#     kernel_regularizer=None,\n",
    "#     recurrent_regularizer=None,\n",
    "#     bias_regularizer=None,\n",
    "#     activity_regularizer=None,\n",
    "#     kernel_constraint=None,\n",
    "#     recurrent_constraint=None,\n",
    "#     bias_constraint=None,\n",
    "#     dropout=0.0,\n",
    "#     recurrent_dropout=0.0,\n",
    "#     return_sequences=False,\n",
    "#     return_state=False,\n",
    "#     go_backwards=False,\n",
    "#     stateful=False,\n",
    "#     time_major=False,\n",
    "#     unroll=False,\n",
    "#     **kwargs\n",
    "# )"
   ]
  },
  {
   "cell_type": "code",
   "execution_count": 65,
   "metadata": {},
   "outputs": [
    {
     "name": "stdout",
     "output_type": "stream",
     "text": [
      "Epoch 1/50\n",
      "143/143 [==============================] - 28s 191ms/step - loss: 0.9902 - val_loss: 0.9412\n",
      "Epoch 2/50\n",
      "143/143 [==============================] - 27s 190ms/step - loss: 0.9782 - val_loss: 0.9286\n",
      "Epoch 3/50\n",
      "143/143 [==============================] - 28s 196ms/step - loss: 0.9716 - val_loss: 0.9274\n",
      "Epoch 4/50\n",
      "143/143 [==============================] - 28s 197ms/step - loss: 0.9648 - val_loss: 0.9165\n",
      "Epoch 5/50\n",
      "143/143 [==============================] - 28s 195ms/step - loss: 0.9593 - val_loss: 0.9305\n",
      "Epoch 6/50\n",
      "143/143 [==============================] - 28s 198ms/step - loss: 0.9549 - val_loss: 0.9267\n",
      "Epoch 7/50\n",
      "143/143 [==============================] - 28s 198ms/step - loss: 0.9470 - val_loss: 0.9364\n",
      "Epoch 8/50\n",
      "143/143 [==============================] - 28s 196ms/step - loss: 0.9446 - val_loss: 0.9228\n",
      "Epoch 9/50\n",
      "143/143 [==============================] - 29s 200ms/step - loss: 0.9392 - val_loss: 0.9144\n",
      "Epoch 10/50\n",
      "143/143 [==============================] - 29s 201ms/step - loss: 0.9313 - val_loss: 0.9189\n",
      "Epoch 11/50\n",
      "143/143 [==============================] - 29s 204ms/step - loss: 0.9334 - val_loss: 0.9085\n",
      "Epoch 12/50\n",
      "143/143 [==============================] - 28s 195ms/step - loss: 0.9225 - val_loss: 0.9030\n",
      "Epoch 13/50\n",
      "143/143 [==============================] - 28s 196ms/step - loss: 0.9191 - val_loss: 0.9038\n",
      "Epoch 14/50\n",
      "143/143 [==============================] - 28s 196ms/step - loss: 0.9190 - val_loss: 0.9051\n",
      "Epoch 15/50\n",
      "143/143 [==============================] - 28s 196ms/step - loss: 0.9108 - val_loss: 0.9015\n",
      "Epoch 16/50\n",
      "143/143 [==============================] - 28s 198ms/step - loss: 0.9073 - val_loss: 0.9028\n",
      "Epoch 17/50\n",
      "143/143 [==============================] - 28s 196ms/step - loss: 0.9059 - val_loss: 0.9045\n",
      "Epoch 18/50\n",
      "143/143 [==============================] - 28s 197ms/step - loss: 0.9028 - val_loss: 0.9031\n",
      "Epoch 19/50\n",
      "143/143 [==============================] - 28s 197ms/step - loss: 0.8945 - val_loss: 0.9060\n",
      "Epoch 20/50\n",
      "143/143 [==============================] - 28s 199ms/step - loss: 0.8952 - val_loss: 0.8988\n",
      "Epoch 21/50\n",
      "143/143 [==============================] - 28s 197ms/step - loss: 0.8934 - val_loss: 0.8965\n",
      "Epoch 22/50\n",
      "143/143 [==============================] - 28s 197ms/step - loss: 0.8920 - val_loss: 0.8965\n",
      "Epoch 23/50\n",
      "143/143 [==============================] - 28s 197ms/step - loss: 0.8906 - val_loss: 0.8965\n",
      "Epoch 24/50\n",
      "143/143 [==============================] - 28s 196ms/step - loss: 0.8857 - val_loss: 0.8935\n",
      "Epoch 25/50\n",
      "143/143 [==============================] - 28s 196ms/step - loss: 0.8812 - val_loss: 0.9098\n",
      "Epoch 26/50\n",
      "143/143 [==============================] - 28s 196ms/step - loss: 0.8772 - val_loss: 0.9019\n",
      "Epoch 27/50\n",
      "143/143 [==============================] - 28s 196ms/step - loss: 0.8780 - val_loss: 0.8987\n",
      "Epoch 28/50\n",
      "143/143 [==============================] - 28s 199ms/step - loss: 0.8757 - val_loss: 0.8911\n",
      "Epoch 29/50\n",
      "143/143 [==============================] - 28s 197ms/step - loss: 0.8704 - val_loss: 0.8942\n",
      "Epoch 30/50\n",
      "143/143 [==============================] - 28s 198ms/step - loss: 0.8711 - val_loss: 0.8917\n",
      "Epoch 31/50\n",
      "143/143 [==============================] - 28s 198ms/step - loss: 0.8673 - val_loss: 0.8928\n",
      "Epoch 32/50\n",
      "143/143 [==============================] - 36s 250ms/step - loss: 0.8668 - val_loss: 0.8994\n",
      "Epoch 33/50\n",
      "143/143 [==============================] - 62s 436ms/step - loss: 0.8641 - val_loss: 0.8952\n",
      "Epoch 34/50\n",
      "143/143 [==============================] - 60s 418ms/step - loss: 0.8585 - val_loss: 0.8917\n",
      "Epoch 35/50\n",
      "143/143 [==============================] - 31s 217ms/step - loss: 0.8609 - val_loss: 0.8908\n",
      "Epoch 36/50\n",
      "143/143 [==============================] - 30s 207ms/step - loss: 0.8592 - val_loss: 0.8928\n",
      "Epoch 37/50\n",
      "143/143 [==============================] - 30s 207ms/step - loss: 0.8539 - val_loss: 0.8901\n",
      "Epoch 38/50\n",
      "143/143 [==============================] - 31s 214ms/step - loss: 0.8570 - val_loss: 0.8965\n",
      "Epoch 39/50\n",
      "143/143 [==============================] - 30s 210ms/step - loss: 0.8525 - val_loss: 0.9122\n",
      "Epoch 40/50\n",
      "143/143 [==============================] - 29s 206ms/step - loss: 0.8521 - val_loss: 0.8918\n",
      "Epoch 41/50\n",
      "143/143 [==============================] - 31s 214ms/step - loss: 0.8508 - val_loss: 0.8882\n",
      "Epoch 42/50\n",
      "143/143 [==============================] - 30s 211ms/step - loss: 0.8468 - val_loss: 0.8894\n",
      "Epoch 43/50\n",
      "143/143 [==============================] - 29s 201ms/step - loss: 0.8464 - val_loss: 0.8904\n",
      "Epoch 44/50\n",
      "143/143 [==============================] - 28s 199ms/step - loss: 0.8427 - val_loss: 0.8926\n",
      "Epoch 45/50\n",
      "143/143 [==============================] - 29s 205ms/step - loss: 0.8447 - val_loss: 0.8918\n",
      "Epoch 46/50\n",
      "143/143 [==============================] - 30s 209ms/step - loss: 0.8415 - val_loss: 0.8925\n",
      "Epoch 47/50\n",
      "143/143 [==============================] - 42s 297ms/step - loss: 0.8412 - val_loss: 0.8939\n",
      "Epoch 48/50\n",
      "143/143 [==============================] - 31s 216ms/step - loss: 0.8371 - val_loss: 0.8893\n",
      "Epoch 49/50\n",
      "143/143 [==============================] - 28s 199ms/step - loss: 0.8400 - val_loss: 0.8927\n",
      "Epoch 50/50\n",
      "143/143 [==============================] - 28s 199ms/step - loss: 0.8365 - val_loss: 0.8986\n"
     ]
    }
   ],
   "source": [
    "history1=model.fit(xtrain_pad, y=ytrain_enc, batch_size=512, epochs=50, verbose=1, validation_data=(xvalid_pad, yvalid_enc))"
   ]
  },
  {
   "cell_type": "code",
   "execution_count": 67,
   "metadata": {},
   "outputs": [
    {
     "data": {
      "image/png": "[encoded data removed]",
      "text/plain": [
       "<Figure size 640x480 with 1 Axes>"
      ]
     },
     "metadata": {},
     "output_type": "display_data"
    }
   ],
   "source": [
    "plt.plot(history1.history['loss'],label=\"train\")\n",
    "plt.plot(history1.history['val_loss'],label=\"test\")\n",
    "plt.legend()\n",
    "plt.show()"
   ]
  },
  {
   "cell_type": "code",
   "execution_count": 68,
   "metadata": {},
   "outputs": [],
   "source": [
    "earlystop = EarlyStopping(monitor='val_loss', min_delta=0, patience=3, verbose=0, mode='auto')"
   ]
  },
  {
   "cell_type": "code",
   "execution_count": 69,
   "metadata": {},
   "outputs": [
    {
     "name": "stdout",
     "output_type": "stream",
     "text": [
      "Epoch 1/50\n",
      "143/143 [==============================] - 46s 319ms/step - loss: 0.8340 - val_loss: 0.8893\n",
      "Epoch 2/50\n",
      "143/143 [==============================] - 44s 307ms/step - loss: 0.8346 - val_loss: 0.8935\n",
      "Epoch 3/50\n",
      "143/143 [==============================] - 66s 459ms/step - loss: 0.8331 - val_loss: 0.8884\n",
      "Epoch 4/50\n",
      "143/143 [==============================] - 38s 268ms/step - loss: 0.8306 - val_loss: 0.8940\n",
      "Epoch 5/50\n",
      "143/143 [==============================] - 66s 461ms/step - loss: 0.8300 - val_loss: 0.8894\n",
      "Epoch 6/50\n",
      "143/143 [==============================] - 51s 359ms/step - loss: 0.8340 - val_loss: 0.8905\n"
     ]
    }
   ],
   "source": [
    "history2=model.fit(xtrain_pad, y=ytrain_enc, batch_size=512, epochs=50, verbose=1, validation_data=(xvalid_pad, yvalid_enc), callbacks=[earlystop])"
   ]
  },
  {
   "cell_type": "code",
   "execution_count": 71,
   "metadata": {},
   "outputs": [
    {
     "data": {
      "image/png": "[encoded data removed]",
      "text/plain": [
       "<Figure size 640x480 with 1 Axes>"
      ]
     },
     "metadata": {},
     "output_type": "display_data"
    }
   ],
   "source": [
    "plt.plot(history2.history['loss'],label=\"train\")\n",
    "plt.plot(history2.history['val_loss'],label=\"test\")\n",
    "plt.legend()\n",
    "plt.show()"
   ]
  },
  {
   "cell_type": "code",
   "execution_count": 73,
   "metadata": {},
   "outputs": [
    {
     "name": "stdout",
     "output_type": "stream",
     "text": [
      "WARNING:tensorflow:Layer lstm_4 will not use cuDNN kernels since it doesn't meet the criteria. It will use a generic GPU kernel as fallback when running on GPU.\n",
      "WARNING:tensorflow:Layer lstm_4 will not use cuDNN kernels since it doesn't meet the criteria. It will use a generic GPU kernel as fallback when running on GPU.\n",
      "WARNING:tensorflow:Layer lstm_4 will not use cuDNN kernels since it doesn't meet the criteria. It will use a generic GPU kernel as fallback when running on GPU.\n",
      "Epoch 1/100\n",
      "143/143 [==============================] - 72s 484ms/step - loss: 1.3457 - val_loss: 1.1411\n",
      "Epoch 2/100\n",
      "143/143 [==============================] - 60s 417ms/step - loss: 1.1681 - val_loss: 1.0887\n",
      "Epoch 3/100\n",
      "143/143 [==============================] - 58s 406ms/step - loss: 1.1148 - val_loss: 1.0174\n",
      "Epoch 4/100\n",
      "143/143 [==============================] - 58s 408ms/step - loss: 1.0686 - val_loss: 0.9991\n",
      "Epoch 5/100\n",
      "143/143 [==============================] - 58s 408ms/step - loss: 1.0433 - val_loss: 0.9746\n",
      "Epoch 6/100\n",
      "143/143 [==============================] - 63s 440ms/step - loss: 1.0226 - val_loss: 0.9604\n",
      "Epoch 7/100\n",
      "143/143 [==============================] - 58s 407ms/step - loss: 1.0020 - val_loss: 0.9613\n",
      "Epoch 8/100\n",
      "143/143 [==============================] - 111s 776ms/step - loss: 0.9847 - val_loss: 0.9414\n",
      "Epoch 9/100\n",
      "143/143 [==============================] - 131s 919ms/step - loss: 0.9765 - val_loss: 0.9294\n",
      "Epoch 10/100\n",
      "143/143 [==============================] - 71s 491ms/step - loss: 0.9620 - val_loss: 0.9186\n",
      "Epoch 11/100\n",
      "143/143 [==============================] - 54s 381ms/step - loss: 0.9500 - val_loss: 0.9206\n",
      "Epoch 12/100\n",
      "143/143 [==============================] - 57s 402ms/step - loss: 0.9363 - val_loss: 0.9136\n",
      "Epoch 13/100\n",
      "143/143 [==============================] - 85s 597ms/step - loss: 0.9250 - val_loss: 0.9194\n",
      "Epoch 14/100\n",
      "143/143 [==============================] - 68s 473ms/step - loss: 0.9158 - val_loss: 0.9182\n",
      "Epoch 15/100\n",
      "143/143 [==============================] - 125s 875ms/step - loss: 0.9036 - val_loss: 0.9074\n",
      "Epoch 16/100\n",
      "143/143 [==============================] - 79s 548ms/step - loss: 0.8949 - val_loss: 0.9064\n",
      "Epoch 17/100\n",
      "143/143 [==============================] - 124s 864ms/step - loss: 0.8813 - val_loss: 0.8985\n",
      "Epoch 18/100\n",
      "143/143 [==============================] - 113s 795ms/step - loss: 0.8684 - val_loss: 0.8949\n",
      "Epoch 19/100\n",
      "143/143 [==============================] - 130s 907ms/step - loss: 0.8592 - val_loss: 0.8979\n",
      "Epoch 20/100\n",
      "143/143 [==============================] - 130s 911ms/step - loss: 0.8517 - val_loss: 0.9016\n",
      "Epoch 21/100\n",
      "143/143 [==============================] - 116s 808ms/step - loss: 0.8404 - val_loss: 0.8960\n"
     ]
    }
   ],
   "source": [
    "model = Sequential()\n",
    "model.add(Embedding(len(word_index) + 1,\n",
    "                     300,\n",
    "                     weights=[embedding_matrix],\n",
    "                     input_length=max_len,\n",
    "                     trainable=False))\n",
    "model.add(SpatialDropout1D(0.3))\n",
    "model.add(Bidirectional(LSTM(300, dropout=0.3, recurrent_dropout=0.3)))\n",
    "\n",
    "model.add(Dense(1024, activation='relu'))\n",
    "model.add(Dropout(0.8))\n",
    "\n",
    "model.add(Dense(1024, activation='relu'))\n",
    "model.add(Dropout(0.8))\n",
    "\n",
    "model.add(Dense(5))\n",
    "model.add(Activation('softmax'))\n",
    "model.compile(loss='categorical_crossentropy', optimizer='adam')\n",
    "\n",
    "# Fit the model with early stopping callback\n",
    "earlystop = EarlyStopping(monitor='val_loss', min_delta=0, patience=3, verbose=0, mode='auto')\n",
    "history_bi=model.fit(xtrain_pad, y=ytrain_enc, batch_size=512, epochs=100, \n",
    "          verbose=1, validation_data=(xvalid_pad, yvalid_enc), callbacks=[earlystop])"
   ]
  },
  {
   "cell_type": "code",
   "execution_count": 74,
   "metadata": {},
   "outputs": [
    {
     "data": {
      "image/png": "[encoded data removed]",
      "text/plain": [
       "<Figure size 640x480 with 1 Axes>"
      ]
     },
     "metadata": {},
     "output_type": "display_data"
    }
   ],
   "source": [
    "plt.plot(history_bi.history['loss'],label=\"train\")\n",
    "plt.plot(history_bi.history['val_loss'],label=\"test\")\n",
    "plt.legend()\n",
    "plt.show()"
   ]
  },
  {
   "cell_type": "code",
   "execution_count": 83,
   "metadata": {},
   "outputs": [
    {
     "name": "stdout",
     "output_type": "stream",
     "text": [
      "254/254 [==============================] - 13s 52ms/step\n"
     ]
    }
   ],
   "source": [
    "predictions=model.predict(xvalid_pad)"
   ]
  },
  {
   "cell_type": "code",
   "execution_count": 81,
   "metadata": {},
   "outputs": [
    {
     "data": {
      "text/plain": [
       "array([3, 4, 1, ..., 0, 0, 4], dtype=int64)"
      ]
     },
     "execution_count": 81,
     "metadata": {},
     "output_type": "execute_result"
    }
   ],
   "source": [
    "yvalid"
   ]
  },
  {
   "cell_type": "code",
   "execution_count": 93,
   "metadata": {},
   "outputs": [
    {
     "data": {
      "text/plain": [
       "array([[0., 0., 0., 1., 0.],\n",
       "       [0., 0., 0., 0., 1.],\n",
       "       [0., 1., 0., 0., 0.],\n",
       "       ...,\n",
       "       [1., 0., 0., 0., 0.],\n",
       "       [1., 0., 0., 0., 0.],\n",
       "       [0., 0., 0., 0., 1.]], dtype=float32)"
      ]
     },
     "execution_count": 93,
     "metadata": {},
     "output_type": "execute_result"
    }
   ],
   "source": [
    "yvalid_enc"
   ]
  },
  {
   "cell_type": "code",
   "execution_count": null,
   "metadata": {},
   "outputs": [],
   "source": []
  }
 ],
 "metadata": {
  "kernelspec": {
   "display_name": "Python 3.7.12 ('testinggrounds')",
   "language": "python",
   "name": "python3"
  },
  "language_info": {
   "codemirror_mode": {
    "name": "ipython",
    "version": 3
   },
   "file_extension": ".py",
   "mimetype": "text/x-python",
   "name": "python",
   "nbconvert_exporter": "python",
   "pygments_lexer": "ipython3",
   "version": "3.7.12"
  },
  "orig_nbformat": 4,
  "vscode": {
   "interpreter": {
    "hash": "be1130cc366ce64c2af566ee12e797ac4446b6a928687bd6f2dd0eaf2725f7ce"
   }
  }
 },
 "nbformat": 4,
 "nbformat_minor": 2
}
