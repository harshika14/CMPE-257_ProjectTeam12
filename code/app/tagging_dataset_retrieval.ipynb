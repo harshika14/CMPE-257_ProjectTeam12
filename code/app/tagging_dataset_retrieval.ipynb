{
 "cells": [
  {
   "cell_type": "code",
   "execution_count": 1,
   "metadata": {},
   "outputs": [],
   "source": [
    "import matplotlib.pyplot as plt # plotting\n",
    "import numpy as np # linear algebra\n",
    "import os # accessing directory structure\n",
    "import pandas as pd \n",
    "import plotly.express as px\n",
    "from pandasql import sqldf"
   ]
  },
  {
   "cell_type": "code",
   "execution_count": 2,
   "metadata": {},
   "outputs": [
    {
     "name": "stdout",
     "output_type": "stream",
     "text": [
      "(150346, 14)\n",
      "No of records in business dataset 150346\n",
      "No of features in business dataset 14\n"
     ]
    },
    {
     "data": {
      "text/html": [
       "<div>\n",
       "<style scoped>\n",
       "    .dataframe tbody tr th:only-of-type {\n",
       "        vertical-align: middle;\n",
       "    }\n",
       "\n",
       "    .dataframe tbody tr th {\n",
       "        vertical-align: top;\n",
       "    }\n",
       "\n",
       "    .dataframe thead th {\n",
       "        text-align: right;\n",
       "    }\n",
       "</style>\n",
       "<table border=\"1\" class=\"dataframe\">\n",
       "  <thead>\n",
       "    <tr style=\"text-align: right;\">\n",
       "      <th></th>\n",
       "      <th>business_id</th>\n",
       "      <th>name</th>\n",
       "      <th>address</th>\n",
       "      <th>city</th>\n",
       "      <th>state</th>\n",
       "      <th>postal_code</th>\n",
       "      <th>latitude</th>\n",
       "      <th>longitude</th>\n",
       "      <th>stars</th>\n",
       "      <th>review_count</th>\n",
       "      <th>is_open</th>\n",
       "      <th>attributes</th>\n",
       "      <th>categories</th>\n",
       "      <th>hours</th>\n",
       "    </tr>\n",
       "  </thead>\n",
       "  <tbody>\n",
       "    <tr>\n",
       "      <th>0</th>\n",
       "      <td>Pns2l4eNsfO8kk83dixA6A</td>\n",
       "      <td>Abby Rappoport, LAC, CMQ</td>\n",
       "      <td>1616 Chapala St, Ste 2</td>\n",
       "      <td>Santa Barbara</td>\n",
       "      <td>CA</td>\n",
       "      <td>93101</td>\n",
       "      <td>34.426679</td>\n",
       "      <td>-119.711197</td>\n",
       "      <td>5.0</td>\n",
       "      <td>7</td>\n",
       "      <td>0</td>\n",
       "      <td>{'ByAppointmentOnly': 'True'}</td>\n",
       "      <td>Doctors, Traditional Chinese Medicine, Naturop...</td>\n",
       "      <td>None</td>\n",
       "    </tr>\n",
       "    <tr>\n",
       "      <th>1</th>\n",
       "      <td>mpf3x-BjTdTEA3yCZrAYPw</td>\n",
       "      <td>The UPS Store</td>\n",
       "      <td>87 Grasso Plaza Shopping Center</td>\n",
       "      <td>Affton</td>\n",
       "      <td>MO</td>\n",
       "      <td>63123</td>\n",
       "      <td>38.551126</td>\n",
       "      <td>-90.335695</td>\n",
       "      <td>3.0</td>\n",
       "      <td>15</td>\n",
       "      <td>1</td>\n",
       "      <td>{'BusinessAcceptsCreditCards': 'True'}</td>\n",
       "      <td>Shipping Centers, Local Services, Notaries, Ma...</td>\n",
       "      <td>{'Monday': '0:0-0:0', 'Tuesday': '8:0-18:30', ...</td>\n",
       "    </tr>\n",
       "    <tr>\n",
       "      <th>2</th>\n",
       "      <td>tUFrWirKiKi_TAnsVWINQQ</td>\n",
       "      <td>Target</td>\n",
       "      <td>5255 E Broadway Blvd</td>\n",
       "      <td>Tucson</td>\n",
       "      <td>AZ</td>\n",
       "      <td>85711</td>\n",
       "      <td>32.223236</td>\n",
       "      <td>-110.880452</td>\n",
       "      <td>3.5</td>\n",
       "      <td>22</td>\n",
       "      <td>0</td>\n",
       "      <td>{'BikeParking': 'True', 'BusinessAcceptsCredit...</td>\n",
       "      <td>Department Stores, Shopping, Fashion, Home &amp; G...</td>\n",
       "      <td>{'Monday': '8:0-22:0', 'Tuesday': '8:0-22:0', ...</td>\n",
       "    </tr>\n",
       "    <tr>\n",
       "      <th>3</th>\n",
       "      <td>MTSW4McQd7CbVtyjqoe9mw</td>\n",
       "      <td>St Honore Pastries</td>\n",
       "      <td>935 Race St</td>\n",
       "      <td>Philadelphia</td>\n",
       "      <td>PA</td>\n",
       "      <td>19107</td>\n",
       "      <td>39.955505</td>\n",
       "      <td>-75.155564</td>\n",
       "      <td>4.0</td>\n",
       "      <td>80</td>\n",
       "      <td>1</td>\n",
       "      <td>{'RestaurantsDelivery': 'False', 'OutdoorSeati...</td>\n",
       "      <td>Restaurants, Food, Bubble Tea, Coffee &amp; Tea, B...</td>\n",
       "      <td>{'Monday': '7:0-20:0', 'Tuesday': '7:0-20:0', ...</td>\n",
       "    </tr>\n",
       "    <tr>\n",
       "      <th>4</th>\n",
       "      <td>mWMc6_wTdE0EUBKIGXDVfA</td>\n",
       "      <td>Perkiomen Valley Brewery</td>\n",
       "      <td>101 Walnut St</td>\n",
       "      <td>Green Lane</td>\n",
       "      <td>PA</td>\n",
       "      <td>18054</td>\n",
       "      <td>40.338183</td>\n",
       "      <td>-75.471659</td>\n",
       "      <td>4.5</td>\n",
       "      <td>13</td>\n",
       "      <td>1</td>\n",
       "      <td>{'BusinessAcceptsCreditCards': 'True', 'Wheelc...</td>\n",
       "      <td>Brewpubs, Breweries, Food</td>\n",
       "      <td>{'Wednesday': '14:0-22:0', 'Thursday': '16:0-2...</td>\n",
       "    </tr>\n",
       "  </tbody>\n",
       "</table>\n",
       "</div>"
      ],
      "text/plain": [
       "              business_id                      name  \\\n",
       "0  Pns2l4eNsfO8kk83dixA6A  Abby Rappoport, LAC, CMQ   \n",
       "1  mpf3x-BjTdTEA3yCZrAYPw             The UPS Store   \n",
       "2  tUFrWirKiKi_TAnsVWINQQ                    Target   \n",
       "3  MTSW4McQd7CbVtyjqoe9mw        St Honore Pastries   \n",
       "4  mWMc6_wTdE0EUBKIGXDVfA  Perkiomen Valley Brewery   \n",
       "\n",
       "                           address           city state postal_code  \\\n",
       "0           1616 Chapala St, Ste 2  Santa Barbara    CA       93101   \n",
       "1  87 Grasso Plaza Shopping Center         Affton    MO       63123   \n",
       "2             5255 E Broadway Blvd         Tucson    AZ       85711   \n",
       "3                      935 Race St   Philadelphia    PA       19107   \n",
       "4                    101 Walnut St     Green Lane    PA       18054   \n",
       "\n",
       "    latitude   longitude  stars  review_count  is_open  \\\n",
       "0  34.426679 -119.711197    5.0             7        0   \n",
       "1  38.551126  -90.335695    3.0            15        1   \n",
       "2  32.223236 -110.880452    3.5            22        0   \n",
       "3  39.955505  -75.155564    4.0            80        1   \n",
       "4  40.338183  -75.471659    4.5            13        1   \n",
       "\n",
       "                                          attributes  \\\n",
       "0                      {'ByAppointmentOnly': 'True'}   \n",
       "1             {'BusinessAcceptsCreditCards': 'True'}   \n",
       "2  {'BikeParking': 'True', 'BusinessAcceptsCredit...   \n",
       "3  {'RestaurantsDelivery': 'False', 'OutdoorSeati...   \n",
       "4  {'BusinessAcceptsCreditCards': 'True', 'Wheelc...   \n",
       "\n",
       "                                          categories  \\\n",
       "0  Doctors, Traditional Chinese Medicine, Naturop...   \n",
       "1  Shipping Centers, Local Services, Notaries, Ma...   \n",
       "2  Department Stores, Shopping, Fashion, Home & G...   \n",
       "3  Restaurants, Food, Bubble Tea, Coffee & Tea, B...   \n",
       "4                          Brewpubs, Breweries, Food   \n",
       "\n",
       "                                               hours  \n",
       "0                                               None  \n",
       "1  {'Monday': '0:0-0:0', 'Tuesday': '8:0-18:30', ...  \n",
       "2  {'Monday': '8:0-22:0', 'Tuesday': '8:0-22:0', ...  \n",
       "3  {'Monday': '7:0-20:0', 'Tuesday': '7:0-20:0', ...  \n",
       "4  {'Wednesday': '14:0-22:0', 'Thursday': '16:0-2...  "
      ]
     },
     "execution_count": 2,
     "metadata": {},
     "output_type": "execute_result"
    }
   ],
   "source": [
    "yelp_academic_dataset_business_json_path = '/home/016037047/yelp_data/yelp_academic_dataset_business.json'\n",
    "yelp_business_dataset_json = pd.read_json(yelp_academic_dataset_business_json_path, lines=True)\n",
    "#printing the overview of the business dataset\n",
    "print(yelp_business_dataset_json.shape)\n",
    "print('No of records in business dataset',yelp_business_dataset_json.shape[0])\n",
    "print('No of features in business dataset',yelp_business_dataset_json.shape[1])\n",
    "yelp_business_dataset_json.head()"
   ]
  },
  {
   "cell_type": "code",
   "execution_count": 3,
   "metadata": {},
   "outputs": [
    {
     "data": {
      "text/plain": [
       "Beauty & Spas, Nail Salons    1012\n",
       "Restaurants, Pizza             935\n",
       "Nail Salons, Beauty & Spas     934\n",
       "Pizza, Restaurants             823\n",
       "Restaurants, Mexican           728\n",
       "Restaurants, Chinese           708\n",
       "Mexican, Restaurants           672\n",
       "Chinese, Restaurants           651\n",
       "Food, Coffee & Tea             508\n",
       "Beauty & Spas, Hair Salons     493\n",
       "Name: categories, dtype: int64"
      ]
     },
     "execution_count": 3,
     "metadata": {},
     "output_type": "execute_result"
    }
   ],
   "source": [
    "yelp_business_dataset_json.categories.value_counts()[:10]"
   ]
  },
  {
   "cell_type": "code",
   "execution_count": 4,
   "metadata": {},
   "outputs": [
    {
     "data": {
      "text/html": [
       "<div>\n",
       "<style scoped>\n",
       "    .dataframe tbody tr th:only-of-type {\n",
       "        vertical-align: middle;\n",
       "    }\n",
       "\n",
       "    .dataframe tbody tr th {\n",
       "        vertical-align: top;\n",
       "    }\n",
       "\n",
       "    .dataframe thead th {\n",
       "        text-align: right;\n",
       "    }\n",
       "</style>\n",
       "<table border=\"1\" class=\"dataframe\">\n",
       "  <thead>\n",
       "    <tr style=\"text-align: right;\">\n",
       "      <th></th>\n",
       "      <th>business_id</th>\n",
       "      <th>name</th>\n",
       "      <th>address</th>\n",
       "      <th>city</th>\n",
       "      <th>state</th>\n",
       "      <th>postal_code</th>\n",
       "      <th>latitude</th>\n",
       "      <th>longitude</th>\n",
       "      <th>stars</th>\n",
       "      <th>review_count</th>\n",
       "      <th>is_open</th>\n",
       "      <th>attributes</th>\n",
       "      <th>categories</th>\n",
       "      <th>hours</th>\n",
       "    </tr>\n",
       "  </thead>\n",
       "  <tbody>\n",
       "    <tr>\n",
       "      <th>149339</th>\n",
       "      <td>qvQ_IfX6guDk4Y4fsK3HDA</td>\n",
       "      <td>Braeutigam Orchards</td>\n",
       "      <td>2795 Turkey Hill Ln</td>\n",
       "      <td>Belleville</td>\n",
       "      <td>IL</td>\n",
       "      <td>62221</td>\n",
       "      <td>38.480958</td>\n",
       "      <td>-89.916106</td>\n",
       "      <td>4.5</td>\n",
       "      <td>26</td>\n",
       "      <td>1</td>\n",
       "      <td>{'RestaurantsPriceRange2': '1', 'BikeParking':...</td>\n",
       "      <td>Food</td>\n",
       "      <td>{'Monday': '8:0-18:0', 'Tuesday': '8:0-18:0', ...</td>\n",
       "    </tr>\n",
       "    <tr>\n",
       "      <th>36665</th>\n",
       "      <td>UHSNKp8AqaYvY0jVuxCBSw</td>\n",
       "      <td>Certegy Check Services</td>\n",
       "      <td>11601 Roosevelt Blvd N</td>\n",
       "      <td>St. Petersburg</td>\n",
       "      <td>FL</td>\n",
       "      <td>33716</td>\n",
       "      <td>27.877463</td>\n",
       "      <td>-82.653546</td>\n",
       "      <td>1.0</td>\n",
       "      <td>6</td>\n",
       "      <td>1</td>\n",
       "      <td>None</td>\n",
       "      <td>Financial Services</td>\n",
       "      <td>None</td>\n",
       "    </tr>\n",
       "    <tr>\n",
       "      <th>31098</th>\n",
       "      <td>KAZodlE7Dyad2plZ_cVkkQ</td>\n",
       "      <td>Shu's Idaho Running Company</td>\n",
       "      <td>1758 W State St</td>\n",
       "      <td>Boise</td>\n",
       "      <td>ID</td>\n",
       "      <td>83702</td>\n",
       "      <td>43.624538</td>\n",
       "      <td>-116.212080</td>\n",
       "      <td>5.0</td>\n",
       "      <td>36</td>\n",
       "      <td>1</td>\n",
       "      <td>{'RestaurantsPriceRange2': '2', 'BusinessAccep...</td>\n",
       "      <td>Shopping</td>\n",
       "      <td>{'Monday': '10:0-18:0', 'Tuesday': '10:0-18:0'...</td>\n",
       "    </tr>\n",
       "  </tbody>\n",
       "</table>\n",
       "</div>"
      ],
      "text/plain": [
       "                   business_id                         name  \\\n",
       "149339  qvQ_IfX6guDk4Y4fsK3HDA          Braeutigam Orchards   \n",
       "36665   UHSNKp8AqaYvY0jVuxCBSw       Certegy Check Services   \n",
       "31098   KAZodlE7Dyad2plZ_cVkkQ  Shu's Idaho Running Company   \n",
       "\n",
       "                       address            city state postal_code   latitude  \\\n",
       "149339     2795 Turkey Hill Ln      Belleville    IL       62221  38.480958   \n",
       "36665   11601 Roosevelt Blvd N  St. Petersburg    FL       33716  27.877463   \n",
       "31098          1758 W State St           Boise    ID       83702  43.624538   \n",
       "\n",
       "         longitude  stars  review_count  is_open  \\\n",
       "149339  -89.916106    4.5            26        1   \n",
       "36665   -82.653546    1.0             6        1   \n",
       "31098  -116.212080    5.0            36        1   \n",
       "\n",
       "                                               attributes          categories  \\\n",
       "149339  {'RestaurantsPriceRange2': '1', 'BikeParking':...                Food   \n",
       "36665                                                None  Financial Services   \n",
       "31098   {'RestaurantsPriceRange2': '2', 'BusinessAccep...            Shopping   \n",
       "\n",
       "                                                    hours  \n",
       "149339  {'Monday': '8:0-18:0', 'Tuesday': '8:0-18:0', ...  \n",
       "36665                                                None  \n",
       "31098   {'Monday': '10:0-18:0', 'Tuesday': '10:0-18:0'...  "
      ]
     },
     "execution_count": 4,
     "metadata": {},
     "output_type": "execute_result"
    }
   ],
   "source": [
    "df_categories = yelp_business_dataset_json.assign(categories = yelp_business_dataset_json.categories.str.split(', ')).explode('categories')\n",
    "df_categories.sample(3)\n"
   ]
  },
  {
   "cell_type": "code",
   "execution_count": 5,
   "metadata": {},
   "outputs": [
    {
     "data": {
      "text/plain": [
       "Restaurants                  52268\n",
       "Food                         27781\n",
       "Shopping                     24395\n",
       "Home Services                14356\n",
       "Beauty & Spas                14292\n",
       "Nightlife                    12281\n",
       "Health & Medical             11890\n",
       "Local Services               11198\n",
       "Bars                         11065\n",
       "Automotive                   10773\n",
       "Event Planning & Services     9895\n",
       "Sandwiches                    8366\n",
       "American (Traditional)        8139\n",
       "Active Life                   7687\n",
       "Pizza                         7093\n",
       "Coffee & Tea                  6703\n",
       "Fast Food                     6472\n",
       "Breakfast & Brunch            6239\n",
       "American (New)                6097\n",
       "Hotels & Travel               5857\n",
       "Name: categories, dtype: int64"
      ]
     },
     "execution_count": 5,
     "metadata": {},
     "output_type": "execute_result"
    }
   ],
   "source": [
    "df_categories.categories.value_counts()[:20]"
   ]
  },
  {
   "cell_type": "code",
   "execution_count": 6,
   "metadata": {},
   "outputs": [
    {
     "data": {
      "text/plain": [
       "business_id     0\n",
       "name            0\n",
       "address         0\n",
       "city            0\n",
       "state           0\n",
       "postal_code     0\n",
       "latitude        0\n",
       "longitude       0\n",
       "stars           0\n",
       "review_count    0\n",
       "is_open         0\n",
       "attributes      0\n",
       "categories      0\n",
       "hours           0\n",
       "dtype: int64"
      ]
     },
     "execution_count": 6,
     "metadata": {},
     "output_type": "execute_result"
    }
   ],
   "source": [
    "df_categories=df_categories.dropna()\n",
    "df_categories.isna().sum()"
   ]
  },
  {
   "cell_type": "code",
   "execution_count": 7,
   "metadata": {},
   "outputs": [],
   "source": [
    "df_restaurant=df_categories[df_categories.categories == 'Restaurants'].head(5000)\n",
    "df_shopping=df_categories[df_categories.categories == 'Shopping'].head(5000)\n",
    "df_activelife=df_categories[df_categories.categories == 'Active Life'].head(5000)\n",
    "df_beauty=df_categories[df_categories.categories == 'Beauty & Spas'].head(5000)\n",
    "df_auto=df_categories[df_categories.categories == 'Automotive'].head(5000)"
   ]
  },
  {
   "cell_type": "code",
   "execution_count": 8,
   "metadata": {},
   "outputs": [],
   "source": [
    "multi_frame=[df_restaurant,df_shopping,df_activelife,df_beauty,df_auto]"
   ]
  },
  {
   "cell_type": "code",
   "execution_count": 9,
   "metadata": {},
   "outputs": [],
   "source": [
    "df_multicat=pd.concat(multi_frame)"
   ]
  },
  {
   "cell_type": "code",
   "execution_count": 10,
   "metadata": {},
   "outputs": [
    {
     "data": {
      "text/plain": [
       "(25000, 14)"
      ]
     },
     "execution_count": 10,
     "metadata": {},
     "output_type": "execute_result"
    }
   ],
   "source": [
    "df_multicat.shape"
   ]
  },
  {
   "cell_type": "code",
   "execution_count": 11,
   "metadata": {},
   "outputs": [],
   "source": [
    "yelp_academic_review_json_path = '/home/016037047/yelp_data/yelp_academic_dataset_review.json'"
   ]
  },
  {
   "cell_type": "code",
   "execution_count": 12,
   "metadata": {},
   "outputs": [
    {
     "name": "stdout",
     "output_type": "stream",
     "text": [
      "495615 out of 600,000 related reviews\n",
      "207874 out of 600,000 related reviews\n",
      "102789 out of 600,000 related reviews\n",
      "74073 out of 600,000 related reviews\n",
      "60836 out of 600,000 related reviews\n",
      "38941 out of 600,000 related reviews\n",
      "34551 out of 600,000 related reviews\n",
      "16656 out of 600,000 related reviews\n",
      "16125 out of 600,000 related reviews\n",
      "12460 out of 600,000 related reviews\n",
      "4798 out of 600,000 related reviews\n",
      "0 out of 600,000 related reviews\n"
     ]
    }
   ],
   "source": [
    "size = 600000\n",
    "review = pd.read_json(yelp_academic_review_json_path, lines=True,\n",
    "                      dtype={'review_id':str,'user_id':str,\n",
    "                             'business_id':str,'stars':int,\n",
    "                             'date':str,'text':str,'useful':int,\n",
    "                             'funny':int,'cool':int},\n",
    "                      chunksize=size)\n",
    "chunk_list = []\n",
    "\n",
    "for chunk_review in review:\n",
    "    chunk_review = chunk_review.drop(['review_id','useful','funny','cool'], axis=1)\n",
    "    chunk_review = chunk_review.rename(columns={'stars': 'review_stars'})\n",
    "    chunk_merged = pd.merge(df_multicat, chunk_review, on='business_id', how='inner')\n",
    "    print(f\"{chunk_merged.shape[0]} out of {size:,} related reviews\")\n",
    "    chunk_list.append(chunk_merged)\n",
    "multicat_review = pd.concat(chunk_list, ignore_index=True, join='outer', axis=0)"
   ]
  },
  {
   "cell_type": "code",
   "execution_count": 15,
   "metadata": {},
   "outputs": [],
   "source": [
    "df=multicat_review[[\"text\",\"date\",\"categories\",\"review_stars\"]]"
   ]
  },
  {
   "cell_type": "code",
   "execution_count": 16,
   "metadata": {},
   "outputs": [
    {
     "data": {
      "text/html": [
       "<div>\n",
       "<style scoped>\n",
       "    .dataframe tbody tr th:only-of-type {\n",
       "        vertical-align: middle;\n",
       "    }\n",
       "\n",
       "    .dataframe tbody tr th {\n",
       "        vertical-align: top;\n",
       "    }\n",
       "\n",
       "    .dataframe thead th {\n",
       "        text-align: right;\n",
       "    }\n",
       "</style>\n",
       "<table border=\"1\" class=\"dataframe\">\n",
       "  <thead>\n",
       "    <tr style=\"text-align: right;\">\n",
       "      <th></th>\n",
       "      <th>text</th>\n",
       "      <th>date</th>\n",
       "      <th>categories</th>\n",
       "      <th>review_stars</th>\n",
       "    </tr>\n",
       "  </thead>\n",
       "  <tbody>\n",
       "    <tr>\n",
       "      <th>0</th>\n",
       "      <td>This is nice little Chinese bakery in the hear...</td>\n",
       "      <td>2014-05-26 01:09:53</td>\n",
       "      <td>Restaurants</td>\n",
       "      <td>4</td>\n",
       "    </tr>\n",
       "    <tr>\n",
       "      <th>1</th>\n",
       "      <td>This is the bakery I usually go to in Chinatow...</td>\n",
       "      <td>2013-10-05 15:19:06</td>\n",
       "      <td>Restaurants</td>\n",
       "      <td>4</td>\n",
       "    </tr>\n",
       "    <tr>\n",
       "      <th>2</th>\n",
       "      <td>A delightful find in Chinatown! Very clean, an...</td>\n",
       "      <td>2013-10-25 01:34:57</td>\n",
       "      <td>Restaurants</td>\n",
       "      <td>5</td>\n",
       "    </tr>\n",
       "    <tr>\n",
       "      <th>3</th>\n",
       "      <td>I ordered a graduation cake for my niece and i...</td>\n",
       "      <td>2018-05-20 17:58:57</td>\n",
       "      <td>Restaurants</td>\n",
       "      <td>5</td>\n",
       "    </tr>\n",
       "    <tr>\n",
       "      <th>4</th>\n",
       "      <td>HK-STYLE MILK TEA:  FOUR STARS\\n\\nNot quite su...</td>\n",
       "      <td>2013-10-25 02:31:35</td>\n",
       "      <td>Restaurants</td>\n",
       "      <td>4</td>\n",
       "    </tr>\n",
       "    <tr>\n",
       "      <th>...</th>\n",
       "      <td>...</td>\n",
       "      <td>...</td>\n",
       "      <td>...</td>\n",
       "      <td>...</td>\n",
       "    </tr>\n",
       "    <tr>\n",
       "      <th>1064713</th>\n",
       "      <td>I LOVE working out at at Linda's studio. I've ...</td>\n",
       "      <td>2019-07-02 23:23:46</td>\n",
       "      <td>Active Life</td>\n",
       "      <td>5</td>\n",
       "    </tr>\n",
       "    <tr>\n",
       "      <th>1064714</th>\n",
       "      <td>I've been coming to Pilates by Linda for over ...</td>\n",
       "      <td>2019-05-11 01:57:09</td>\n",
       "      <td>Active Life</td>\n",
       "      <td>5</td>\n",
       "    </tr>\n",
       "    <tr>\n",
       "      <th>1064715</th>\n",
       "      <td>I recently traveled to the area to visit my mo...</td>\n",
       "      <td>2012-02-04 21:44:48</td>\n",
       "      <td>Active Life</td>\n",
       "      <td>5</td>\n",
       "    </tr>\n",
       "    <tr>\n",
       "      <th>1064716</th>\n",
       "      <td>I just started pilates about 6 weeks ago and I...</td>\n",
       "      <td>2012-02-15 14:12:06</td>\n",
       "      <td>Active Life</td>\n",
       "      <td>5</td>\n",
       "    </tr>\n",
       "    <tr>\n",
       "      <th>1064717</th>\n",
       "      <td>I have been using this studio for 18 months......</td>\n",
       "      <td>2019-04-19 16:25:01</td>\n",
       "      <td>Active Life</td>\n",
       "      <td>5</td>\n",
       "    </tr>\n",
       "  </tbody>\n",
       "</table>\n",
       "<p>1064718 rows × 4 columns</p>\n",
       "</div>"
      ],
      "text/plain": [
       "                                                      text  \\\n",
       "0        This is nice little Chinese bakery in the hear...   \n",
       "1        This is the bakery I usually go to in Chinatow...   \n",
       "2        A delightful find in Chinatown! Very clean, an...   \n",
       "3        I ordered a graduation cake for my niece and i...   \n",
       "4        HK-STYLE MILK TEA:  FOUR STARS\\n\\nNot quite su...   \n",
       "...                                                    ...   \n",
       "1064713  I LOVE working out at at Linda's studio. I've ...   \n",
       "1064714  I've been coming to Pilates by Linda for over ...   \n",
       "1064715  I recently traveled to the area to visit my mo...   \n",
       "1064716  I just started pilates about 6 weeks ago and I...   \n",
       "1064717  I have been using this studio for 18 months......   \n",
       "\n",
       "                        date   categories  review_stars  \n",
       "0        2014-05-26 01:09:53  Restaurants             4  \n",
       "1        2013-10-05 15:19:06  Restaurants             4  \n",
       "2        2013-10-25 01:34:57  Restaurants             5  \n",
       "3        2018-05-20 17:58:57  Restaurants             5  \n",
       "4        2013-10-25 02:31:35  Restaurants             4  \n",
       "...                      ...          ...           ...  \n",
       "1064713  2019-07-02 23:23:46  Active Life             5  \n",
       "1064714  2019-05-11 01:57:09  Active Life             5  \n",
       "1064715  2012-02-04 21:44:48  Active Life             5  \n",
       "1064716  2012-02-15 14:12:06  Active Life             5  \n",
       "1064717  2019-04-19 16:25:01  Active Life             5  \n",
       "\n",
       "[1064718 rows x 4 columns]"
      ]
     },
     "execution_count": 16,
     "metadata": {},
     "output_type": "execute_result"
    }
   ],
   "source": [
    "df"
   ]
  },
  {
   "cell_type": "code",
   "execution_count": 18,
   "metadata": {},
   "outputs": [
    {
     "data": {
      "text/html": [
       "<div>\n",
       "<style scoped>\n",
       "    .dataframe tbody tr th:only-of-type {\n",
       "        vertical-align: middle;\n",
       "    }\n",
       "\n",
       "    .dataframe tbody tr th {\n",
       "        vertical-align: top;\n",
       "    }\n",
       "\n",
       "    .dataframe thead th {\n",
       "        text-align: right;\n",
       "    }\n",
       "</style>\n",
       "<table border=\"1\" class=\"dataframe\">\n",
       "  <thead>\n",
       "    <tr style=\"text-align: right;\">\n",
       "      <th></th>\n",
       "      <th>text</th>\n",
       "      <th>date</th>\n",
       "      <th>categories</th>\n",
       "      <th>review_stars</th>\n",
       "    </tr>\n",
       "  </thead>\n",
       "  <tbody>\n",
       "    <tr>\n",
       "      <th>0</th>\n",
       "      <td>This is nice little Chinese bakery in the hear...</td>\n",
       "      <td>2014-05-26 01:09:53</td>\n",
       "      <td>Restaurants</td>\n",
       "      <td>4</td>\n",
       "    </tr>\n",
       "    <tr>\n",
       "      <th>1</th>\n",
       "      <td>This is the bakery I usually go to in Chinatow...</td>\n",
       "      <td>2013-10-05 15:19:06</td>\n",
       "      <td>Restaurants</td>\n",
       "      <td>4</td>\n",
       "    </tr>\n",
       "    <tr>\n",
       "      <th>2</th>\n",
       "      <td>A delightful find in Chinatown! Very clean, an...</td>\n",
       "      <td>2013-10-25 01:34:57</td>\n",
       "      <td>Restaurants</td>\n",
       "      <td>5</td>\n",
       "    </tr>\n",
       "    <tr>\n",
       "      <th>3</th>\n",
       "      <td>I ordered a graduation cake for my niece and i...</td>\n",
       "      <td>2018-05-20 17:58:57</td>\n",
       "      <td>Restaurants</td>\n",
       "      <td>5</td>\n",
       "    </tr>\n",
       "    <tr>\n",
       "      <th>4</th>\n",
       "      <td>HK-STYLE MILK TEA:  FOUR STARS\\n\\nNot quite su...</td>\n",
       "      <td>2013-10-25 02:31:35</td>\n",
       "      <td>Restaurants</td>\n",
       "      <td>4</td>\n",
       "    </tr>\n",
       "    <tr>\n",
       "      <th>...</th>\n",
       "      <td>...</td>\n",
       "      <td>...</td>\n",
       "      <td>...</td>\n",
       "      <td>...</td>\n",
       "    </tr>\n",
       "    <tr>\n",
       "      <th>1064713</th>\n",
       "      <td>I LOVE working out at at Linda's studio. I've ...</td>\n",
       "      <td>2019-07-02 23:23:46</td>\n",
       "      <td>Active Life</td>\n",
       "      <td>5</td>\n",
       "    </tr>\n",
       "    <tr>\n",
       "      <th>1064714</th>\n",
       "      <td>I've been coming to Pilates by Linda for over ...</td>\n",
       "      <td>2019-05-11 01:57:09</td>\n",
       "      <td>Active Life</td>\n",
       "      <td>5</td>\n",
       "    </tr>\n",
       "    <tr>\n",
       "      <th>1064715</th>\n",
       "      <td>I recently traveled to the area to visit my mo...</td>\n",
       "      <td>2012-02-04 21:44:48</td>\n",
       "      <td>Active Life</td>\n",
       "      <td>5</td>\n",
       "    </tr>\n",
       "    <tr>\n",
       "      <th>1064716</th>\n",
       "      <td>I just started pilates about 6 weeks ago and I...</td>\n",
       "      <td>2012-02-15 14:12:06</td>\n",
       "      <td>Active Life</td>\n",
       "      <td>5</td>\n",
       "    </tr>\n",
       "    <tr>\n",
       "      <th>1064717</th>\n",
       "      <td>I have been using this studio for 18 months......</td>\n",
       "      <td>2019-04-19 16:25:01</td>\n",
       "      <td>Active Life</td>\n",
       "      <td>5</td>\n",
       "    </tr>\n",
       "  </tbody>\n",
       "</table>\n",
       "<p>1064718 rows × 4 columns</p>\n",
       "</div>"
      ],
      "text/plain": [
       "                                                      text  \\\n",
       "0        This is nice little Chinese bakery in the hear...   \n",
       "1        This is the bakery I usually go to in Chinatow...   \n",
       "2        A delightful find in Chinatown! Very clean, an...   \n",
       "3        I ordered a graduation cake for my niece and i...   \n",
       "4        HK-STYLE MILK TEA:  FOUR STARS\\n\\nNot quite su...   \n",
       "...                                                    ...   \n",
       "1064713  I LOVE working out at at Linda's studio. I've ...   \n",
       "1064714  I've been coming to Pilates by Linda for over ...   \n",
       "1064715  I recently traveled to the area to visit my mo...   \n",
       "1064716  I just started pilates about 6 weeks ago and I...   \n",
       "1064717  I have been using this studio for 18 months......   \n",
       "\n",
       "                        date   categories  review_stars  \n",
       "0        2014-05-26 01:09:53  Restaurants             4  \n",
       "1        2013-10-05 15:19:06  Restaurants             4  \n",
       "2        2013-10-25 01:34:57  Restaurants             5  \n",
       "3        2018-05-20 17:58:57  Restaurants             5  \n",
       "4        2013-10-25 02:31:35  Restaurants             4  \n",
       "...                      ...          ...           ...  \n",
       "1064713  2019-07-02 23:23:46  Active Life             5  \n",
       "1064714  2019-05-11 01:57:09  Active Life             5  \n",
       "1064715  2012-02-04 21:44:48  Active Life             5  \n",
       "1064716  2012-02-15 14:12:06  Active Life             5  \n",
       "1064717  2019-04-19 16:25:01  Active Life             5  \n",
       "\n",
       "[1064718 rows x 4 columns]"
      ]
     },
     "execution_count": 18,
     "metadata": {},
     "output_type": "execute_result"
    }
   ],
   "source": [
    "df"
   ]
  },
  {
   "cell_type": "code",
   "execution_count": 45,
   "metadata": {},
   "outputs": [
    {
     "data": {
      "text/plain": [
       "Restaurants      518786\n",
       "Active Life      153596\n",
       "Beauty & Spas    145245\n",
       "Automotive       129866\n",
       "Shopping         117225\n",
       "Name: categories, dtype: int64"
      ]
     },
     "execution_count": 45,
     "metadata": {},
     "output_type": "execute_result"
    }
   ],
   "source": [
    "df_sample=df.sample(frac=1).reset_index(drop=True)\n",
    "df_sample.shape\n",
    "df_sample.categories.value_counts()"
   ]
  },
  {
   "cell_type": "code",
   "execution_count": 68,
   "metadata": {},
   "outputs": [
    {
     "data": {
      "text/plain": [
       "Restaurants      274938\n",
       "Active Life       81607\n",
       "Beauty & Spas     77062\n",
       "Automotive        68805\n",
       "Shopping          62306\n",
       "Name: categories, dtype: int64"
      ]
     },
     "execution_count": 68,
     "metadata": {},
     "output_type": "execute_result"
    }
   ],
   "source": [
    "df_test=df_sample[0:564718]\n",
    "df_test.categories.value_counts()"
   ]
  },
  {
   "cell_type": "markdown",
   "metadata": {},
   "source": [
    "### Had to use some other conditions to balance the dataset, as  dataframe operations were taking a lot of time "
   ]
  },
  {
   "cell_type": "code",
   "execution_count": 110,
   "metadata": {},
   "outputs": [],
   "source": [
    "to_remove = np.random.choice(df_test[df_test['categories']==\"Restaurants\"].index,size=198000,replace=False)\n",
    "df_testv1=df_test.drop(to_remove)"
   ]
  },
  {
   "cell_type": "code",
   "execution_count": 111,
   "metadata": {},
   "outputs": [
    {
     "data": {
      "text/plain": [
       "Active Life      81607\n",
       "Beauty & Spas    77062\n",
       "Restaurants      76938\n",
       "Automotive       68805\n",
       "Shopping         62306\n",
       "Name: categories, dtype: int64"
      ]
     },
     "execution_count": 111,
     "metadata": {},
     "output_type": "execute_result"
    }
   ],
   "source": [
    "df_testv1.categories.value_counts()"
   ]
  },
  {
   "cell_type": "code",
   "execution_count": 112,
   "metadata": {},
   "outputs": [],
   "source": [
    "to_remove = np.random.choice(df_testv1[df_testv1['categories']==\"Restaurants\"].index,size=8000,replace=False)\n",
    "df_testv2=df_testv1.drop(to_remove)"
   ]
  },
  {
   "cell_type": "code",
   "execution_count": 108,
   "metadata": {},
   "outputs": [
    {
     "data": {
      "text/plain": [
       "(366718, 4)"
      ]
     },
     "execution_count": 108,
     "metadata": {},
     "output_type": "execute_result"
    }
   ],
   "source": [
    "df_testv1.shape"
   ]
  },
  {
   "cell_type": "markdown",
   "metadata": {},
   "source": [
    "### Basically ran the below code for almost all the values to bring them close to each other"
   ]
  },
  {
   "cell_type": "code",
   "execution_count": 101,
   "metadata": {},
   "outputs": [],
   "source": [
    "categories=df_testv2.categories.unique()"
   ]
  },
  {
   "cell_type": "code",
   "execution_count": 102,
   "metadata": {},
   "outputs": [
    {
     "data": {
      "text/plain": [
       "array(['Beauty & Spas', 'Restaurants', 'Automotive', 'Active Life',\n",
       "       'Shopping'], dtype=object)"
      ]
     },
     "execution_count": 102,
     "metadata": {},
     "output_type": "execute_result"
    }
   ],
   "source": [
    "categories"
   ]
  },
  {
   "cell_type": "code",
   "execution_count": 118,
   "metadata": {},
   "outputs": [],
   "source": [
    "to_remove = np.random.choice(df_testv2[df_testv2['categories']==\"Active Life\"].index,size=500,replace=False)\n",
    "df_testv2=df_testv2.drop(to_remove)"
   ]
  },
  {
   "cell_type": "code",
   "execution_count": 119,
   "metadata": {},
   "outputs": [
    {
     "data": {
      "text/plain": [
       "Restaurants      68938\n",
       "Automotive       68805\n",
       "Active Life      68607\n",
       "Beauty & Spas    68562\n",
       "Shopping         62306\n",
       "Name: categories, dtype: int64"
      ]
     },
     "execution_count": 119,
     "metadata": {},
     "output_type": "execute_result"
    }
   ],
   "source": [
    "df_testv2.categories.value_counts()"
   ]
  },
  {
   "cell_type": "code",
   "execution_count": 120,
   "metadata": {},
   "outputs": [],
   "source": [
    "categories=['Beauty & Spas', 'Automotive', 'Active Life','Restaurants']"
   ]
  },
  {
   "cell_type": "code",
   "execution_count": 121,
   "metadata": {},
   "outputs": [],
   "source": [
    "# creating a for loop to remove the data as all of the categories listed have almost similar values\n",
    "for i in categories:\n",
    "    to_remove = np.random.choice(df_testv2[df_testv2['categories']==i].index,size=6000,replace=False)\n",
    "    df_testv2=df_testv2.drop(to_remove)"
   ]
  },
  {
   "cell_type": "code",
   "execution_count": 122,
   "metadata": {},
   "outputs": [
    {
     "data": {
      "text/plain": [
       "Restaurants      62938\n",
       "Automotive       62805\n",
       "Active Life      62607\n",
       "Beauty & Spas    62562\n",
       "Shopping         62306\n",
       "Name: categories, dtype: int64"
      ]
     },
     "execution_count": 122,
     "metadata": {},
     "output_type": "execute_result"
    }
   ],
   "source": [
    "df_testv2.categories.value_counts()"
   ]
  },
  {
   "cell_type": "code",
   "execution_count": 123,
   "metadata": {},
   "outputs": [],
   "source": [
    "df_testv2.to_csv(\"tagging_dataset.csv\")"
   ]
  },
  {
   "cell_type": "code",
   "execution_count": 124,
   "metadata": {},
   "outputs": [
    {
     "data": {
      "text/plain": [
       "(313218, 4)"
      ]
     },
     "execution_count": 124,
     "metadata": {},
     "output_type": "execute_result"
    }
   ],
   "source": [
    "df_testv2.shape"
   ]
  }
 ],
 "metadata": {
  "kernelspec": {
   "display_name": "Python 3.7.13 ('testing': conda)",
   "language": "python",
   "name": "python3"
  },
  "language_info": {
   "codemirror_mode": {
    "name": "ipython",
    "version": 3
   },
   "file_extension": ".py",
   "mimetype": "text/x-python",
   "name": "python",
   "nbconvert_exporter": "python",
   "pygments_lexer": "ipython3",
   "version": "3.7.13"
  },
  "orig_nbformat": 4,
  "vscode": {
   "interpreter": {
    "hash": "192731ea277db662b579a828c85aad309123088d8e77f67eefa9e1d491522df8"
   }
  }
 },
 "nbformat": 4,
 "nbformat_minor": 2
}
